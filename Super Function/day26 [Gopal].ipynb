{
 "cells": [
  {
   "cell_type": "markdown",
   "id": "7d6ec222-6955-4ff0-a6b6-f6bc0aeda8ff",
   "metadata": {},
   "source": [
    "## super () function"
   ]
  },
  {
   "cell_type": "code",
   "execution_count": 6,
   "id": "916483a9-9fd3-433f-aa33-ae7387562a76",
   "metadata": {},
   "outputs": [
    {
     "name": "stdout",
     "output_type": "stream",
     "text": [
      "Person constructor called\n",
      "Student constructor called\n",
      "Name: Alice\n",
      "Student ID: 101\n"
     ]
    }
   ],
   "source": [
    "class Person:\n",
    "    def __init__(self, name):\n",
    "        self.name = name\n",
    "        print(\"Person constructor called\")\n",
    "\n",
    "class Student(Person):\n",
    "    def __init__(self, name, roll):\n",
    "        super().__init__(name)         ## super() is used to call the method of parent class inside child class\n",
    "        self.roll = roll\n",
    "        print(\"Student constructor called\")\n",
    "\n",
    "# Create a Student object\n",
    "s = Student(\"Alice\", 101)\n",
    "\n",
    "print(\"Name:\", s.name)\n",
    "print(\"Student ID:\", s.roll)\n"
   ]
  },
  {
   "cell_type": "code",
   "execution_count": 10,
   "id": "c10ca083-4231-4e6c-aae1-2755e20f054c",
   "metadata": {},
   "outputs": [
    {
     "name": "stdout",
     "output_type": "stream",
     "text": [
      "Alice (Female) logged in\n",
      "Student with roll number enrolled\n"
     ]
    }
   ],
   "source": [
    "class User:\n",
    "    def __init__(self, name, gender):\n",
    "        self.name = name\n",
    "        self.gender = gender\n",
    "\n",
    "    def login(self):\n",
    "        print(f\"{self.name} ({self.gender}) logged in\")\n",
    "\n",
    "class Student(User):\n",
    "    \n",
    "    def enroll(self):\n",
    "        print(\"Student with roll number enrolled\")\n",
    "\n",
    "# Create a Student object\n",
    "s1 = Student(\"Alice\", \"Female\",)\n",
    "\n",
    "# Call methods\n",
    "s1.login()\n",
    "s1.enroll()\n"
   ]
  },
  {
   "cell_type": "code",
   "execution_count": 20,
   "id": "c99d3e5b-9536-4539-bafa-13c94dd0d921",
   "metadata": {},
   "outputs": [
    {
     "name": "stdout",
     "output_type": "stream",
     "text": [
      "Customer Name:Gopal, Gender:male\n",
      "Sonipat Harayana 131001\n"
     ]
    }
   ],
   "source": [
    "# Aggregation \n",
    "class Customer:\n",
    "    def __init__(self,name,gender,address):\n",
    "        self.name = name\n",
    "        self.gender = gender\n",
    "        self.address = address\n",
    "        print(f\"Customer Name:{name}, Gender:{gender}\")\n",
    "    def print_address(self):\n",
    "        print(self.address.city, self.address.state, self.address.pin)\n",
    "\n",
    "class Address:\n",
    "    def __init__(self,city,state,pin):\n",
    "        self.city = city\n",
    "        self.state = state\n",
    "        self.pin = pin\n",
    "\n",
    "add  = Address(\"Sonipat\",\"Harayana\",131001)\n",
    "cust = Customer(\"Gopal\",\"male\",add)\n",
    "cust.print_address()"
   ]
  },
  {
   "cell_type": "markdown",
   "id": "9288f94a-af52-4de4-8499-bf414759b612",
   "metadata": {},
   "source": [
    "## Project ----- Library Management system "
   ]
  },
  {
   "cell_type": "code",
   "execution_count": 23,
   "id": "f61c35b8-b762-43db-abb0-e2ed458be39c",
   "metadata": {},
   "outputs": [
    {
     "name": "stdout",
     "output_type": "stream",
     "text": [
      "Item added successfully.\n",
      "\n",
      "Item added successfully.\n",
      "\n",
      "Library Collection:\n",
      "\n",
      "ID: 1\n",
      "Title: Python Basics\n",
      "Publisher: ABC Publishers\n",
      "Author: Alice Smith\n",
      "Pages: 300\n",
      "------------------------\n",
      "ID: 2\n",
      "Title: Science Weekly\n",
      "Publisher: XYZ Media\n",
      "Issue Number: 42\n",
      "Month: July\n",
      "------------------------\n",
      "Item Found:\n",
      "\n",
      "ID: 1\n",
      "Title: Python Basics\n",
      "Publisher: ABC Publishers\n",
      "Author: Alice Smith\n",
      "Pages: 300\n",
      "Item not found.\n",
      "\n"
     ]
    }
   ],
   "source": [
    "# Base class\n",
    "class LibraryItem:\n",
    "    def __init__(self, item_id, title, publisher):\n",
    "        self.item_id = item_id\n",
    "        self.title = title\n",
    "        self.publisher = publisher\n",
    "\n",
    "    def display_details(self):\n",
    "        print(\"ID:\", self.item_id)\n",
    "        print(\"Title:\", self.title)\n",
    "        print(\"Publisher:\", self.publisher)\n",
    "\n",
    "# Derived class for Book\n",
    "class Book(LibraryItem):\n",
    "    def __init__(self, item_id, title, publisher, author, pages):\n",
    "        super().__init__(item_id, title, publisher)\n",
    "        self.author = author\n",
    "        self.pages = pages\n",
    "\n",
    "    def display_details(self):\n",
    "        super().display_details()\n",
    "        print(\"Author:\", self.author)\n",
    "        print(\"Pages:\", self.pages)\n",
    "\n",
    "# Derived class for Magazine\n",
    "class Magazine(LibraryItem):\n",
    "    def __init__(self, item_id, title, publisher, issue_number, month):\n",
    "        super().__init__(item_id, title, publisher)\n",
    "        self.issue_number = issue_number\n",
    "        self.month = month\n",
    "\n",
    "    def display_details(self):\n",
    "        super().display_details()\n",
    "        print(\"Issue Number:\", self.issue_number)\n",
    "        print(\"Month:\", self.month)\n",
    "\n",
    "# Library class to manage items\n",
    "class Library:\n",
    "    def __init__(self):\n",
    "        self.items = []\n",
    "\n",
    "    def add_item(self, item):\n",
    "        self.items.append(item)\n",
    "        print(\"Item added successfully.\\n\")\n",
    "\n",
    "    def view_all_items(self):\n",
    "        if not self.items:\n",
    "            print(\"Library is empty.\\n\")\n",
    "        else:\n",
    "            print(\"Library Collection:\\n\")\n",
    "            for item in self.items:\n",
    "                item.display_details()\n",
    "                print(\"------------------------\")\n",
    "\n",
    "    def search_by_title(self, title):\n",
    "        found = False\n",
    "        for item in self.items:\n",
    "            if item.title.lower() == title.lower():\n",
    "                print(\"Item Found:\\n\")\n",
    "                item.display_details()\n",
    "                found = True\n",
    "                break\n",
    "        if not found:\n",
    "            print(\"Item not found.\\n\")\n",
    "\n",
    "# Testing the system\n",
    "if __name__ == \"__main__\":\n",
    "    library = Library()\n",
    "\n",
    "    # Creating items\n",
    "    book1 = Book(1, \"Python Basics\", \"ABC Publishers\", \"Alice Smith\", 300)\n",
    "    magazine1 = Magazine(2, \"Science Weekly\", \"XYZ Media\", 42, \"July\")\n",
    "\n",
    "    # Adding items to library\n",
    "    library.add_item(book1)\n",
    "    library.add_item(magazine1)\n",
    "\n",
    "    # Viewing all items\n",
    "    library.view_all_items()\n",
    "\n",
    "    # Searching for an item\n",
    "    library.search_by_title(\"Python Basics\")\n",
    "    library.search_by_title(\"Unknown Title\")\n"
   ]
  },
  {
   "cell_type": "code",
   "execution_count": null,
   "id": "6b78b648-e655-41e6-8256-3d22d9621693",
   "metadata": {},
   "outputs": [],
   "source": []
  }
 ],
 "metadata": {
  "kernelspec": {
   "display_name": "Python [conda env:base] *",
   "language": "python",
   "name": "conda-base-py"
  },
  "language_info": {
   "codemirror_mode": {
    "name": "ipython",
    "version": 3
   },
   "file_extension": ".py",
   "mimetype": "text/x-python",
   "name": "python",
   "nbconvert_exporter": "python",
   "pygments_lexer": "ipython3",
   "version": "3.12.7"
  }
 },
 "nbformat": 4,
 "nbformat_minor": 5
}
