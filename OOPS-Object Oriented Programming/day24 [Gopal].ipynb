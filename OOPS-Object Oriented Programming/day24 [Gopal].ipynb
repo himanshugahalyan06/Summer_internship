{
 "cells": [
  {
   "cell_type": "code",
   "execution_count": 13,
   "id": "6da7d2cf-29dc-4d2d-bda9-a20adbc3f0db",
   "metadata": {},
   "outputs": [
    {
     "name": "stdout",
     "output_type": "stream",
     "text": [
      "address of self= 2096469932608\n",
      "Namaste Gopal\n",
      "Address of obj= 2096469932608\n"
     ]
    }
   ],
   "source": [
    "# self \n",
    "\n",
    "class Person:\n",
    "    def __init__(self,input_name,input_country):\n",
    "        self.name = input_name\n",
    "        self.country = input_country\n",
    "        print(\"address of self=\",id(self))\n",
    "        \n",
    "    def greet(self,name,country):\n",
    "        if self.country== 'India':\n",
    "            print(\"Namaste\",self.name)\n",
    "        else:\n",
    "            print(\"Hello\",self.name)\n",
    "\n",
    "obj = Person(\"Gopal\",\"India\")\n",
    "obj.greet(\"Gopal\",\"India\")\n",
    "\n",
    "print(\"Address of obj=\",id(obj))"
   ]
  },
  {
   "cell_type": "code",
   "execution_count": 15,
   "id": "f168abd9-a156-48a4-afc4-954796e616d8",
   "metadata": {},
   "outputs": [
    {
     "data": {
      "text/plain": [
       "'Gopal'"
      ]
     },
     "execution_count": 15,
     "metadata": {},
     "output_type": "execute_result"
    }
   ],
   "source": [
    "# how to access attributes\n",
    "obj.name"
   ]
  },
  {
   "cell_type": "code",
   "execution_count": 17,
   "id": "82c72c9d-8710-4a24-b138-db189ed88db9",
   "metadata": {},
   "outputs": [
    {
     "data": {
      "text/plain": [
       "'India'"
      ]
     },
     "execution_count": 17,
     "metadata": {},
     "output_type": "execute_result"
    }
   ],
   "source": [
    "obj.country"
   ]
  },
  {
   "cell_type": "code",
   "execution_count": 19,
   "id": "68ea5b51-9cae-4656-8d15-6beff08a92db",
   "metadata": {},
   "outputs": [
    {
     "name": "stdout",
     "output_type": "stream",
     "text": [
      "Namaste Gopal\n"
     ]
    }
   ],
   "source": [
    "# how to access method\n",
    "obj.greet(\"Jhon\",\"england\")"
   ]
  },
  {
   "cell_type": "code",
   "execution_count": 23,
   "id": "d8d1f0f3-6446-4264-a71b-52a0432557c8",
   "metadata": {},
   "outputs": [
    {
     "data": {
      "text/plain": [
       "'male'"
      ]
     },
     "execution_count": 23,
     "metadata": {},
     "output_type": "execute_result"
    }
   ],
   "source": [
    "# what if i try to access non-existent attribute\n",
    "obj.gender = \"male\"\n",
    "\n",
    "obj.gender"
   ]
  },
  {
   "cell_type": "markdown",
   "id": "c735a953-688a-420e-a84d-e9d30a7fb5fe",
   "metadata": {},
   "source": [
    "## Attribute Creation from outside the class"
   ]
  },
  {
   "cell_type": "code",
   "execution_count": 26,
   "id": "0d01878c-9fba-42aa-9c59-dece0a03b252",
   "metadata": {},
   "outputs": [
    {
     "data": {
      "text/plain": [
       "'Raj'"
      ]
     },
     "execution_count": 26,
     "metadata": {},
     "output_type": "execute_result"
    }
   ],
   "source": [
    "obj.name = \"Raj\"\n",
    "\n",
    "obj.name"
   ]
  },
  {
   "cell_type": "code",
   "execution_count": 66,
   "id": "e7039be0-0858-490a-802e-d87f4d93e413",
   "metadata": {},
   "outputs": [],
   "source": [
    "class Atm:\n",
    "\n",
    "    def __init__(self):\n",
    "        self.pin = ''\n",
    "        self.__balance = 0\n",
    "        self.show_balance()\n",
    "        \n",
    "    def show_balance(self):\n",
    "        print(\"Your Available Balance is:\", self.__balance)\n"
   ]
  },
  {
   "cell_type": "code",
   "execution_count": 68,
   "id": "ed9e5fbe-be75-4ebf-8467-745ff9510835",
   "metadata": {},
   "outputs": [
    {
     "name": "stdout",
     "output_type": "stream",
     "text": [
      "Your Available Balance is: 0\n"
     ]
    }
   ],
   "source": [
    "obj = Atm()"
   ]
  },
  {
   "cell_type": "code",
   "execution_count": 70,
   "id": "4dc7eec1-bbf7-4843-a670-8aede7d407cd",
   "metadata": {},
   "outputs": [
    {
     "data": {
      "text/plain": [
       "1000"
      ]
     },
     "execution_count": 70,
     "metadata": {},
     "output_type": "execute_result"
    }
   ],
   "source": [
    "obj.balance = 1000\n",
    "\n",
    "obj.balance"
   ]
  },
  {
   "cell_type": "code",
   "execution_count": 72,
   "id": "73231efc-aab2-477f-b43d-70c57d575b71",
   "metadata": {},
   "outputs": [
    {
     "data": {
      "text/plain": [
       "1000"
      ]
     },
     "execution_count": 72,
     "metadata": {},
     "output_type": "execute_result"
    }
   ],
   "source": [
    "obj.balance"
   ]
  },
  {
   "cell_type": "code",
   "execution_count": 114,
   "id": "2485eaf3-6df2-477b-9c13-5e0b58cad7dc",
   "metadata": {},
   "outputs": [
    {
     "name": "stdout",
     "output_type": "stream",
     "text": [
      "Gopal\n",
      "Ankush\n",
      "Gopal\n"
     ]
    }
   ],
   "source": [
    "# object without refrence \n",
    "\n",
    "class Person:\n",
    "    def __init__(self):\n",
    "        self.name = 'Gopal'\n",
    "        self.gender = 'male'\n",
    "\n",
    "\n",
    "p = Person()\n",
    "q = Person()      # refrence variabls holds the object \n",
    "\n",
    "print(p.name)\n",
    "q.name = \"Ankush\"\n",
    "\n",
    "print(q.name)\n",
    "\n",
    "print(p.name)"
   ]
  },
  {
   "cell_type": "code",
   "execution_count": 116,
   "id": "2e6cffc2-2459-4e20-90b4-2fc95963fabb",
   "metadata": {},
   "outputs": [
    {
     "data": {
      "text/plain": [
       "'Gopal'"
      ]
     },
     "execution_count": 116,
     "metadata": {},
     "output_type": "execute_result"
    }
   ],
   "source": [
    "p.name"
   ]
  },
  {
   "cell_type": "code",
   "execution_count": 118,
   "id": "953c00d9-b99c-43d0-9e85-5ed5791ac167",
   "metadata": {},
   "outputs": [
    {
     "data": {
      "text/plain": [
       "'Ankush'"
      ]
     },
     "execution_count": 118,
     "metadata": {},
     "output_type": "execute_result"
    }
   ],
   "source": [
    "q.name"
   ]
  },
  {
   "cell_type": "code",
   "execution_count": 122,
   "id": "55e44140-9b6f-4717-ba1d-8572756c6102",
   "metadata": {},
   "outputs": [
    {
     "name": "stdout",
     "output_type": "stream",
     "text": [
      "address of p 2096488075808\n",
      "address of q 2096490691616\n"
     ]
    }
   ],
   "source": [
    "print(\"address of p\", id(p))\n",
    "print(\"address of q\",id(q))"
   ]
  },
  {
   "cell_type": "code",
   "execution_count": 128,
   "id": "8079ca49-044a-4e0c-aec3-ad8dc1e5f09d",
   "metadata": {},
   "outputs": [
    {
     "name": "stdin",
     "output_type": "stream",
     "text": [
      "\n",
      "1. Pin create - Press:1\n",
      "2. Pin change - Press:2\n",
      "3. Check Balance - Press:3\n",
      "4. Withdrawal - Press:4\n",
      "5. Exit - Press:5\n",
      "Enter your choice:  1\n",
      "Enter your account no:  0000\n",
      "Enter four digit Pin:  1234\n"
     ]
    },
    {
     "name": "stdout",
     "output_type": "stream",
     "text": [
      "Your Pin created successfully !!\n"
     ]
    },
    {
     "name": "stdin",
     "output_type": "stream",
     "text": [
      "\n",
      "1. Pin create - Press:1\n",
      "2. Pin change - Press:2\n",
      "3. Check Balance - Press:3\n",
      "4. Withdrawal - Press:4\n",
      "5. Exit - Press:5\n",
      "Enter your choice:  3\n",
      "Enter your Pin to check balance:  1234\n"
     ]
    },
    {
     "name": "stdout",
     "output_type": "stream",
     "text": [
      "Available Balance is: ₹ 10000000\n"
     ]
    },
    {
     "name": "stdin",
     "output_type": "stream",
     "text": [
      "\n",
      "1. Pin create - Press:1\n",
      "2. Pin change - Press:2\n",
      "3. Check Balance - Press:3\n",
      "4. Withdrawal - Press:4\n",
      "5. Exit - Press:5\n",
      "Enter your choice:  5\n"
     ]
    },
    {
     "name": "stdout",
     "output_type": "stream",
     "text": [
      "Thank you for using the ATM!\n"
     ]
    }
   ],
   "source": [
    "import time\n",
    "\n",
    "class Atm:\n",
    "    def __init__(self):\n",
    "        self.pin = ''\n",
    "        self.__balance = 10000000  # private balance\n",
    "        self.account_num = '0000'\n",
    "        self.menu()\n",
    "\n",
    "    # Getter for balance\n",
    "    def get_balance(self):\n",
    "        return self.__balance\n",
    "\n",
    "    # Setter for balance\n",
    "    def set_balance(self, amount):\n",
    "        self.__balance = amount\n",
    "\n",
    "    def create_pin(self):\n",
    "        ac_input = input(\"Enter your account no: \")\n",
    "        if self.account_num == ac_input:\n",
    "            input_pin = input(\"Enter four digit Pin: \")\n",
    "            self.pin = input_pin\n",
    "            print(\"Your Pin created successfully !!\")\n",
    "        else:\n",
    "            print(\"Wrong Account Number !!\")\n",
    "\n",
    "    def change_pin(self):\n",
    "        old_pin = input(\"Enter your old pin: \")\n",
    "        if old_pin == self.pin:\n",
    "            new_pin = input(\"Enter Your New Pin: \")\n",
    "            self.pin = new_pin\n",
    "            print(\"Your Pin Changed Successfully !!\")\n",
    "        else:\n",
    "            print(\"Wrong Pin !! Enter Correct Pin !!\")\n",
    "\n",
    "    def check_balance(self):\n",
    "        attempts = 0\n",
    "        while attempts < 3:\n",
    "            enter_pin = input(\"Enter your Pin to check balance: \")\n",
    "            if self.pin == enter_pin:\n",
    "                print(\"Available Balance is: ₹\", self.get_balance())\n",
    "                return\n",
    "            else:\n",
    "                print(\"Wrong PIN!\")\n",
    "                attempts += 1\n",
    "\n",
    "        print(\"Too many incorrect attempts. Account is in sleep mode for 1 minutes.\")\n",
    "        time.sleep(60)\n",
    "\n",
    "    def withdrawal(self):\n",
    "        attempts = 0\n",
    "        while attempts < 3:\n",
    "            enter_pin = input(\"Enter your Pin to withdraw: \")\n",
    "            if self.pin == enter_pin:\n",
    "                try:\n",
    "                    amount = int(input(\"Enter amount to withdraw: ₹\"))\n",
    "                    if amount <= self.get_balance():\n",
    "                        self.set_balance(self.get_balance() - amount)\n",
    "                        print(f\"₹{amount} withdrawn successfully.\")\n",
    "                        print(\"Remaining Balance: ₹\", self.get_balance())\n",
    "                    else:\n",
    "                        print(\"Insufficient balance.\")\n",
    "                except ValueError:\n",
    "                    print(\"Invalid amount entered.\")\n",
    "                return\n",
    "            else:\n",
    "                print(\"Wrong PIN!\")\n",
    "                attempts += 1\n",
    "\n",
    "        print(\"Too many incorrect attempts. Account is in sleep mode for 1 minutes.\")\n",
    "        time.sleep(60)\n",
    "\n",
    "    def menu(self):\n",
    "        user_input = input('''\n",
    "1. Pin create - Press:1\n",
    "2. Pin change - Press:2\n",
    "3. Check Balance - Press:3\n",
    "4. Withdrawal - Press:4\n",
    "5. Exit - Press:5\n",
    "Enter your choice: ''')\n",
    "\n",
    "        if user_input == '1':\n",
    "            self.create_pin()\n",
    "            self.menu()\n",
    "        elif user_input == '2':\n",
    "            self.change_pin()\n",
    "            self.menu()\n",
    "        elif user_input == '3':\n",
    "            self.check_balance()\n",
    "            self.menu()\n",
    "        elif user_input == '4':\n",
    "            self.withdrawal()\n",
    "            self.menu()\n",
    "        elif user_input == '5':\n",
    "            print(\"Thank you for using the ATM!\")\n",
    "        else:\n",
    "            print(\"Invalid input! Try again.\")\n",
    "            self.menu()\n",
    "\n",
    "# Create object to run the ATM system\n",
    "obj = Atm()\n"
   ]
  },
  {
   "cell_type": "code",
   "execution_count": 132,
   "id": "c0486d0f-41f7-47f8-aa5a-a802fefccddc",
   "metadata": {},
   "outputs": [
    {
     "name": "stdout",
     "output_type": "stream",
     "text": [
      "The Balance of your account is:  1500\n",
      "\n"
     ]
    },
    {
     "ename": "AttributeError",
     "evalue": "'BankAccount' object has no attribute '__balance'",
     "output_type": "error",
     "traceback": [
      "\u001b[1;31m---------------------------------------------------------------------------\u001b[0m",
      "\u001b[1;31mAttributeError\u001b[0m                            Traceback (most recent call last)",
      "Cell \u001b[1;32mIn[132], line 14\u001b[0m\n\u001b[0;32m     12\u001b[0m \u001b[38;5;28mprint\u001b[39m(\u001b[38;5;124m\"\u001b[39m\u001b[38;5;124mThe Balance of your account is: \u001b[39m\u001b[38;5;124m\"\u001b[39m,acc\u001b[38;5;241m.\u001b[39mget_balance())  \u001b[38;5;66;03m# 1500\u001b[39;00m\n\u001b[0;32m     13\u001b[0m \u001b[38;5;28mprint\u001b[39m()\n\u001b[1;32m---> 14\u001b[0m \u001b[38;5;28mprint\u001b[39m(acc\u001b[38;5;241m.\u001b[39m__balance)\n",
      "\u001b[1;31mAttributeError\u001b[0m: 'BankAccount' object has no attribute '__balance'"
     ]
    }
   ],
   "source": [
    "class BankAccount:\n",
    "    def __init__ (self, owner, balance):\n",
    "        self. owner = owner\n",
    "        self.__balance = balance # private variable\n",
    "    def deposit(self, amount):\n",
    "        self.__balance += amount\n",
    "\n",
    "    def get_balance(self):\n",
    "        return self.__balance\n",
    "acc = BankAccount (\"John\", 1000)\n",
    "acc.deposit (500)\n",
    "print(\"The Balance of your account is: \",acc.get_balance())  # 1500\n",
    "print()\n",
    "print(acc.__balance)  # Error (nnivate)"
   ]
  },
  {
   "cell_type": "code",
   "execution_count": 136,
   "id": "69e9e1af-6ba8-4c55-8887-c0fdba7aaaf7",
   "metadata": {},
   "outputs": [
    {
     "name": "stdout",
     "output_type": "stream",
     "text": [
      "gopal 101\n",
      "raj 102\n"
     ]
    }
   ],
   "source": [
    "# instance variable \n",
    "class Student:\n",
    "    def __init__(self,name,roll):\n",
    "        self.name = name\n",
    "        self.roll = roll\n",
    "\n",
    "s1 = Student(\"gopal\",101)\n",
    "s2 = Student(\"raj\",102)\n",
    "\n",
    "\n",
    "print(s1.name , s1.roll)\n",
    "print(s2.name , s2.roll)"
   ]
  },
  {
   "cell_type": "code",
   "execution_count": 148,
   "id": "8e98fe5d-c465-46e6-9544-a7615384513e",
   "metadata": {},
   "outputs": [
    {
     "name": "stdout",
     "output_type": "stream",
     "text": [
      "Geeta University\n",
      "Geeta University\n",
      "OpenAI University\n",
      "OpenAI University\n"
     ]
    }
   ],
   "source": [
    "class Student:\n",
    "    # Static variable\n",
    "    school_name = \"Geeta University\"\n",
    "\n",
    "    def __init__(self, name):\n",
    "        self.name = name  # instance variable\n",
    "\n",
    "# Creating objects\n",
    "s1 = Student(\"Alice\")\n",
    "s2 = Student(\"Bob\")\n",
    "\n",
    "# Accessing static variable\n",
    "print(s1.school_name)  # Geeta University\n",
    "print(s2.school_name)  # Geeta University\n",
    "\n",
    "# Changing static variable through class\n",
    "Student.school_name = \"OpenAI University\"\n",
    "\n",
    "# All objects see the updated value\n",
    "print(s1.school_name)  # OpenAI University\n",
    "print(s2.school_name)  # OpenAI University\n"
   ]
  },
  {
   "cell_type": "code",
   "execution_count": 146,
   "id": "0f680a65-6156-4b2d-891f-cbeab6e85ab5",
   "metadata": {},
   "outputs": [
    {
     "name": "stdout",
     "output_type": "stream",
     "text": [
      "3\n"
     ]
    }
   ],
   "source": [
    "# accessing static variable inside the method \n",
    "\n",
    "class Counter:\n",
    "    count = 0\n",
    "    def __init__(self):\n",
    "        Counter.count += 1\n",
    "    @classmethod\n",
    "    def get_count(cls):\n",
    "        return cls.count\n",
    "\n",
    "c1 = Counter()\n",
    "c2 = Counter()\n",
    "c2 = Counter()\n",
    "print(Counter.get_count())"
   ]
  },
  {
   "cell_type": "code",
   "execution_count": 152,
   "id": "0ff93982-dd0d-4337-84e9-792573839f28",
   "metadata": {},
   "outputs": [
    {
     "name": "stdout",
     "output_type": "stream",
     "text": [
      "John 50000 TechCorp\n"
     ]
    }
   ],
   "source": [
    "#changing the value of static variable\n",
    "class Employee:\n",
    "    company = \"TechCorp\" # Static variable\n",
    "    def __init__(self, name, salary):\n",
    "        self.name = name\n",
    "    # Instance variable\n",
    "        self.salary = salary\n",
    "    # Instance variable\n",
    "    # Create employee objects\n",
    "e1 = Employee (\"John\", 50000)\n",
    "e2 = Employee(\"Jane\", 60000)\n",
    "    # Accessing static and instance variables\n",
    "print(e1.name, e1. salary, e1. company) # John 50000 TechCorp print(e2. name, e2. salary, e2. company) # Jane 60000 TechCorp\n",
    "    # Changing static variable\n",
    "Employee.company = \"SoftInc\""
   ]
  },
  {
   "cell_type": "code",
   "execution_count": null,
   "id": "bbdd936b-f80f-4cca-b831-18df4c4d1aec",
   "metadata": {},
   "outputs": [],
   "source": [
    "print(e1.company)\n"
   ]
  }
 ],
 "metadata": {
  "kernelspec": {
   "display_name": "Python [conda env:base] *",
   "language": "python",
   "name": "conda-base-py"
  },
  "language_info": {
   "codemirror_mode": {
    "name": "ipython",
    "version": 3
   },
   "file_extension": ".py",
   "mimetype": "text/x-python",
   "name": "python",
   "nbconvert_exporter": "python",
   "pygments_lexer": "ipython3",
   "version": "3.12.7"
  }
 },
 "nbformat": 4,
 "nbformat_minor": 5
}
