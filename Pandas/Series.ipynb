{
 "cells": [
  {
   "cell_type": "code",
   "execution_count": 2,
   "id": "0df71748",
   "metadata": {},
   "outputs": [
    {
     "data": {
      "text/plain": [
       "0    1\n",
       "1    2\n",
       "2    3\n",
       "3    4\n",
       "4    5\n",
       "5    6\n",
       "dtype: int64"
      ]
     },
     "execution_count": 2,
     "metadata": {},
     "output_type": "execute_result"
    }
   ],
   "source": [
    "## Pandas fandas is a fast, flerible, friesfal and opensource data analysis and manupulativa took to clean or analysis the dits.\n",
    "# It is widely wed in → Osta science\n",
    "# machine learning\n",
    "# Web Scraping\n",
    "\n",
    "## Data Structure are --> Series 1D , Data Frame 2D\n",
    "\n",
    "import pandas as pd\n",
    "\n",
    "var =[1,2,3,4,5,6]\n",
    "\n",
    "s=pd.Series(var)\n",
    "s\n",
    "\n",
    "\n"
   ]
  },
  {
   "cell_type": "code",
   "execution_count": 3,
   "id": "2a5bf685",
   "metadata": {},
   "outputs": [
    {
     "data": {
      "text/plain": [
       "a    1.0\n",
       "b    2.0\n",
       "c    3.0\n",
       "d    4.0\n",
       "e    5.0\n",
       "f    6.0\n",
       "Name: Python Series, dtype: float64"
      ]
     },
     "execution_count": 3,
     "metadata": {},
     "output_type": "execute_result"
    }
   ],
   "source": [
    "s=pd.Series(var,index=['a','b','c','d','e','f'],dtype='float',name='Python Series')\n",
    "s\n"
   ]
  },
  {
   "cell_type": "code",
   "execution_count": 4,
   "id": "37cd392e",
   "metadata": {},
   "outputs": [
    {
     "data": {
      "text/plain": [
       "0        Apple\n",
       "1       Banana\n",
       "2       Papaya\n",
       "3        Mango\n",
       "4    Pineapple\n",
       "Name: Fruits_Series, dtype: object"
      ]
     },
     "execution_count": 4,
     "metadata": {},
     "output_type": "execute_result"
    }
   ],
   "source": [
    "fruits=['Apple','Banana','Papaya','Mango','Pineapple']\n",
    "fruits_series=pd.Series(fruits,name=\"Fruits_Series\")\n",
    "fruits_series\n"
   ]
  },
  {
   "cell_type": "code",
   "execution_count": 5,
   "id": "40ae223f",
   "metadata": {},
   "outputs": [
    {
     "data": {
      "text/plain": [
       "maths       67\n",
       "english     57\n",
       "science     89\n",
       "hindi      100\n",
       "Name: Student_Marks, dtype: int64"
      ]
     },
     "execution_count": 5,
     "metadata": {},
     "output_type": "execute_result"
    }
   ],
   "source": [
    "# Series from a Dictionary\n",
    "marks={\n",
    "    'maths':67,\n",
    "    'english':57,\n",
    "    'science':89,\n",
    "    'hindi':100\n",
    "}\n",
    "\n",
    "s=pd.Series(marks,name='Student_Marks')\n",
    "s\n"
   ]
  },
  {
   "cell_type": "code",
   "execution_count": 6,
   "id": "80fb6f12",
   "metadata": {},
   "outputs": [
    {
     "data": {
      "text/plain": [
       "maths      66\n",
       "english    78\n",
       "science    90\n",
       "hindi      65\n",
       "history    70\n",
       "Name: Students_Marks, dtype: int64"
      ]
     },
     "execution_count": 6,
     "metadata": {},
     "output_type": "execute_result"
    }
   ],
   "source": [
    "# custom index \n",
    "marks=[66,78,90,65,70]\n",
    "subject=['maths','english','science','hindi','history']\n",
    "student_data=pd.Series(marks,index=subject,name='Students_Marks')\n",
    "student_data\n"
   ]
  },
  {
   "cell_type": "markdown",
   "id": "dfbf2921",
   "metadata": {},
   "source": [
    "## Series Attributes  if we write () then its a method if not then its a attributes\n",
    "\n",
    "\n"
   ]
  },
  {
   "cell_type": "code",
   "execution_count": 7,
   "id": "ccd595a1",
   "metadata": {},
   "outputs": [
    {
     "data": {
      "text/plain": [
       "5"
      ]
     },
     "execution_count": 7,
     "metadata": {},
     "output_type": "execute_result"
    }
   ],
   "source": [
    "# size\n",
    "student_data.size\n"
   ]
  },
  {
   "cell_type": "code",
   "execution_count": 8,
   "id": "ac64e556",
   "metadata": {},
   "outputs": [
    {
     "data": {
      "text/plain": [
       "dtype('int64')"
      ]
     },
     "execution_count": 8,
     "metadata": {},
     "output_type": "execute_result"
    }
   ],
   "source": [
    "# dtype\n",
    "student_data.dtype\n"
   ]
  },
  {
   "cell_type": "code",
   "execution_count": 9,
   "id": "78d249c8",
   "metadata": {},
   "outputs": [
    {
     "data": {
      "text/plain": [
       "'Students_Marks'"
      ]
     },
     "execution_count": 9,
     "metadata": {},
     "output_type": "execute_result"
    }
   ],
   "source": [
    "# name\n",
    "student_data.name\n"
   ]
  },
  {
   "cell_type": "code",
   "execution_count": 10,
   "id": "0792835e",
   "metadata": {},
   "outputs": [
    {
     "data": {
      "text/plain": [
       "Index(['maths', 'english', 'science', 'hindi', 'history'], dtype='object')"
      ]
     },
     "execution_count": 10,
     "metadata": {},
     "output_type": "execute_result"
    }
   ],
   "source": [
    "# index\n",
    "student_data.index\n",
    "\n"
   ]
  },
  {
   "cell_type": "code",
   "execution_count": 11,
   "id": "e08cd8d6",
   "metadata": {},
   "outputs": [
    {
     "data": {
      "text/plain": [
       "array([66, 78, 90, 65, 70], dtype=int64)"
      ]
     },
     "execution_count": 11,
     "metadata": {},
     "output_type": "execute_result"
    }
   ],
   "source": [
    "# values it will return in arrya same for index in array form \n",
    "student_data.values\n"
   ]
  },
  {
   "cell_type": "code",
   "execution_count": null,
   "id": "928ab5d5",
   "metadata": {},
   "outputs": [],
   "source": []
  }
 ],
 "metadata": {
  "kernelspec": {
   "display_name": "Python 3",
   "language": "python",
   "name": "python3"
  },
  "language_info": {
   "codemirror_mode": {
    "name": "ipython",
    "version": 3
   },
   "file_extension": ".py",
   "mimetype": "text/x-python",
   "name": "python",
   "nbconvert_exporter": "python",
   "pygments_lexer": "ipython3",
   "version": "3.11.8"
  }
 },
 "nbformat": 4,
 "nbformat_minor": 5
}
