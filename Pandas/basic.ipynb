## Pandas fandas is a fast, flerible, friesfal and opensource data analysis and manupulativa took to clean or analysis the dits.
# It is widely wed in → Osta science
# machine learning
# Web Scraping

## Data Structure are --> Series 1D , Data Frame 2D

import pandas as pd

var =[1,2,3,4,5,6]

s=pd.Series(var)
print(s)

s=pd.Series(var,index=['a','b','c','d','e','f'],dtype='float',name='Python Series')
print(s)

fruits=['Apple','Banana','Papaya','Mango','Pineapple']
fruits_series=pd.Series(fruits,name="Fruits_Series")
print(fruits_series)

# custom index 
marks=[66,78,90,65,70]
subject=['maths','english','science','hindi','history']
student_data=pd.Series(marks,index=subject,name='Students_Marks')
print(student_data)


# Series from a Dictionary
marks={
    'maths':67,
    'english':57,
    'science':89,
    'hindi':100
}

s=pd.Series(marks,name='Student_Marks')
print(s)

