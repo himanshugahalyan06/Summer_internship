{
 "cells": [
  {
   "cell_type": "markdown",
   "id": "178cf076-6721-47d4-8e84-180b8c20fe16",
   "metadata": {},
   "source": [
    "## Sets"
   ]
  },
  {
   "cell_type": "code",
   "execution_count": 2,
   "id": "1852a8b4-6b1f-4490-818a-b95b39563cdd",
   "metadata": {},
   "outputs": [
    {
     "data": {
      "text/plain": [
       "{1, 2, 3}"
      ]
     },
     "execution_count": 2,
     "metadata": {},
     "output_type": "execute_result"
    }
   ],
   "source": [
    "#  set of integers\n",
    "\n",
    "my_set = {1,2,3}\n",
    "my_set"
   ]
  },
  {
   "cell_type": "code",
   "execution_count": 4,
   "id": "77731abf-72bf-4a13-a8d6-6e3ee990ce2b",
   "metadata": {},
   "outputs": [
    {
     "data": {
      "text/plain": [
       "{1, 4.45, 'hello'}"
      ]
     },
     "execution_count": 4,
     "metadata": {},
     "output_type": "execute_result"
    }
   ],
   "source": [
    "# set of mixed values \n",
    "mixed_set = {1,'hello',4.45}\n",
    "mixed_set"
   ]
  },
  {
   "cell_type": "code",
   "execution_count": 8,
   "id": "f7f6a3dd-a9a3-4522-b1ae-3db6a5cf557e",
   "metadata": {},
   "outputs": [
    {
     "data": {
      "text/plain": [
       "{1, 2, 3, 4, 5, 6}"
      ]
     },
     "execution_count": 8,
     "metadata": {},
     "output_type": "execute_result"
    }
   ],
   "source": [
    "my_set = {1,2,3,2,4,4,5,6,6}    # set can not have duplicate values \n",
    "my_set"
   ]
  },
  {
   "cell_type": "code",
   "execution_count": 10,
   "id": "60243d28-939d-4fb8-9a98-c1750ac9a43e",
   "metadata": {},
   "outputs": [
    {
     "data": {
      "text/plain": [
       "set"
      ]
     },
     "execution_count": 10,
     "metadata": {},
     "output_type": "execute_result"
    }
   ],
   "source": [
    "type(my_set)"
   ]
  },
  {
   "cell_type": "code",
   "execution_count": 12,
   "id": "c1e08a5b-24c8-4953-a0e3-784c79cf59ba",
   "metadata": {},
   "outputs": [],
   "source": [
    "#  set cannot have multiple data structure (like - list , dictionary)"
   ]
  },
  {
   "cell_type": "code",
   "execution_count": 14,
   "id": "0d4d8c37-a198-4111-936b-6d7bd562aff0",
   "metadata": {},
   "outputs": [
    {
     "data": {
      "text/plain": [
       "{'a', 'e', 'i', 'o', 'u'}"
      ]
     },
     "execution_count": 14,
     "metadata": {},
     "output_type": "execute_result"
    }
   ],
   "source": [
    "#  we can make set of a list\n",
    "\n",
    "vowel_set = set(['a','e','i','o','u'])\n",
    "vowel_set\n"
   ]
  },
  {
   "cell_type": "code",
   "execution_count": 16,
   "id": "400babb3-55a8-400e-a47e-f7ee79400332",
   "metadata": {},
   "outputs": [
    {
     "data": {
      "text/plain": [
       "{'a', 'e', 'i', 'o', 'u'}"
      ]
     },
     "execution_count": 16,
     "metadata": {},
     "output_type": "execute_result"
    }
   ],
   "source": [
    "vowels = ['a','e','i','o','u']\n",
    "vowel_set = set(vowels)\n",
    "vowel_set"
   ]
  },
  {
   "cell_type": "code",
   "execution_count": 26,
   "id": "1c9afdc6-0d89-44f0-b0b1-86b30434412d",
   "metadata": {},
   "outputs": [
    {
     "data": {
      "text/plain": [
       "dict"
      ]
     },
     "execution_count": 26,
     "metadata": {},
     "output_type": "execute_result"
    }
   ],
   "source": [
    "# creating an empty set \n",
    "\n",
    "# 1 initialize a with {}\n",
    "a = {}\n",
    "type(a)"
   ]
  },
  {
   "cell_type": "code",
   "execution_count": 28,
   "id": "287d044a-32a6-4760-a860-eae2bb71455e",
   "metadata": {},
   "outputs": [
    {
     "data": {
      "text/plain": [
       "set"
      ]
     },
     "execution_count": 28,
     "metadata": {},
     "output_type": "execute_result"
    }
   ],
   "source": [
    "# 2 with set \n",
    "a = set()\n",
    "type(a)\n"
   ]
  },
  {
   "cell_type": "code",
   "execution_count": 32,
   "id": "1a79a606-90f7-4d75-b402-955bb3baedfb",
   "metadata": {},
   "outputs": [
    {
     "data": {
      "text/plain": [
       "{1, 4.45, 'gopal', 'hello'}"
      ]
     },
     "execution_count": 32,
     "metadata": {},
     "output_type": "execute_result"
    }
   ],
   "source": [
    "# add method \n",
    "mixed_set = {1,'hello',4.45}\n",
    "mixed_set.add(\"gopal\")\n",
    "mixed_set"
   ]
  },
  {
   "cell_type": "code",
   "execution_count": 38,
   "id": "a272cec5-5fb4-4d8b-bc16-d69d222aedf6",
   "metadata": {},
   "outputs": [
    {
     "data": {
      "text/plain": [
       "{1, 11, 2, 3, 4.45, 'gopal', 'hello'}"
      ]
     },
     "execution_count": 38,
     "metadata": {},
     "output_type": "execute_result"
    }
   ],
   "source": [
    "mixed_set.update([1,11,2,3])\n",
    "mixed_set"
   ]
  },
  {
   "cell_type": "code",
   "execution_count": 40,
   "id": "739afebd-fe91-4acb-9cff-b0ad619f3fa8",
   "metadata": {},
   "outputs": [
    {
     "data": {
      "text/plain": [
       "{1, 2, 3, 4.45, 'gopal', 'hello'}"
      ]
     },
     "execution_count": 40,
     "metadata": {},
     "output_type": "execute_result"
    }
   ],
   "source": [
    "# discard method \n",
    "mixed_set.discard(11)\n",
    "mixed_set"
   ]
  },
  {
   "cell_type": "code",
   "execution_count": 47,
   "id": "d420f683-acde-49fb-8696-52c663b9e188",
   "metadata": {},
   "outputs": [
    {
     "data": {
      "text/plain": [
       "{1, 2, 3, 4.45}"
      ]
     },
     "execution_count": 47,
     "metadata": {},
     "output_type": "execute_result"
    }
   ],
   "source": [
    "# remove method --- it gives error if element is not in set\n",
    "mixed_set.remove('hello')\n",
    "mixed_set"
   ]
  },
  {
   "cell_type": "code",
   "execution_count": 49,
   "id": "6b3b52fa-541a-49dd-9b27-0481a0cc25d9",
   "metadata": {},
   "outputs": [
    {
     "name": "stdout",
     "output_type": "stream",
     "text": [
      "1\n"
     ]
    }
   ],
   "source": [
    "# removing element using pop()\n",
    "print(mixed_set.pop())"
   ]
  },
  {
   "cell_type": "code",
   "execution_count": 51,
   "id": "116e8676-7c87-47be-9fae-7ac531c60ce3",
   "metadata": {},
   "outputs": [
    {
     "data": {
      "text/plain": [
       "set()"
      ]
     },
     "execution_count": 51,
     "metadata": {},
     "output_type": "execute_result"
    }
   ],
   "source": [
    "# clear the element of a set \n",
    "mixed_set.clear()\n",
    "mixed_set"
   ]
  },
  {
   "cell_type": "code",
   "execution_count": 57,
   "id": "2af71d37-c636-4d4e-80e3-d9acfa92b793",
   "metadata": {},
   "outputs": [
    {
     "name": "stdout",
     "output_type": "stream",
     "text": [
      "{1, 2, 3, 4, 5, 6, 7, 8}\n"
     ]
    }
   ],
   "source": [
    "# Python set operations \n",
    "# union\n",
    "a = {1,2,3,4,5}\n",
    "b = {4,5,6,7,8}\n",
    "print(a| b)"
   ]
  },
  {
   "cell_type": "code",
   "execution_count": 59,
   "id": "ce97d550-9ea9-4a64-85d0-eeb767192c25",
   "metadata": {},
   "outputs": [
    {
     "data": {
      "text/plain": [
       "{1, 2, 3, 4, 5, 6, 7, 8}"
      ]
     },
     "execution_count": 59,
     "metadata": {},
     "output_type": "execute_result"
    }
   ],
   "source": [
    "a.union(b)"
   ]
  },
  {
   "cell_type": "code",
   "execution_count": 61,
   "id": "477431a7-a3e2-4a51-ad17-650a690277d5",
   "metadata": {},
   "outputs": [
    {
     "name": "stdout",
     "output_type": "stream",
     "text": [
      "{4, 5}\n"
     ]
    }
   ],
   "source": [
    "# intersection\n",
    "print(a&b)"
   ]
  },
  {
   "cell_type": "code",
   "execution_count": 63,
   "id": "2dc0f058-557c-4884-94a8-2326e5786f97",
   "metadata": {},
   "outputs": [
    {
     "data": {
      "text/plain": [
       "{4, 5}"
      ]
     },
     "execution_count": 63,
     "metadata": {},
     "output_type": "execute_result"
    }
   ],
   "source": [
    "a.intersection(b)"
   ]
  },
  {
   "cell_type": "code",
   "execution_count": 65,
   "id": "e09d91f8-fa3a-429d-add8-8b65b27d71f6",
   "metadata": {},
   "outputs": [
    {
     "name": "stdout",
     "output_type": "stream",
     "text": [
      "{1, 2, 3}\n"
     ]
    }
   ],
   "source": [
    "# difference \n",
    "print(a - b)"
   ]
  },
  {
   "cell_type": "code",
   "execution_count": 67,
   "id": "d7b8cad3-e648-4c02-8aee-49ad5f94cf37",
   "metadata": {},
   "outputs": [
    {
     "name": "stdout",
     "output_type": "stream",
     "text": [
      "{8, 6, 7}\n"
     ]
    }
   ],
   "source": [
    "print(b - a)"
   ]
  },
  {
   "cell_type": "code",
   "execution_count": 71,
   "id": "11e46ae8-66b7-4f5b-90ff-06b69bfaaa17",
   "metadata": {},
   "outputs": [
    {
     "data": {
      "text/plain": [
       "{1, 2, 3}"
      ]
     },
     "execution_count": 71,
     "metadata": {},
     "output_type": "execute_result"
    }
   ],
   "source": [
    "a.difference(b)"
   ]
  },
  {
   "cell_type": "code",
   "execution_count": 73,
   "id": "a4b149e4-6944-48fe-8fd9-e09fc1ff7945",
   "metadata": {},
   "outputs": [
    {
     "name": "stdout",
     "output_type": "stream",
     "text": [
      "{1, 2, 3, 6, 7, 8}\n"
     ]
    }
   ],
   "source": [
    "# symmetric difference \n",
    "print(a^b)"
   ]
  },
  {
   "cell_type": "code",
   "execution_count": 75,
   "id": "6c500b52-af1e-464b-82ee-975ef09dd4a7",
   "metadata": {},
   "outputs": [
    {
     "name": "stdout",
     "output_type": "stream",
     "text": [
      "{1, 2, 3, 4}\n"
     ]
    }
   ],
   "source": [
    "# copy () in set \n",
    "\n",
    "num = {1,2,3,4}\n",
    "new_num = num.copy()\n",
    "print(new_num)"
   ]
  },
  {
   "cell_type": "code",
   "execution_count": 77,
   "id": "4084651e-e480-4a38-bac7-3508cea9bfb7",
   "metadata": {},
   "outputs": [
    {
     "data": {
      "text/plain": [
       "{1, 2, 3, 4, 5}"
      ]
     },
     "execution_count": 77,
     "metadata": {},
     "output_type": "execute_result"
    }
   ],
   "source": [
    "num.add(5)\n",
    "num"
   ]
  },
  {
   "cell_type": "code",
   "execution_count": 86,
   "id": "055fa3cd-c957-4638-9869-44ed07e6839f",
   "metadata": {},
   "outputs": [
    {
     "name": "stdout",
     "output_type": "stream",
     "text": [
      "A =  {'d', 'a'}\n",
      "B =  {'f', 'c', 'g'}\n"
     ]
    }
   ],
   "source": [
    "# difference_update \n",
    "A = {'a','c','g','d'}\n",
    "B = {'c','f','g'}\n",
    "result = A.difference_update(B)\n",
    "print('A = ' ,A)\n",
    "print('B = ' ,B)"
   ]
  },
  {
   "cell_type": "code",
   "execution_count": 88,
   "id": "9e9832f7-088e-486d-b18c-92f8a9d14532",
   "metadata": {},
   "outputs": [
    {
     "name": "stdout",
     "output_type": "stream",
     "text": [
      "result = None\n"
     ]
    }
   ],
   "source": [
    "print('result =',result)"
   ]
  },
  {
   "cell_type": "code",
   "execution_count": 90,
   "id": "66df20bc-6674-4b21-b74f-e7ef4f3d7460",
   "metadata": {},
   "outputs": [
    {
     "name": "stdout",
     "output_type": "stream",
     "text": [
      "result= None\n",
      "A= {2, 3, 4}\n",
      "B= {2, 3, 4, 5}\n"
     ]
    }
   ],
   "source": [
    "# intersection_update()\n",
    "A = {1,2,3,4}\n",
    "B = {2,3,4,5}\n",
    "result = A.intersection_update(B)\n",
    "print('result=',result)\n",
    "print('A=',A)\n",
    "print('B=',B)"
   ]
  },
  {
   "cell_type": "code",
   "execution_count": null,
   "id": "089338a8-e7ba-4272-a316-5850d84fe867",
   "metadata": {},
   "outputs": [],
   "source": [
    " "
   ]
  }
 ],
 "metadata": {
  "kernelspec": {
   "display_name": "Python [conda env:base] *",
   "language": "python",
   "name": "conda-base-py"
  },
  "language_info": {
   "codemirror_mode": {
    "name": "ipython",
    "version": 3
   },
   "file_extension": ".py",
   "mimetype": "text/x-python",
   "name": "python",
   "nbconvert_exporter": "python",
   "pygments_lexer": "ipython3",
   "version": "3.12.7"
  }
 },
 "nbformat": 4,
 "nbformat_minor": 5
}
