{
 "cells": [
  {
   "cell_type": "code",
   "execution_count": 3,
   "id": "50d9be64-8d55-4954-85dc-ac5a4bbb33eb",
   "metadata": {},
   "outputs": [
    {
     "name": "stdout",
     "output_type": "stream",
     "text": [
      "Hi Yash , Good Morning !\n"
     ]
    }
   ],
   "source": [
    "# default argument\n",
    "def greet(name , msg  =\"Good Morning !\"):\n",
    "    print(f\"Hi {name} , {msg}\")\n",
    "\n",
    "greet(\"Yash\")"
   ]
  },
  {
   "cell_type": "code",
   "execution_count": 4,
   "id": "cbeed62c-faad-49b9-a043-f4e88b62f51e",
   "metadata": {},
   "outputs": [
    {
     "name": "stdout",
     "output_type": "stream",
     "text": [
      "Hi Ankush , How are you\n"
     ]
    }
   ],
   "source": [
    "greet(\"Ankush\" , \"How are you\")"
   ]
  },
  {
   "cell_type": "code",
   "execution_count": 11,
   "id": "e167d345-0d0e-4fc3-acb2-400197371187",
   "metadata": {},
   "outputs": [
    {
     "name": "stdin",
     "output_type": "stream",
     "text": [
      "Enter the principal amount:  234\n",
      "Enter the time in years:  234\n"
     ]
    },
    {
     "name": "stdout",
     "output_type": "stream",
     "text": [
      "Simple Interest at 7.1% rate is: 3887.68\n"
     ]
    }
   ],
   "source": [
    "# write a program to calculate simple interest using function with default argument\n",
    "# default argument -- interest rate is : 7.1% \n",
    "#take the input -- principal and time in years from user\n",
    "\n",
    "def si_calc(principal, time, rate=7.1):\n",
    "    interest = (principal * time * rate) / 100\n",
    "    return interest\n",
    " \n",
    "principal = float(input(\"Enter the principal amount: \"))\n",
    "time = float(input(\"Enter the time in years: \"))\n",
    "\n",
    " \n",
    "si = si_calc(principal , time)\n",
    "print(f\"Simple Interest at 7.1% rate is: {si:.2f}\")"
   ]
  },
  {
   "cell_type": "code",
   "execution_count": 12,
   "id": "b0f8e79b-fa30-4797-ad9e-670c365b11b7",
   "metadata": {},
   "outputs": [
    {
     "data": {
      "text/plain": [
       "97770.24"
      ]
     },
     "execution_count": 12,
     "metadata": {},
     "output_type": "execute_result"
    }
   ],
   "source": [
    "si_calc( 3456 , 23 , 123)"
   ]
  },
  {
   "cell_type": "code",
   "execution_count": 14,
   "id": "4dd211e8-ce41-4ca9-8bbc-2724f505deae",
   "metadata": {
    "scrolled": true
   },
   "outputs": [
    {
     "data": {
      "text/plain": [
       "1062.16"
      ]
     },
     "execution_count": 14,
     "metadata": {},
     "output_type": "execute_result"
    }
   ],
   "source": [
    "# keyword argument -- you can change the order of argument at calling time \n",
    "si_calc( time = 5 , principal = 2992)"
   ]
  },
  {
   "cell_type": "code",
   "execution_count": 22,
   "id": "d37f9cf5-0554-4933-908f-b51af25f2156",
   "metadata": {},
   "outputs": [
    {
     "name": "stdout",
     "output_type": "stream",
     "text": [
      "Hello , tushar\n",
      "Hello , yash\n",
      "Hello , shivam\n",
      "Hello , tommy\n"
     ]
    }
   ],
   "source": [
    "#arbitrary argument -- we can pass multiple arguments in a single argument\n",
    "def greet(*names):\n",
    "    for name in names:\n",
    "        print(f\"Hello , {name}\")\n",
    "greet(\"tushar\" , \"yash\" , \"shivam\" , \"tommy\")"
   ]
  },
  {
   "cell_type": "code",
   "execution_count": 26,
   "id": "14c16b67-71d6-4eda-a2d7-babae99bd965",
   "metadata": {},
   "outputs": [
    {
     "name": "stdout",
     "output_type": "stream",
     "text": [
      "[15, 20, 25, 30, 35]\n"
     ]
    }
   ],
   "source": [
    "# passing a collection as an argument\n",
    "def change_list(nums):\n",
    "    val = 10\n",
    "    new_list = []\n",
    "    for i in range(len(nums)):\n",
    "        new_list.append(nums[i] + val)\n",
    "    print(new_list)\n",
    "\n",
    "nums = [5,10,15,20,25]\n",
    "change_list(nums)"
   ]
  },
  {
   "cell_type": "code",
   "execution_count": 54,
   "id": "67e4e199-c256-4ebc-8dbb-30c7e3d07c03",
   "metadata": {},
   "outputs": [
    {
     "name": "stdout",
     "output_type": "stream",
     "text": [
      "[4, 16, 36, 64, 100, 144, 196, 256, 324, 400, 484, 576, 676, 784, 900, 1024, 1156, 1296, 1444, 1600, 1764, 1936, 2116, 2304, 2500]\n"
     ]
    }
   ],
   "source": [
    "# find the squares of even numbers from 1 to 20 using passing collection as an argument\n",
    " \n",
    "\n",
    "             \n",
    "def squares(nums):\n",
    "    new_list = []\n",
    "    for i in range( len(nums)):\n",
    "        if( nums[i] % 2 == 0):\n",
    "            new_list.append(nums[i] * nums[i])\n",
    "    print(new_list)\n",
    "\n",
    "nums = [ x for x in range(1,51) ] \n",
    "squares(nums)"
   ]
  },
  {
   "cell_type": "code",
   "execution_count": null,
   "id": "9346581c-2184-4d5e-9858-610f85997ae2",
   "metadata": {},
   "outputs": [],
   "source": [
    " "
   ]
  },
  {
   "cell_type": "code",
   "execution_count": 82,
   "id": "cda0a0db-0c2a-4f92-a9da-14d5138daa03",
   "metadata": {},
   "outputs": [
    {
     "name": "stdout",
     "output_type": "stream",
     "text": [
      "[4, 16, 36, 64, 100, 144, 196, 256, 324, 400]\n"
     ]
    }
   ],
   "source": [
    " def nums():\n",
    "    num_list = []\n",
    "    for i in range(1,21):\n",
    "        if( i % 2 == 0):\n",
    "            num_list.append(i)\n",
    "    return (num_list)\n",
    "\n",
    "nums()\n",
    "\n",
    "def squares(f):\n",
    "    new_list = [] \n",
    "    for i in range(len(f)):\n",
    "        new_list.append(f[i]**2)\n",
    "    print(new_list)\n",
    "\n",
    "squares(nums())"
   ]
  },
  {
   "cell_type": "code",
   "execution_count": 86,
   "id": "c85a9e43-55f3-41d8-83ea-6dd5a4ff5a6d",
   "metadata": {},
   "outputs": [
    {
     "name": "stdout",
     "output_type": "stream",
     "text": [
      "Volume : 300\n"
     ]
    }
   ],
   "source": [
    "def area(l,b):\n",
    "    return l*b\n",
    "\n",
    "def volume(f,h):\n",
    "     \n",
    "    return f*h\n",
    "\n",
    "print(f\"Volume : {volume(area(10,5), 6)}\")"
   ]
  },
  {
   "cell_type": "code",
   "execution_count": 88,
   "id": "b98741ef-bdff-4fdb-8bc7-c2bc5c088b40",
   "metadata": {},
   "outputs": [
    {
     "name": "stdout",
     "output_type": "stream",
     "text": [
      "Hello!\n",
      "World\n"
     ]
    }
   ],
   "source": [
    "# Nested function or inner function in python\n",
    "\n",
    "def f1():\n",
    "    print(\"Hello!\")\n",
    "    def f2():\n",
    "        print(\"World\")\n",
    "    f2()\n",
    "\n",
    "f1()"
   ]
  },
  {
   "cell_type": "code",
   "execution_count": 91,
   "id": "c0fd6951-72b0-4952-9f1d-b57e5c658fa2",
   "metadata": {},
   "outputs": [
    {
     "name": "stdout",
     "output_type": "stream",
     "text": [
      "2\n",
      "2\n"
     ]
    }
   ],
   "source": [
    "# global variable in a function\n",
    "def f1(): # outer function\n",
    "    a = 1\n",
    "\n",
    "def f2(): # outer function\n",
    "    global a\n",
    "    a = 2\n",
    "    print(a) # prints 2\n",
    "f1()\n",
    "f2()\n",
    "\n",
    "print(a) # prints 2"
   ]
  },
  {
   "cell_type": "code",
   "execution_count": 92,
   "id": "0dd9b2f0-ca22-41d3-b8f1-f7c1d04f2dbd",
   "metadata": {},
   "outputs": [
    {
     "name": "stdout",
     "output_type": "stream",
     "text": [
      "10\n"
     ]
    }
   ],
   "source": [
    "# Anonymous function or lambda function in python\n",
    "double = lambda x : x*2\n",
    "print(double(5))\n"
   ]
  },
  {
   "cell_type": "code",
   "execution_count": 94,
   "id": "c566b1f7-adf3-4559-92e3-f7c9b0dd2d6f",
   "metadata": {},
   "outputs": [
    {
     "name": "stdout",
     "output_type": "stream",
     "text": [
      "12\n"
     ]
    }
   ],
   "source": [
    "greater = lambda x , y : x if (x>y) else y\n",
    "print(greater (5,12) )"
   ]
  },
  {
   "cell_type": "code",
   "execution_count": 96,
   "id": "cd98c642-b125-4b05-afca-a3d99f219147",
   "metadata": {},
   "outputs": [
    {
     "name": "stdout",
     "output_type": "stream",
     "text": [
      "Odd\n"
     ]
    }
   ],
   "source": [
    "even = lambda x : \"Even\" if x%2 == 0 else \"Odd\"\n",
    "print(even(5))"
   ]
  },
  {
   "cell_type": "code",
   "execution_count": 108,
   "id": "1046567b-0ad8-4218-858f-1b72b7d98d83",
   "metadata": {},
   "outputs": [
    {
     "name": "stdout",
     "output_type": "stream",
     "text": [
      "[4, 6, 8, 12]\n"
     ]
    }
   ],
   "source": [
    "# filter function in python\n",
    "my_list = [ 1,5,4,6,8,11,3 , 12]\n",
    "even = list(filter((lambda x : x if x%2 == 0 else None), my_list) )\n",
    "print(even)"
   ]
  },
  {
   "cell_type": "code",
   "execution_count": 113,
   "id": "c199c3e9-ec8e-4166-8f27-db2fb52a6df5",
   "metadata": {},
   "outputs": [
    {
     "name": "stdout",
     "output_type": "stream",
     "text": [
      "[10, 50, None, None, 110, 30, None, 550]\n"
     ]
    }
   ],
   "source": [
    "# map function -- it will  show None for the items which were present in the main list\n",
    "my_list = [1,5,4,6,11,3,34,55]\n",
    "square_num = list(map( (lambda x : x*10 if x %2 != 0 else None) , my_list))\n",
    "print(square_num)"
   ]
  },
  {
   "cell_type": "code",
   "execution_count": null,
   "id": "5c4ca73d-12d2-449d-9073-c8b8301fd97b",
   "metadata": {},
   "outputs": [],
   "source": []
  }
 ],
 "metadata": {
  "kernelspec": {
   "display_name": "Python [conda env:base] *",
   "language": "python",
   "name": "conda-base-py"
  },
  "language_info": {
   "codemirror_mode": {
    "name": "ipython",
    "version": 3
   },
   "file_extension": ".py",
   "mimetype": "text/x-python",
   "name": "python",
   "nbconvert_exporter": "python",
   "pygments_lexer": "ipython3",
   "version": "3.12.7"
  }
 },
 "nbformat": 4,
 "nbformat_minor": 5
}
