{
 "cells": [
  {
   "cell_type": "code",
   "execution_count": 16,
   "id": "5718d2b8-6636-4643-8d66-f9f3c8ae918d",
   "metadata": {},
   "outputs": [
    {
     "name": "stdin",
     "output_type": "stream",
     "text": [
      "Enter the Product Name :  Mouse\n"
     ]
    },
    {
     "data": {
      "text/plain": [
       "[{'product': 'Mouse', 'region': 'South', 'sales': 300},\n",
       " {'product': 'Mouse', 'region': 'North', 'sales': 220}]"
      ]
     },
     "execution_count": 16,
     "metadata": {},
     "output_type": "execute_result"
    }
   ],
   "source": [
    "sales_data = [ \n",
    "{'product': 'Laptop', 'region': 'North', 'sales': 150}, \n",
    "{'product': 'Mouse', 'region': 'South', 'sales': 300}, \n",
    "{'product': 'Keyboard', 'region': 'North', 'sales': 120}, \n",
    "{'product': 'Laptop', 'region': 'South', 'sales': 100}, \n",
    "{'product': 'Monitor', 'region': 'East', 'sales': 130}, \n",
    "{'product': 'Mouse', 'region': 'North', 'sales': 220}, \n",
    "{'product': 'Keyboard', 'region': 'East', 'sales': 180}, \n",
    "{'product': 'Monitor', 'region': 'South', 'sales': 170}, \n",
    "{'product': 'Laptop', 'region': 'East', 'sales': 90} \n",
    "] \n",
    "\n",
    "\n",
    "#Step 2: Extract Unique Product Names (List Comprehension) \n",
    "search_product = input(f\"Enter the Product Name : \")   \n",
    "unique_product = [ x for x in sales_data  if x['product'] == search_product ]\n",
    "unique_product\n",
    "\n"
   ]
  },
  {
   "cell_type": "code",
   "execution_count": 20,
   "id": "bc7aa1b0-fe8d-44b1-acf6-1a5a3c47a8d1",
   "metadata": {
    "scrolled": true
   },
   "outputs": [
    {
     "ename": "SyntaxError",
     "evalue": "invalid syntax (198124099.py, line 3)",
     "output_type": "error",
     "traceback": [
      "\u001b[1;36m  Cell \u001b[1;32mIn[20], line 3\u001b[1;36m\u001b[0m\n\u001b[1;33m    combined = ( **sales_data[0] , **sales_data[1])\u001b[0m\n\u001b[1;37m                 ^\u001b[0m\n\u001b[1;31mSyntaxError\u001b[0m\u001b[1;31m:\u001b[0m invalid syntax\n"
     ]
    }
   ],
   "source": [
    "#Step 3: Create Product-Wise Total Sales Dictionary (Dict Comprehension)\n",
    "# keys = names , values = total sales\n",
    "combined = ( **sales_data[0] , **sales_data[1])\n",
    "product_wise = { names : sales for name , sale in combined  }\n",
    "product_wise"
   ]
  },
  {
   "cell_type": "code",
   "execution_count": 25,
   "id": "736d1570-b4a6-422e-a0d2-61c7e401b78a",
   "metadata": {},
   "outputs": [
    {
     "ename": "SyntaxError",
     "evalue": "invalid syntax (2600700833.py, line 4)",
     "output_type": "error",
     "traceback": [
      "\u001b[1;36m  Cell \u001b[1;32mIn[25], line 4\u001b[1;36m\u001b[0m\n\u001b[1;33m    region_wise = { region : sales for region , sales in sales_data[].keys() if region['region'] == search_region }\u001b[0m\n\u001b[1;37m                                                                    ^\u001b[0m\n\u001b[1;31mSyntaxError\u001b[0m\u001b[1;31m:\u001b[0m invalid syntax\n"
     ]
    }
   ],
   "source": [
    "#3. Generate a region-wise sales dictionary using dictionary comprehension. \n",
    "# search_region = input(f\"Search your region : \")\n",
    "region_wise = \"North\"\n",
    "region_wise = { region : sales for region , sales in sales_data[].keys() if region['region'] == search_region }\n",
    "region_wise\n",
    "\n",
    "\n",
    "\n",
    "# search_product = input(f\"Enter the Product Name : \")   \n",
    "# unique_product = [ x for x in sales_data  if x['product'] == search_product ]\n",
    "# unique_product"
   ]
  },
  {
   "cell_type": "code",
   "execution_count": null,
   "id": "3d17fd05-e4e0-4cc0-91f6-13d9b34e3a9d",
   "metadata": {},
   "outputs": [],
   "source": []
  }
 ],
 "metadata": {
  "kernelspec": {
   "display_name": "Python [conda env:base] *",
   "language": "python",
   "name": "conda-base-py"
  },
  "language_info": {
   "codemirror_mode": {
    "name": "ipython",
    "version": 3
   },
   "file_extension": ".py",
   "mimetype": "text/x-python",
   "name": "python",
   "nbconvert_exporter": "python",
   "pygments_lexer": "ipython3",
   "version": "3.12.7"
  }
 },
 "nbformat": 4,
 "nbformat_minor": 5
}
