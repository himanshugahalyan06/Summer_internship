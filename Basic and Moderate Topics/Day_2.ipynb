{
 "cells": [
  {
   "cell_type": "markdown",
   "id": "63d105b9",
   "metadata": {},
   "source": [
    "# Data Types In Python\n"
   ]
  },
  {
   "cell_type": "code",
   "execution_count": 1,
   "id": "f41e2f81",
   "metadata": {},
   "outputs": [
    {
     "name": "stdout",
     "output_type": "stream",
     "text": [
      "Value of i=  52\n",
      "Type of i is:  <class 'int'>\n"
     ]
    }
   ],
   "source": [
    "# Integer \n",
    "\n",
    "i=52\n",
    "print(\"Value of i= \",i)\n",
    "print(\"Type of i is: \",type(i))\n"
   ]
  },
  {
   "cell_type": "code",
   "execution_count": 2,
   "id": "66b6c7d9",
   "metadata": {},
   "outputs": [
    {
     "name": "stdout",
     "output_type": "stream",
     "text": [
      "Value of x=  20.4\n",
      "Type of x is:  <class 'float'>\n"
     ]
    }
   ],
   "source": [
    "# Float\n",
    "\n",
    "x=20.4\n",
    "print(\"Value of x= \",x)\n",
    "print(\"Type of x is: \",type(x))\n"
   ]
  },
  {
   "cell_type": "code",
   "execution_count": null,
   "id": "8cb86a34",
   "metadata": {},
   "outputs": [
    {
     "name": "stdout",
     "output_type": "stream",
     "text": [
      "Value of y is=  (12+34.5j)\n",
      "<class 'complex'>\n"
     ]
    }
   ],
   "source": [
    "# Complex  (a+bj)\n",
    "\n",
    "y=12+34.5j\n",
    "\n",
    "print(\"Value of y is= \",y)\n",
    "print(type(y))\n"
   ]
  },
  {
   "cell_type": "code",
   "execution_count": null,
   "id": "1ac3a73d",
   "metadata": {},
   "outputs": [
    {
     "name": "stdout",
     "output_type": "stream",
     "text": [
      "Value of x:  Himanshu \n",
      " <class 'str'>\n",
      "Value of y:  2401100122983 \n",
      " <class 'str'>\n"
     ]
    }
   ],
   "source": [
    "# string  we can do this single,double and triple comma \n",
    "\n",
    "x=\"Himanshu\"\n",
    "y=\"2401100122983\"\n",
    "\n",
    "print(\"Value of x: \",x,\"\\n\",type(x))\n",
    "print(\"Value of y: \",y,\"\\n\",type(y))\n"
   ]
  },
  {
   "cell_type": "code",
   "execution_count": 8,
   "id": "a4d5375f",
   "metadata": {},
   "outputs": [
    {
     "name": "stdout",
     "output_type": "stream",
     "text": [
      "Value of x is:  True \n",
      " <class 'bool'> \n",
      " Value of y:  False \n",
      " <class 'bool'>\n"
     ]
    }
   ],
   "source": [
    "# Boolean\n",
    "\n",
    "x=True\n",
    "y=False\n",
    "\n",
    "print(\"Value of x is: \",x,\"\\n\",type(x),\"\\n\",\"Value of y: \",y,\"\\n\",type(y))\n"
   ]
  },
  {
   "cell_type": "markdown",
   "id": "83ef5d69",
   "metadata": {},
   "source": [
    "# List \n",
    "## list is a sequence of ordered homogeneous elememts"
   ]
  },
  {
   "cell_type": "code",
   "execution_count": 29,
   "id": "ed120d93",
   "metadata": {},
   "outputs": [
    {
     "name": "stdout",
     "output_type": "stream",
     "text": [
      "[1, 2, 3, 4, 5, 6] \n",
      " <class 'list'>\n"
     ]
    }
   ],
   "source": [
    "# List\n",
    "lst=[1,2,3,4,5,6]\n",
    "print(lst,\"\\n\",type(lst))\n"
   ]
  },
  {
   "cell_type": "code",
   "execution_count": 35,
   "id": "8e17c675",
   "metadata": {},
   "outputs": [
    {
     "data": {
      "text/plain": [
       "[1, 2, 30, 40, 5, 6]"
      ]
     },
     "execution_count": 35,
     "metadata": {},
     "output_type": "execute_result"
    }
   ],
   "source": [
    "# Change list it is mutable menas chageable \n",
    "lst[2:4]=30,40\n",
    "lst\n"
   ]
  },
  {
   "cell_type": "markdown",
   "id": "f15889bc",
   "metadata": {},
   "source": [
    "# Tuple\n",
    "### It is the sequence of ordered heterogeneous elements and it is immutable"
   ]
  },
  {
   "cell_type": "code",
   "execution_count": 37,
   "id": "64bead42",
   "metadata": {},
   "outputs": [
    {
     "name": "stdout",
     "output_type": "stream",
     "text": [
      "(1, 'hello', True) <class 'tuple'>\n"
     ]
    }
   ],
   "source": [
    "# tuple\n",
    "tup=(1,'hello',True)\n",
    "print(tup,type(tup))\n"
   ]
  },
  {
   "cell_type": "markdown",
   "id": "b47cfb9d",
   "metadata": {},
   "source": [
    "# Dictionary\n",
    "## It is used for mapping (key,value) pairs it is mutable \n"
   ]
  },
  {
   "cell_type": "code",
   "execution_count": null,
   "id": "0889ac41",
   "metadata": {},
   "outputs": [
    {
     "name": "stdout",
     "output_type": "stream",
     "text": [
      "{'a': '20', 'Cake': 'Black Forest', 'Candy': '30', 'Protien': 'GNC India'} <class 'dict'>\n"
     ]
    }
   ],
   "source": [
    "# Dictionary\n",
    "\n",
    "Dict={'a':'20' , 'Cake':'Black Forest','Candy':'30','Protien':'GNC India'} \n",
    "print(Dict,type(Dict))\n",
    "\n"
   ]
  },
  {
   "cell_type": "code",
   "execution_count": null,
   "id": "fd813373",
   "metadata": {},
   "outputs": [
    {
     "data": {
      "text/plain": [
       "{'a': 100, 'Cake': 'Black Forest', 'Candy': '30', 'Protien': 'GNC India'}"
      ]
     },
     "execution_count": 50,
     "metadata": {},
     "output_type": "execute_result"
    }
   ],
   "source": [
    "Dict['a']\n",
    "\n",
    "Dict['a']=100\n",
    "Dict\n",
    "\n"
   ]
  },
  {
   "cell_type": "markdown",
   "id": "1029ad1c",
   "metadata": {},
   "source": [
    "# Sets\n",
    "### It is a collection of un-ordered elements it is mutable \n",
    "### Discard Duplicates automatically \n",
    "\n",
    " "
   ]
  },
  {
   "cell_type": "code",
   "execution_count": 51,
   "id": "37be18c1",
   "metadata": {},
   "outputs": [
    {
     "data": {
      "text/plain": [
       "{'a', 'e', 'i', 'o', 'u'}"
      ]
     },
     "execution_count": 51,
     "metadata": {},
     "output_type": "execute_result"
    }
   ],
   "source": [
    "# Set \n",
    "s1={1,2,3,4,5,6}\n",
    "s2={'a','e','i','o','u','a','e'}\n",
    "\n",
    "s2\n",
    "# print(s1,type(s1))\n"
   ]
  },
  {
   "cell_type": "code",
   "execution_count": 52,
   "id": "32c0c900",
   "metadata": {},
   "outputs": [
    {
     "data": {
      "text/plain": [
       "'Virat'"
      ]
     },
     "execution_count": 52,
     "metadata": {},
     "output_type": "execute_result"
    }
   ],
   "source": [
    "# Silicing\n",
    "x=\"Virat Kholi\"\n",
    "x[0:5]\n"
   ]
  },
  {
   "cell_type": "code",
   "execution_count": 53,
   "id": "cd8147be",
   "metadata": {},
   "outputs": [
    {
     "data": {
      "text/plain": [
       "'i'"
      ]
     },
     "execution_count": 53,
     "metadata": {},
     "output_type": "execute_result"
    }
   ],
   "source": [
    "# negative silicing\n",
    "x=\"Virat Kholi\"\n",
    "x[-1:]\n"
   ]
  },
  {
   "cell_type": "code",
   "execution_count": 54,
   "id": "495e9fe3",
   "metadata": {},
   "outputs": [
    {
     "data": {
      "text/plain": [
       "'Micro'"
      ]
     },
     "execution_count": 54,
     "metadata": {},
     "output_type": "execute_result"
    }
   ],
   "source": [
    "com=\"Microsoft\"\n",
    "com[:-4]\n"
   ]
  },
  {
   "cell_type": "code",
   "execution_count": 55,
   "id": "21a14420",
   "metadata": {},
   "outputs": [
    {
     "data": {
      "text/plain": [
       "'Virat '"
      ]
     },
     "execution_count": 55,
     "metadata": {},
     "output_type": "execute_result"
    }
   ],
   "source": [
    "name=\"Virat Kholi\"\n",
    "name[:6]\n"
   ]
  },
  {
   "cell_type": "code",
   "execution_count": 56,
   "id": "2348e9d9",
   "metadata": {},
   "outputs": [
    {
     "data": {
      "text/plain": [
       "'soft'"
      ]
     },
     "execution_count": 56,
     "metadata": {},
     "output_type": "execute_result"
    }
   ],
   "source": [
    "com[-4:]\n"
   ]
  },
  {
   "cell_type": "code",
   "execution_count": 5,
   "id": "dfbc16d5",
   "metadata": {},
   "outputs": [
    {
     "name": "stdout",
     "output_type": "stream",
     "text": [
      "Simple Interest in 3.5 Years is:  113750.0\n",
      "Total Amount in 3.5 Years is:  1413750.0\n"
     ]
    }
   ],
   "source": [
    "# Find simple interest \n",
    "p=int(input(\"Enter the value of Principal: \"))\n",
    "r=float(input(\"Enter the value of Rate: \"))\n",
    "t=float(input(\"Enter the value of Time: \"))\n",
    "si=(p*r*t)/100\n",
    "print(\"Simple Interest in\",t,\"Years is: \",si)\n",
    "print(\"Total Amount in\",t,\"Years is: \",p+si)\n"
   ]
  },
  {
   "cell_type": "code",
   "execution_count": 9,
   "id": "aff0204c",
   "metadata": {},
   "outputs": [
    {
     "name": "stdout",
     "output_type": "stream",
     "text": [
      "Your Temperature is Converted into Celcius:  98.96000000000001 C\n"
     ]
    }
   ],
   "source": [
    "# Covert degree into Ferhenheist\n",
    "Temp=float(input(\"Enter the Temprature: \"))\n",
    "Unit=input(\"Enter the Unit: \")\n",
    "\n",
    "if Unit=='C':\n",
    "    print(\"Your Temperature is Converted into Celcius: \",Temp*9/5+32,\"C\")\n",
    "elif Unit=='F':\n",
    "    print(\"Your Temperature is Converted in Ferhenheist: \",Temp*9/5-32,\"F\")\n",
    "else:\n",
    "    print(\"Please Enter Correct Input !!\")\n",
    "\n",
    "\n"
   ]
  },
  {
   "cell_type": "markdown",
   "id": "195a6669",
   "metadata": {},
   "source": [
    "# Practise Questions Day 2"
   ]
  },
  {
   "cell_type": "code",
   "execution_count": 2,
   "id": "226eb59d",
   "metadata": {},
   "outputs": [
    {
     "name": "stdout",
     "output_type": "stream",
     "text": [
      "The area of the Cylinder is:  73.75611312\n"
     ]
    }
   ],
   "source": [
    "# Question 1\n",
    "# Complete Surface area of a cylinder \n",
    "height=float(input(\"Enter the height of the cylinder: \"))\n",
    "PI=float(input(\"Enter the Value of the PI: \"))    #Constant \n",
    "radius=float(input(\"Enter the radius of the cylinder: \"))\n",
    "\n",
    "area=2*PI*radius*(height+radius)\n",
    "\n",
    "print(\"The area of the Cylinder is: \",area)\n",
    "\n",
    "\n"
   ]
  },
  {
   "cell_type": "code",
   "execution_count": 7,
   "id": "f20368fe",
   "metadata": {},
   "outputs": [
    {
     "name": "stdout",
     "output_type": "stream",
     "text": [
      "Your EMI is:₹888.49\n"
     ]
    }
   ],
   "source": [
    "# Question 2 \n",
    "#Calculate EMI\n",
    "Principal=int(input(\"Enter the Principal: \"))  # P/p\n",
    "Annual_Rate=float(input(\"Enter the Annual Rate: \")) \n",
    "Monthly_Rate=Annual_Rate/12/100  # r/R\n",
    "Number_of_Installments=int(input(\"Enter the Number of Installments: \"))  #n/N    Loan Tenure in Months \n",
    "\n",
    "EMI=Principal*Monthly_Rate*(1+Monthly_Rate)**Number_of_Installments/((1+Monthly_Rate)**Number_of_Installments-1)\n",
    "print(\"Your EMI is:₹{:.2f}\".format(EMI))\n",
    "\n",
    "\n",
    "\n"
   ]
  },
  {
   "cell_type": "code",
   "execution_count": null,
   "id": "68df0dff",
   "metadata": {},
   "outputs": [
    {
     "name": "stdout",
     "output_type": "stream",
     "text": [
      "No One is Bigger !!!!\n"
     ]
    }
   ],
   "source": [
    "#Ouestion Find Biggest of Given 2 Numbers \n",
    "n1=int(input(\"Enter First Number\"))\n",
    "n2=int(input(\"Enter Second Number\"))\n",
    "if n1>n2:\n",
    "    print(\"Larger number is: \",n1)\n",
    "elif n2>n1:\n",
    "    print(\"Larger Number is: \",n2)\n",
    "elif n1==n2:\n",
    "    print(\"Both are Equal !!!!\")\n",
    "        \n"
   ]
  },
  {
   "cell_type": "code",
   "execution_count": 6,
   "id": "a8f0ecb2",
   "metadata": {},
   "outputs": [
    {
     "name": "stdout",
     "output_type": "stream",
     "text": [
      "2000 is Leap year !!\n"
     ]
    }
   ],
   "source": [
    "# Check User Input is Leap Year or NOt\n",
    "year=int(input(\"Enter the year: \"))\n",
    "\n",
    "if (year%4==0 and year%100!=0 ) or  (year%400==0) :\n",
    "    print(f\"{year} is Leap year !!\")\n",
    "else:\n",
    "    print(f\"{year} is not a leap year !! \")\n"
   ]
  },
  {
   "cell_type": "code",
   "execution_count": null,
   "id": "6977a877",
   "metadata": {},
   "outputs": [
    {
     "name": "stdout",
     "output_type": "stream",
     "text": [
      "All are Equal!! \n"
     ]
    }
   ],
   "source": [
    "# Larger of three Numbers \n",
    "n1=int(input(\"Enter first number: \"))\n",
    "n2=int(input(\"Enter second number: \"))\n",
    "n3=int(input(\"Enter third number: \"))\n",
    "\n",
    "if n1>n2 and n1>n3:\n",
    "    print(\"N1 is larger number: \",n1)\n",
    "elif n2>n1 and n2>n3:\n",
    "    print(\"N2 is larger number: \",n2)\n",
    "elif n1==n2==n3:\n",
    "    print(\"All are Equal!! \")\n",
    "else:\n",
    "    print(\"N3 is larger number: \",n3)\n",
    "\n",
    "\n"
   ]
  },
  {
   "cell_type": "code",
   "execution_count": 5,
   "id": "a2f9480f",
   "metadata": {},
   "outputs": [
    {
     "name": "stdout",
     "output_type": "stream",
     "text": [
      "Number is Zero !!\n"
     ]
    }
   ],
   "source": [
    "# Check a number is Positive, Negative or Zero \n",
    "num=int(input(\"Enter the Number: \"))\n",
    "if num>0:\n",
    "    print(\"It's a Positive !!\")\n",
    "elif num<0:\n",
    "    print(\"It's a negative Number !!\")\n",
    "else:\n",
    "    print(\"Number is Zero !!\")\n",
    "\n"
   ]
  },
  {
   "cell_type": "code",
   "execution_count": null,
   "id": "e33b14ea",
   "metadata": {},
   "outputs": [],
   "source": [
    "import random\n",
    "\n",
    "# ANSI color codes for styling (works in most terminals)\n",
    "RED = '\\033[91m'\n",
    "GREEN = '\\033[92m'\n",
    "YELLOW = '\\033[93m'\n",
    "CYAN = '\\033[96m'\n",
    "RESET = '\\033[0m'\n",
    "\n",
    "# Welcome banner\n",
    "print(f\"{CYAN}\" + \"🙏🏻\"*20)\n",
    "print(\"🎮 Welcome to the Number Guessing Game! 🎯\".center(20))\n",
    "print(\"🙏🏻\"*20 + f\"{RESET}\")\n",
    "\n",
    "# Player input\n",
    "player_name = input(f\"{YELLOW}Enter your name: {RESET}\")\n",
    "max_attempts = int(input(f\"{YELLOW}How many attempts would you like, {player_name}? {RESET}\"))\n",
    "\n",
    "# Generate random number\n",
    "secret_number = random.randint(1, 100)\n",
    "attempt = 0  # Keep track of the number of attempts\n",
    "\n",
    "print(f\"\\n{CYAN}I'm thinking of a number between 1 and 100...🤔{RESET}\")\n",
    "\n",
    "# Game loop\n",
    "while attempt < max_attempts:\n",
    "    attempt += 1\n",
    "    print(f\"\\n{CYAN}🔁 Attempt {attempt} of {max_attempts}{RESET}\")\n",
    "    \n",
    "    try:\n",
    "        guess = int(input(f\"{YELLOW}Enter your guess: {RESET}\"))\n",
    "    except ValueError:\n",
    "        print(f\"{RED}❌ Invalid input! Please enter a number.{RESET}\")\n",
    "        continue  # Skip to next loop iteration\n",
    "\n",
    "    if guess == secret_number:\n",
    "        print(f\"{GREEN}🎉 Congratulations {player_name}! You guessed it right in {attempt} attempt(s)!{RESET}\")\n",
    "        break\n",
    "    elif guess < secret_number:\n",
    "        print(f\"{YELLOW}📉  you guessed {guess} Too low! Try a higher number.{RESET}\")\n",
    "    else:\n",
    "        print(f\"{YELLOW}📈 you guessed {guess} Too high! Try a lower number.{RESET}\")\n",
    "\n",
    "    if attempt == max_attempts:\n",
    "        print(f\"\\n{RED}😢 Game Over, {player_name}! The correct number was {secret_number}.{RESET}\")\n",
    "\n",
    "# Goodbye message\n",
    "print(f\"\\n{CYAN}Thanks for playing, {player_name}! 👋🏻{RESET}\")\n",
    "print(f\"{CYAN}\" + \"Bye Thanks for your Time !!\" +\"👋🏻\"*20 + f\"{RESET}\")\n"
   ]
  },
  {
   "cell_type": "code",
   "execution_count": null,
   "id": "fda08bec",
   "metadata": {},
   "outputs": [],
   "source": []
  }
 ],
 "metadata": {
  "kernelspec": {
   "display_name": "Python 3",
   "language": "python",
   "name": "python3"
  },
  "language_info": {
   "codemirror_mode": {
    "name": "ipython",
    "version": 3
   },
   "file_extension": ".py",
   "mimetype": "text/x-python",
   "name": "python",
   "nbconvert_exporter": "python",
   "pygments_lexer": "ipython3",
   "version": "3.11.8"
  }
 },
 "nbformat": 4,
 "nbformat_minor": 5
}
