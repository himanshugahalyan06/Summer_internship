{
 "cells": [
  {
   "cell_type": "markdown",
   "id": "fb0cdae7-0a95-4391-af88-93248fb309a2",
   "metadata": {},
   "source": [
    "## function day:-2"
   ]
  },
  {
   "cell_type": "code",
   "execution_count": 2,
   "id": "cd2b29e7-8a35-486d-98fb-5c95ceef5741",
   "metadata": {},
   "outputs": [
    {
     "name": "stdout",
     "output_type": "stream",
     "text": [
      "Hi Gopal, good morning\n"
     ]
    }
   ],
   "source": [
    "#  default arguments:\n",
    "\n",
    "def greet (name , msg=\"good morning\"):\n",
    "    print(f\"Hi {name}, {msg}\")\n",
    "\n",
    "greet(\"Gopal\")"
   ]
  },
  {
   "cell_type": "code",
   "execution_count": 4,
   "id": "65f48ce1-951f-407e-88ff-5b59254de9f3",
   "metadata": {},
   "outputs": [
    {
     "name": "stdout",
     "output_type": "stream",
     "text": [
      "Hi Suraj, goodevening\n"
     ]
    }
   ],
   "source": [
    "greet(\"Suraj\",\"goodevening\")"
   ]
  },
  {
   "cell_type": "code",
   "execution_count": 18,
   "id": "1acd17c6-1011-44fe-a166-add3ee6f7007",
   "metadata": {},
   "outputs": [
    {
     "name": "stdin",
     "output_type": "stream",
     "text": [
      "Enter the principal amount:  67999\n",
      "Enter the time in years:  5\n"
     ]
    },
    {
     "name": "stdout",
     "output_type": "stream",
     "text": [
      "Simple Interest for principal ₹67999.0 over 5.0 years at 7.1% rate is ₹24139.65\n"
     ]
    }
   ],
   "source": [
    "# write a program to calculate simple interest using function with \n",
    "# default argument - intrest rate is : 7.1%\n",
    "# take the input - principal and time in years from user \n",
    "\n",
    "def simple_interest(principal, time, rate=7.1):\n",
    "    interest = (principal * time * rate) / 100\n",
    "    return interest\n",
    "\n",
    "principal = float(input(\"Enter the principal amount: \"))\n",
    "time = float(input(\"Enter the time in years: \"))\n",
    "\n",
    "interest = simple_interest(principal, time)\n",
    "\n",
    "print(f\"Simple Interest for principal ₹{principal} over {time} years at 7.1% rate is ₹{interest:.2f}\")\n",
    "\n"
   ]
  },
  {
   "cell_type": "code",
   "execution_count": 16,
   "id": "b5d3b3e6-7771-4722-94bf-2a42b3f0ff66",
   "metadata": {},
   "outputs": [
    {
     "data": {
      "text/plain": [
       "798.75"
      ]
     },
     "execution_count": 16,
     "metadata": {},
     "output_type": "execute_result"
    }
   ],
   "source": [
    "#  keyword argument --- you can change the order of argument at calling time ..\n",
    "\n",
    "simple_interest(time= 2.5 , principal= 4500)"
   ]
  },
  {
   "cell_type": "code",
   "execution_count": 24,
   "id": "696b10fe-9a42-4d8c-bd7e-024bb98c9566",
   "metadata": {},
   "outputs": [
    {
     "name": "stdout",
     "output_type": "stream",
     "text": [
      "hello,radha\n",
      "hello,rukmani\n",
      "hello,vrinda\n",
      "hello,satayabhama\n"
     ]
    }
   ],
   "source": [
    "#  Arbitrary arguments\n",
    "\n",
    "def greet(*names):\n",
    "    for name in names:\n",
    "        print(f\"hello,{name}\")\n",
    "\n",
    "greet(\"radha\",\"rukmani\",\"vrinda\",\"satayabhama\")"
   ]
  },
  {
   "cell_type": "code",
   "execution_count": 28,
   "id": "d45f99f9-a06d-4c82-b52b-c485b664d5f4",
   "metadata": {},
   "outputs": [
    {
     "name": "stdout",
     "output_type": "stream",
     "text": [
      "After function call, new_lst: [11, 12, 13, 14, 15]\n"
     ]
    }
   ],
   "source": [
    "# passing functions to function \n",
    "\n",
    "def change_lst(nums):\n",
    "    val = 10\n",
    "    new_lst = []\n",
    "    for i in range(0, len(nums)):\n",
    "        new_lst.append(nums[i] + val)\n",
    "    print('After function call, new_lst:', new_lst)\n",
    "          \n",
    "lst = [1, 2, 3, 4, 5]\n",
    "change_lst(lst)\n"
   ]
  },
  {
   "cell_type": "code",
   "execution_count": 32,
   "id": "45600c1a-5911-458c-a92e-ae7080eed343",
   "metadata": {},
   "outputs": [
    {
     "name": "stdout",
     "output_type": "stream",
     "text": [
      "Squares of even numbers from 1 to 20: [4, 16, 36, 64, 100, 144, 196, 256, 324, 400]\n"
     ]
    }
   ],
   "source": [
    "# find the squares of even numbers from 1 to 20 using passing\n",
    "# collection sa an argument in a function in python \n",
    "\n",
    "def square(nums):\n",
    "    square=[]\n",
    "    for i in nums:\n",
    "        if i%2==0:\n",
    "            square.append(i**2)\n",
    "    return square\n",
    "    \n",
    "num_list = list(range(1, 21))\n",
    "\n",
    "result = square(num_list)\n",
    "\n",
    "\n",
    "print(\"Squares of even numbers from 1 to 20:\", result)\n",
    "   \n",
    "    \n",
    "        "
   ]
  },
  {
   "cell_type": "code",
   "execution_count": 46,
   "id": "5d6a2c38-9c0e-4c25-b912-a206bcfed639",
   "metadata": {},
   "outputs": [
    {
     "name": "stdout",
     "output_type": "stream",
     "text": [
      "Area of circle: 50.24\n"
     ]
    }
   ],
   "source": [
    "# passing function to function \n",
    "\n",
    "\n",
    "def value(r):\n",
    "    return r  \n",
    "\n",
    "def circle_area(f):\n",
    "    area = 3.14 * (f ** 2)\n",
    "    return area\n",
    "\n",
    "res = circle_area(value(4))\n",
    "print(\"Area of circle:\", res)\n",
    "\n"
   ]
  },
  {
   "cell_type": "code",
   "execution_count": 48,
   "id": "18a8cd25-8bf4-442c-ac32-6dc363c5310c",
   "metadata": {},
   "outputs": [
    {
     "name": "stdout",
     "output_type": "stream",
     "text": [
      "hello\n",
      "world\n"
     ]
    }
   ],
   "source": [
    "# nested function or inner function \n",
    "def f1():\n",
    "    print(\"hello\")\n",
    "    def f2():\n",
    "        print(\"world\")\n",
    "    f2()\n",
    "f1()"
   ]
  },
  {
   "cell_type": "code",
   "execution_count": 52,
   "id": "b4509edf-4177-46c8-9dab-1bfbf96e1ed9",
   "metadata": {},
   "outputs": [
    {
     "name": "stdout",
     "output_type": "stream",
     "text": [
      "2\n",
      "2\n"
     ]
    }
   ],
   "source": [
    " # global variable in a function \n",
    "def f1():\n",
    "    a = 10\n",
    " def f2():\n",
    "    global a\n",
    "    a = 2\n",
    "        \n",
    "    print(a)\n",
    "\n",
    "f1()\n",
    "f2()\n",
    "print(a)"
   ]
  },
  {
   "cell_type": "markdown",
   "id": "dd7977f9-7aa8-4913-9a7e-58703efbb19b",
   "metadata": {},
   "source": [
    "**Anonymous function**"
   ]
  },
  {
   "cell_type": "code",
   "execution_count": 55,
   "id": "09b9730f-b932-4dd6-b3a6-65a49df66d3e",
   "metadata": {},
   "outputs": [
    {
     "name": "stdout",
     "output_type": "stream",
     "text": [
      "10\n"
     ]
    }
   ],
   "source": [
    "double = lambda x : x * 2\n",
    "print(double(5))"
   ]
  },
  {
   "cell_type": "code",
   "execution_count": 57,
   "id": "7233cd7d-334f-4e92-91fb-db7fac154abd",
   "metadata": {},
   "outputs": [
    {
     "name": "stdout",
     "output_type": "stream",
     "text": [
      "25\n"
     ]
    }
   ],
   "source": [
    "square = lambda x : x ** 2\n",
    "print(square(5))"
   ]
  },
  {
   "cell_type": "code",
   "execution_count": 59,
   "id": "7e1a6641-172f-4bb4-a51b-6c85a5036cf2",
   "metadata": {},
   "outputs": [
    {
     "name": "stdout",
     "output_type": "stream",
     "text": [
      "15\n"
     ]
    }
   ],
   "source": [
    "greater = lambda x,y : x if x>y else y\n",
    "print(greater(10,15))"
   ]
  },
  {
   "cell_type": "code",
   "execution_count": 61,
   "id": "54137fe8-d8c5-46d7-adb2-4f7614920a92",
   "metadata": {},
   "outputs": [
    {
     "name": "stdout",
     "output_type": "stream",
     "text": [
      "Even\n",
      "Odd\n"
     ]
    }
   ],
   "source": [
    "odd_or_even = lambda x: \"Even\" if x % 2 == 0 else \"Odd\"\n",
    "\n",
    "print(odd_or_even(4)) \n",
    "print(odd_or_even(7)) \n"
   ]
  },
  {
   "cell_type": "code",
   "execution_count": 63,
   "id": "d7c2b13c-cacc-4ed1-8eaa-40732dc782b4",
   "metadata": {},
   "outputs": [
    {
     "name": "stdout",
     "output_type": "stream",
     "text": [
      "[4, 6, 8, 12]\n"
     ]
    }
   ],
   "source": [
    "#  filter ()-----\n",
    "\n",
    "my_list =[1,5,4,6,8,11,3,12]\n",
    "new_list = list(filter(lambda x: (x%2==0),my_list))\n",
    "print(new_list)"
   ]
  },
  {
   "cell_type": "code",
   "execution_count": 65,
   "id": "e0dba55d-dc3c-4ce8-9d60-e674442be071",
   "metadata": {},
   "outputs": [
    {
     "name": "stdout",
     "output_type": "stream",
     "text": [
      "[2, 10, 8, 12, 16, 22, 6, 24]\n"
     ]
    }
   ],
   "source": [
    "# map ()----\n",
    "\n",
    "my_list =[1,5,4,6,8,11,3,12]\n",
    "new_list = list(map(lambda x : x * 2 , my_list))\n",
    "print(new_list)\n"
   ]
  },
  {
   "cell_type": "code",
   "execution_count": null,
   "id": "aa10149f-a96b-49e8-99c3-6891895463c8",
   "metadata": {},
   "outputs": [],
   "source": []
  }
 ],
 "metadata": {
  "kernelspec": {
   "display_name": "Python [conda env:base] *",
   "language": "python",
   "name": "conda-base-py"
  },
  "language_info": {
   "codemirror_mode": {
    "name": "ipython",
    "version": 3
   },
   "file_extension": ".py",
   "mimetype": "text/x-python",
   "name": "python",
   "nbconvert_exporter": "python",
   "pygments_lexer": "ipython3",
   "version": "3.12.7"
  }
 },
 "nbformat": 4,
 "nbformat_minor": 5
}
