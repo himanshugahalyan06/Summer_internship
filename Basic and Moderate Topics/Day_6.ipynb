{
 "cells": [
  {
   "cell_type": "code",
   "execution_count": 2,
   "id": "38f705f1",
   "metadata": {},
   "outputs": [
    {
     "name": "stdout",
     "output_type": "stream",
     "text": [
      "1 2 3 4 5 "
     ]
    }
   ],
   "source": [
    "for i in range(1,6):\n",
    "    print(i,end=' ')\n"
   ]
  },
  {
   "cell_type": "code",
   "execution_count": 3,
   "id": "bcfec4b5",
   "metadata": {},
   "outputs": [
    {
     "name": "stdout",
     "output_type": "stream",
     "text": [
      "p y t h o n "
     ]
    }
   ],
   "source": [
    "for ch in 'python':\n",
    "    print(ch,end=' ')\n"
   ]
  },
  {
   "cell_type": "code",
   "execution_count": 6,
   "id": "dd518195",
   "metadata": {},
   "outputs": [
    {
     "name": "stdout",
     "output_type": "stream",
     "text": [
      "apple\n",
      "mango\n",
      "pineapple\n",
      "orange\n",
      "banana\n"
     ]
    }
   ],
   "source": [
    "fruits=['apple','mango','pineapple','orange','banana']\n",
    "for i in fruits:\n",
    "    print(i)\n",
    "    \n"
   ]
  },
  {
   "cell_type": "code",
   "execution_count": 8,
   "id": "4d830534",
   "metadata": {},
   "outputs": [
    {
     "name": "stdout",
     "output_type": "stream",
     "text": [
      "0 1 2 3 4 5 6 7 8 9 10 "
     ]
    }
   ],
   "source": [
    "i=0\n",
    "while i<=10:\n",
    "    print(i,end=\" \")\n",
    "    i+=1\n"
   ]
  },
  {
   "cell_type": "code",
   "execution_count": 10,
   "id": "1fc6fe70",
   "metadata": {},
   "outputs": [
    {
     "name": "stdout",
     "output_type": "stream",
     "text": [
      "2 3 4 5 6 7 8 9 10 "
     ]
    }
   ],
   "source": [
    "# Write a program to print all even number between 1 to 11\n",
    "i=2\n",
    "while  i<=10:\n",
    "    print(i,end=' ')\n",
    "    i+=1\n"
   ]
  },
  {
   "cell_type": "code",
   "execution_count": 13,
   "id": "e91fa425",
   "metadata": {},
   "outputs": [
    {
     "name": "stdout",
     "output_type": "stream",
     "text": [
      "0 0\n",
      "0 1\n",
      "1 0\n",
      "1 1\n",
      "2 0\n",
      "2 1\n"
     ]
    }
   ],
   "source": [
    "# Nested Loop \n",
    "for i in range(3):\n",
    "    for j in range(2):\n",
    "        print(i,j)\n"
   ]
  },
  {
   "cell_type": "code",
   "execution_count": 18,
   "id": "ad43142c",
   "metadata": {},
   "outputs": [
    {
     "name": "stdout",
     "output_type": "stream",
     "text": [
      "* \n",
      "* * \n",
      "* * * \n",
      "* * * * \n"
     ]
    }
   ],
   "source": [
    "for i in range(1,5):\n",
    "    for j in range(1,i+1):\n",
    "        print(\"*\",end=' ')\n",
    "    print()\n"
   ]
  },
  {
   "cell_type": "code",
   "execution_count": 31,
   "id": "154862eb",
   "metadata": {},
   "outputs": [
    {
     "name": "stdout",
     "output_type": "stream",
     "text": [
      "1 \n",
      "1 2 \n",
      "1 2 3 \n",
      "1 2 3 4 \n",
      "1 2 3 4 5 \n"
     ]
    }
   ],
   "source": [
    "# Print Number Pattern \n",
    "for i in range(1,6):\n",
    "    for j in range(1,i+1):\n",
    "        print(j,end=' ')\n",
    "    print()\n"
   ]
  },
  {
   "cell_type": "code",
   "execution_count": null,
   "id": "5162bb65",
   "metadata": {},
   "outputs": [
    {
     "name": "stdout",
     "output_type": "stream",
     "text": [
      "1 \n",
      "2 2 \n",
      "3 3 3 \n",
      "4 4 4 4 \n",
      "5 5 5 5 5 \n"
     ]
    }
   ],
   "source": [
    "# print double number pattern in single line \n",
    "for i in range(1,6):\n",
    "    for j in range(1,i+1):\n",
    "        print(i,end=' ')\n",
    "    print()\n"
   ]
  },
  {
   "cell_type": "code",
   "execution_count": 61,
   "id": "f04e23fd",
   "metadata": {},
   "outputs": [
    {
     "name": "stdout",
     "output_type": "stream",
     "text": [
      "5*1=5\n",
      "5*2=10\n",
      "5*3=15\n",
      "5*4=20\n",
      "5*5=25\n",
      "5*6=30\n",
      "5*7=35\n",
      "5*8=40\n",
      "5*9=45\n",
      "5*10=50\n"
     ]
    }
   ],
   "source": [
    "n=int(input(\"Enter the number: \"))\n",
    "for i in range(1,11):\n",
    "    print(f\"{n}*{i}={n*i}\")\n",
    "\n"
   ]
  },
  {
   "cell_type": "markdown",
   "id": "2b04aa8d",
   "metadata": {},
   "source": [
    "## Number Guessing Game\n"
   ]
  },
  {
   "cell_type": "code",
   "execution_count": 51,
   "id": "f6fb4ad6",
   "metadata": {},
   "outputs": [
    {
     "name": "stdout",
     "output_type": "stream",
     "text": [
      "Your  guessed Number is: 23 which is TOO HIGH!!\n",
      "Your  guessed Number is: 43 which is TOO HIGH!!\n",
      "Your  guessed Number is: 54 which is TOO HIGH!!\n",
      "Sorry! You lose! The correct number was 13.\n"
     ]
    }
   ],
   "source": [
    "import random \n",
    "name=input(\"Enter the Name: \")\n",
    "max_attempts=int(input(\"Enter the Number of Attempts: \"))\n",
    "\n",
    "secrect_number=random.randint(0,100)\n",
    "attempts=0\n",
    "\n",
    "while attempts<max_attempts:\n",
    "    attempts+=1\n",
    "    guess_number=int(input(\"Enter your Guess!!: \"))\n",
    "\n",
    "    if secrect_number>guess_number:\n",
    "        print(f\"Your  guessed Number is: {guess_number} which is TOO LOW!!\")\n",
    "        \n",
    "    elif secrect_number<guess_number:\n",
    "        print(f\"Your  guessed Number is: {guess_number} which is TOO HIGH!!\")\n",
    "    \n",
    "    elif secrect_number==guess_number:\n",
    "        print(\"Congrats You Won the Game!!\")\n",
    "        break # Stop the loop when guessing is correct\n",
    "\n",
    "\n",
    "\n",
    "if attempts==max_attempts and guess_number!=secrect_number:\n",
    "    print(f\"Sorry! You lose! The correct number was {secrect_number}.\")\n",
    "\n",
    "\n",
    "\n"
   ]
  },
  {
   "cell_type": "code",
   "execution_count": 71,
   "id": "1dd63813",
   "metadata": {},
   "outputs": [
    {
     "name": "stdout",
     "output_type": "stream",
     "text": [
      "Table of 2!! \n",
      "2*1: 2\n",
      "2*2: 4\n",
      "2*3: 6\n",
      "2*4: 8\n",
      "2*5: 10\n",
      "2*6: 12\n",
      "2*7: 14\n",
      "2*8: 16\n",
      "2*9: 18\n",
      "2*10: 20\n",
      "\n",
      "Table of 3!! \n",
      "3*1: 3\n",
      "3*2: 6\n",
      "3*3: 9\n",
      "3*4: 12\n",
      "3*5: 15\n",
      "3*6: 18\n",
      "3*7: 21\n",
      "3*8: 24\n",
      "3*9: 27\n",
      "3*10: 30\n",
      "\n",
      "Table of 4!! \n",
      "4*1: 4\n",
      "4*2: 8\n",
      "4*3: 12\n",
      "4*4: 16\n",
      "4*5: 20\n",
      "4*6: 24\n",
      "4*7: 28\n",
      "4*8: 32\n",
      "4*9: 36\n",
      "4*10: 40\n",
      "\n"
     ]
    }
   ],
   "source": [
    "# Write a program which print table from a given number to last given number \n",
    "\n",
    "start_number=int(input(\"Enter the starting number: \"))\n",
    "end_number=int(input(\"Enter the end number: \"))\n",
    "for n in range(start_number,end_number+1):\n",
    "    print(f\"Table of {n}!! \")\n",
    "    for i in range(1,11):\n",
    "        print(f\"{n}*{i}:\",n*i)\n",
    "    print()\n"
   ]
  },
  {
   "cell_type": "code",
   "execution_count": null,
   "id": "93bdded6",
   "metadata": {},
   "outputs": [
    {
     "name": "stdout",
     "output_type": "stream",
     "text": [
      "5 5 5 5 5 \n",
      "4 4 4 4 \n",
      "3 3 3 \n",
      "2 2 \n",
      "1 \n"
     ]
    }
   ],
   "source": [
    "# print double number pattern in single line (reverse order)\n",
    "n=int(input(\"Enter the Number: \"))        # range(start,stop,step)\n",
    "for i in range(n,0,-1):                 # start — where we start counting \n",
    "    for j in range(1,i+1):              # stop — where we stop (but we do NOT include this number) loop stop before reaching 0  \n",
    "        print(i,end=' ')                # step — how much we move forward or backward each iteration\n",
    "    print()\n"
   ]
  },
  {
   "cell_type": "code",
   "execution_count": null,
   "id": "0b63b473",
   "metadata": {},
   "outputs": [
    {
     "name": "stdout",
     "output_type": "stream",
     "text": [
      "1 2 3 4 5 \n",
      "1 2 3 4 \n",
      "1 2 3 \n",
      "1 2 \n",
      "1 \n"
     ]
    }
   ],
   "source": [
    "# print double number pattern in single line  (reverse order)\n",
    "n=int(input(\"Enter the Number: \"))\n",
    "for i in range(n,0,-1):  # for number of box \n",
    "    for j in range(1,i+1):  # for number which is filled in box \n",
    "        print(j,end=' ')\n",
    "    print()\n"
   ]
  },
  {
   "cell_type": "code",
   "execution_count": 83,
   "id": "0685a1cf",
   "metadata": {},
   "outputs": [
    {
     "name": "stdout",
     "output_type": "stream",
     "text": [
      "Reversed Nmber is:  123\n"
     ]
    }
   ],
   "source": [
    "# reverse a number using while loop \n",
    "num=int(input(\"Enter the Number: \"))\n",
    "rev=0\n",
    "while num>0:\n",
    "    rev=rev*10+num%10\n",
    "    num//=10\n",
    "print(\"Reversed Nmber is: \",rev)\n"
   ]
  },
  {
   "cell_type": "code",
   "execution_count": 84,
   "id": "908cdf2e",
   "metadata": {},
   "outputs": [
    {
     "name": "stdout",
     "output_type": "stream",
     "text": [
      "5 4 3 2 1 \n",
      "4 3 2 1 \n",
      "3 2 1 \n",
      "2 1 \n",
      "1 \n"
     ]
    }
   ],
   "source": [
    "# print double number pattern in single line  (reverse order)\n",
    "n=int(input(\"Enter the Number: \"))\n",
    "for i in range(n,0,-1):  # for number of box \n",
    "    for j in range(i,0,-1):  # for number which is filled in box \n",
    "        print(j,end=' ')\n",
    "    print()\n"
   ]
  },
  {
   "cell_type": "code",
   "execution_count": 85,
   "id": "fd9f3cca",
   "metadata": {},
   "outputs": [
    {
     "name": "stdout",
     "output_type": "stream",
     "text": [
      "5 5 5 5 5 \n",
      "4 4 4 4 \n",
      "3 3 3 \n",
      "2 2 \n",
      "1 \n"
     ]
    }
   ],
   "source": [
    "# print double number pattern in single line  (reverse order)\n",
    "n=int(input(\"Enter the Number: \"))\n",
    "for i in range(n,0,-1):  # for number of box \n",
    "    for j in range(i,0,-1):  # for number which is filled in box \n",
    "        print(i,end=' ')\n",
    "    print()\n"
   ]
  },
  {
   "cell_type": "code",
   "execution_count": 86,
   "id": "68468cba",
   "metadata": {},
   "outputs": [
    {
     "name": "stdout",
     "output_type": "stream",
     "text": [
      "* * * * * \n",
      "* * * * \n",
      "* * * \n",
      "* * \n",
      "* \n"
     ]
    }
   ],
   "source": [
    "# (reverse order)\n",
    "n=int(input(\"Enter the Number: \"))\n",
    "for i in range(n,0,-1):  # for number of box \n",
    "    for j in range(i,0,-1):  # for number which is filled in box \n",
    "        print('*',end=' ')\n",
    "    print()\n"
   ]
  },
  {
   "cell_type": "code",
   "execution_count": 2,
   "id": "0e5cd358",
   "metadata": {},
   "outputs": [
    {
     "name": "stdout",
     "output_type": "stream",
     "text": [
      "3\n"
     ]
    }
   ],
   "source": [
    "# Total Number of digit in a Number \n",
    "num=int(input(\"Enter the Number: \"))\n",
    "count=0\n",
    "\n",
    "while num>0:\n",
    "    num=num//10\n",
    "    count+=1\n",
    "print(count)\n"
   ]
  },
  {
   "cell_type": "code",
   "execution_count": 7,
   "id": "a5fc4a26",
   "metadata": {},
   "outputs": [
    {
     "name": "stdout",
     "output_type": "stream",
     "text": [
      "6\n"
     ]
    }
   ],
   "source": [
    "# Sum of digit of given number\n",
    "num=int(input(\"Enter the Number: \"))\n",
    "sum=0\n",
    "\n",
    "while num>0:\n",
    "    sum+=num%10\n",
    "    num=num//10\n",
    "print(sum)\n",
    "\n",
    "\n"
   ]
  },
  {
   "cell_type": "code",
   "execution_count": 9,
   "id": "1576169b",
   "metadata": {},
   "outputs": [
    {
     "name": "stdout",
     "output_type": "stream",
     "text": [
      "123\n"
     ]
    }
   ],
   "source": [
    "# Reverse of a Number\n",
    "num=int(input(\"Enter the Number: \"))\n",
    "rev=0\n",
    "while num>0:\n",
    "    rev=rev*10+num%10\n",
    "    num//=10\n",
    "print(rev)\n",
    "\n"
   ]
  },
  {
   "cell_type": "code",
   "execution_count": 4,
   "id": "834a13d0",
   "metadata": {},
   "outputs": [
    {
     "name": "stdout",
     "output_type": "stream",
     "text": [
      "Reversed Number is: 4321 !!\n",
      "1234 is not Pellindrome !!\n"
     ]
    }
   ],
   "source": [
    "# Number is pellindrom or not \n",
    "\n",
    "num=int(input(\"Enter the Number: \"))\n",
    "rev=0\n",
    "temp=num\n",
    "while num>0:\n",
    "    rev=rev*10+num%10\n",
    "    num//=10\n",
    "print(f\"Reversed Number is: {rev} !!\")\n",
    "if temp==rev:\n",
    "    print(f\"Yes Number is Pellindrome {temp} !!\")\n",
    "else:\n",
    "    print(f\"{temp} is not Pellindrome !!\")\n",
    "\n",
    "\n"
   ]
  },
  {
   "cell_type": "code",
   "execution_count": 2,
   "id": "a0230996",
   "metadata": {},
   "outputs": [],
   "source": [
    "# Repalce zero of a number with your favorite digit \n",
    "num=int(input(\"Enter the Number: \"))\n",
    "fav_number=int(input(\"Enter your Favorite Number: \"))\n",
    "\n",
    "\n",
    "\n",
    "\n",
    "# num=input(\"Enter the Number: \")\n",
    "# fav_number=input(\"Enter your Favorite Number: \")\n",
    "# new_number = num.replace('0', fav_number)\n",
    "# print(\"Modified number: \", new_number)\n"
   ]
  },
  {
   "cell_type": "code",
   "execution_count": null,
   "id": "7f8aea21",
   "metadata": {},
   "outputs": [],
   "source": [
    "\n"
   ]
  }
 ],
 "metadata": {
  "kernelspec": {
   "display_name": "Python 3",
   "language": "python",
   "name": "python3"
  },
  "language_info": {
   "codemirror_mode": {
    "name": "ipython",
    "version": 3
   },
   "file_extension": ".py",
   "mimetype": "text/x-python",
   "name": "python",
   "nbconvert_exporter": "python",
   "pygments_lexer": "ipython3",
   "version": "3.11.8"
  }
 },
 "nbformat": 4,
 "nbformat_minor": 5
}
