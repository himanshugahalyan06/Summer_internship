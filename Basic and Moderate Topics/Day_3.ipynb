{
 "cells": [
  {
   "cell_type": "markdown",
   "id": "b71acdf0",
   "metadata": {},
   "source": [
    "#   Input Output Statements\n"
   ]
  },
  {
   "cell_type": "code",
   "execution_count": 1,
   "id": "76d08c8a",
   "metadata": {},
   "outputs": [
    {
     "name": "stdout",
     "output_type": "stream",
     "text": [
      "Hello My Name is: Himanshu Gahalyan\n"
     ]
    }
   ],
   "source": [
    "print(\"Hello My Name is: Himanshu Gahalyan\")\n"
   ]
  },
  {
   "cell_type": "code",
   "execution_count": null,
   "id": "6006ddd6",
   "metadata": {},
   "outputs": [
    {
     "name": "stdout",
     "output_type": "stream",
     "text": [
      "Hello!!"
     ]
    }
   ],
   "source": [
    "print(\"Hello\",end=\"!!\")\n"
   ]
  },
  {
   "cell_type": "markdown",
   "id": "8cc3da91",
   "metadata": {},
   "source": [
    "# Formatted String "
   ]
  },
  {
   "cell_type": "code",
   "execution_count": 5,
   "id": "bd16d598",
   "metadata": {},
   "outputs": [
    {
     "name": "stdout",
     "output_type": "stream",
     "text": [
      "Hi!  \n",
      "Himanshu Gahalyan  \n",
      "You want to register in B.tech CSE AI/ML \n"
     ]
    }
   ],
   "source": [
    "name=input(\"What is your Name ?\")\n",
    "course=input(\"What is your Course ?\")\n",
    "print(f\"Hi!  \\n{name} \\nYou want to register in {course} \")\n"
   ]
  },
  {
   "cell_type": "markdown",
   "id": "c5860c56",
   "metadata": {},
   "source": [
    "# Simple Calculator Using F-string \n"
   ]
  },
  {
   "cell_type": "code",
   "execution_count": 7,
   "id": "ae867a6d",
   "metadata": {},
   "outputs": [
    {
     "name": "stdout",
     "output_type": "stream",
     "text": [
      "You Entered 20.45 and 30.56\n",
      "The Sum of Your Entered Numbers is: 51.01\n",
      "You Entered 20.45 and 30.56\n",
      "The Multiplication of Your  Numbers is: 624.95\n",
      "You Entered 20.45 and 30.56\n",
      "The Subtraction of Your Entered Numbers is: -10.11\n",
      "You Entered 20.45 and 30.56\n",
      "The Division of Your Entered Numbers is: 0.67\n"
     ]
    }
   ],
   "source": [
    "num1=float(input(\"Enter the Number 1: \"))\n",
    "num2=float(input(\"Enter the Number 2: \"))\n",
    "\n",
    "add=num1+num2\n",
    "multi=num1*num2\n",
    "sub=num1-num2\n",
    "div=num1/num2\n",
    "\n",
    "print(f\"You Entered {num1} and {num2}\\nThe Sum of Your Entered Numbers is: {add:.2f}\")\n",
    "print(f\"You Entered {num1} and {num2}\\nThe Multiplication of Your  Numbers is: {multi:.2f}\")\n",
    "print(f\"You Entered {num1} and {num2}\\nThe Subtraction of Your Entered Numbers is: {sub:.2f}\")\n",
    "print(f\"You Entered {num1} and {num2}\\nThe Division of Your Entered Numbers is: {div:.2f}\")\n"
   ]
  },
  {
   "cell_type": "markdown",
   "id": "f34a6aee",
   "metadata": {},
   "source": [
    "# Calculate the Bill\n"
   ]
  },
  {
   "cell_type": "code",
   "execution_count": 9,
   "id": "ca6af97f",
   "metadata": {},
   "outputs": [
    {
     "name": "stdout",
     "output_type": "stream",
     "text": [
      "Hi!!\n",
      "Himanshu Gahalyan \n",
      "Your quantity is: 1000\n",
      "and Price of Item is: 12000.0\n",
      "Your Bill Amount is12000000.00\n"
     ]
    }
   ],
   "source": [
    "Name=input(\"Enter your name: \")\n",
    "price=float(input(\"Enter The price of the item: \"))\n",
    "qty=int(input(\"Enter the Quantity of the item: \"))\n",
    "\n",
    "total=price*qty\n",
    "\n",
    "print(f\"Hi!!\\n{name}\\nYour quantity is: {qty}\\nand Price of Item is: {price}\\nYour Bill Amount is{total:.2f}\")\n"
   ]
  },
  {
   "cell_type": "markdown",
   "id": "99f941b3",
   "metadata": {},
   "source": [
    "# Student Marks Record \n"
   ]
  },
  {
   "cell_type": "code",
   "execution_count": 2,
   "id": "5b8a7cb1",
   "metadata": {},
   "outputs": [
    {
     "name": "stdout",
     "output_type": "stream",
     "text": [
      "Hi!!\n",
      "Himanshu Gahalyan \n",
      "Entered Marks in Hindi: 99.0\n",
      "Entered Marks in English: 99.45\n",
      "Entered Marks in Maths: 99.34\n",
      "Entered Marks in Science: 99.8\n",
      "Entered Marks in Sst: 99.98\n",
      "\n",
      "\n",
      "\n",
      "\n",
      "\u001b[94m---Student Report card for: Himanshu Gahalyan ---\n",
      "\u001b[92mHindi: 99.0\n",
      "\u001b[95mEnglish: 99.45\n",
      "\u001b[93mMaths: 99.34\n",
      "\u001b[96mScience: 99.8\n",
      "\u001b[91mSst: 99.98\n",
      "\u001b[38;5;50mTotal Marks: 497.57\n",
      "\u001b[38;5;202mPercentage: 99.51%\n"
     ]
    }
   ],
   "source": [
    "name=input(\"Enter you Name: \")\n",
    "Hindi=float(input(\"Enter Your Marks in Hindi: \"))\n",
    "English=float(input(\"Enter Your Marks in English: \"))\n",
    "Maths=float(input(\"Enter Your Marks in Maths: \"))\n",
    "Science=float(input(\"Enter Your Marks in Science: \"))\n",
    "Sst=float(input(\"Enter Your Marks in Sst: \"))\n",
    "\n",
    "total=Hindi+English+Maths+Science+Sst\n",
    "percentge=total/500*100\n",
    "\n",
    "## Colors \n",
    "Bright_Red='\\033[91m'\n",
    "Bright_Green='\\033[92m'\n",
    "Bright_Yellow='\\033[93m'\n",
    "Bright_Blue='\\033[94m'\n",
    "Bright_Magenta='\\033[95m'\n",
    "Bright_Cyan='\\033[96m'\n",
    "Bright_White='\\033[97m'\n",
    "Teal = '\\033[38;5;50m'\n",
    "Bright_Orange = '\\033[38;5;202m'\n",
    "Reset = '\\033[0m'\n",
    "\n",
    "print(f\"Hi!!\\n{name}\")\n",
    "print(f\"Entered Marks in Hindi: {Hindi}\")\n",
    "print(f\"Entered Marks in English: {English}\")\n",
    "print(f\"Entered Marks in Maths: {Maths}\")\n",
    "print(f\"Entered Marks in Science: {Science}\")\n",
    "print(f\"Entered Marks in Sst: {Sst}\")\n",
    "\n",
    "\n",
    "print(\"\\n\")\n",
    "print(\"\\n\")\n",
    "\n",
    "\n",
    "report_card={\n",
    "    'Name':name,\n",
    "    'S1':Hindi,\n",
    "    'S2':English,\n",
    "    'S3':Maths,\n",
    "    'S4':Science,\n",
    "    'S5':Sst,\n",
    "    'Total':total,\n",
    "    'Percentage':percentge\n",
    "}\n",
    "\n",
    "print(f\"{Bright_Blue}---Student Report card for: {name}---\")\n",
    "print(f\"{Bright_Green}Hindi: {Hindi}\\n{Bright_Magenta}English: {English}\\n{Bright_Yellow}Maths: {Maths}\\n{Bright_Cyan}Science: {Science}\\n{Bright_Red}Sst: {Sst}\")\n",
    "print(f\"{Teal}Total Marks: {total:.2f}\\n{Bright_Orange}Percentage: {percentge:.2f}%\") \n",
    "\n"
   ]
  },
  {
   "cell_type": "code",
   "execution_count": 20,
   "id": "8cd3ac7d",
   "metadata": {},
   "outputs": [
    {
     "name": "stdout",
     "output_type": "stream",
     "text": [
      "Total is: 144107\n"
     ]
    }
   ],
   "source": [
    "# Example of Typecasting\n",
    "\n",
    "price=float(input(\"Enter The price: \"))\n",
    "qty=int(input(\"Enter The price: \"))\n",
    "\n",
    "total=int(price*qty)\n",
    "print(f\"Total is: {total}\")\n"
   ]
  },
  {
   "cell_type": "code",
   "execution_count": 33,
   "id": "50e13be4",
   "metadata": {},
   "outputs": [
    {
     "name": "stdout",
     "output_type": "stream",
     "text": [
      "a= 10 b= 5\n"
     ]
    }
   ],
   "source": [
    "a=5\n",
    "b=10\n",
    "a=a+b\n",
    "b=a-b\n",
    "a=a-b\n",
    "print(\"a=\",a,\"b=\",b)\n"
   ]
  },
  {
   "cell_type": "markdown",
   "id": "49c33a9b",
   "metadata": {},
   "source": [
    "# Second Method to format a string\n"
   ]
  },
  {
   "cell_type": "markdown",
   "id": "ec95fb0b",
   "metadata": {},
   "source": [
    "#### using string.formate\n"
   ]
  },
  {
   "cell_type": "code",
   "execution_count": null,
   "id": "e56aa15a",
   "metadata": {},
   "outputs": [
    {
     "name": "stdout",
     "output_type": "stream",
     "text": [
      "My name is XYZ and I am 20 years old.\n"
     ]
    }
   ],
   "source": [
    "name=\"XYZ\"\n",
    "age=20\n",
    "\n",
    "print(\"My name is {} and I am {} years old.\".format(name,age))\n"
   ]
  },
  {
   "cell_type": "code",
   "execution_count": 4,
   "id": "dbb0a26c",
   "metadata": {},
   "outputs": [
    {
     "name": "stdout",
     "output_type": "stream",
     "text": [
      "My name is 20 and I am XYZ years old.\n"
     ]
    }
   ],
   "source": [
    "print(\"My name is {1} and I am {0} years old.\".format(name,age))\n"
   ]
  },
  {
   "cell_type": "code",
   "execution_count": 5,
   "id": "016355a6",
   "metadata": {},
   "outputs": [
    {
     "name": "stdout",
     "output_type": "stream",
     "text": [
      "My name is xyz and I am 20 years old.\n"
     ]
    }
   ],
   "source": [
    "print(\"My name is {name} and I am {age} years old.\".format(name='xyz',age=20))\n"
   ]
  },
  {
   "cell_type": "code",
   "execution_count": 6,
   "id": "19440fce",
   "metadata": {},
   "outputs": [
    {
     "name": "stdout",
     "output_type": "stream",
     "text": [
      "My name is xyz and I am 30 years old.\n"
     ]
    }
   ],
   "source": [
    "print(\"My name is {} and I am {} years old.\".format('xyz',30))\n"
   ]
  },
  {
   "cell_type": "code",
   "execution_count": 8,
   "id": "21a43c95",
   "metadata": {},
   "outputs": [
    {
     "name": "stdout",
     "output_type": "stream",
     "text": [
      "My name is 70 and I am ABC years old.\n"
     ]
    }
   ],
   "source": [
    "print(\"My name is {1} and I am {0} years old.\".format('ABC',70))\n"
   ]
  },
  {
   "cell_type": "markdown",
   "id": "4ac63676",
   "metadata": {},
   "source": [
    "## Conditional Statements \n"
   ]
  },
  {
   "cell_type": "code",
   "execution_count": null,
   "id": "b1e7c721",
   "metadata": {},
   "outputs": [
    {
     "name": "stdout",
     "output_type": "stream",
     "text": [
      "Hi!!\n",
      "Himanshu Gahalyan \n",
      " Sit in Auditorium\n",
      "Welcome to Geeta University!!\n"
     ]
    }
   ],
   "source": [
    "# Simple if\n",
    "name=input(\"Enter your name: \")\n",
    "grade=int(input(\"Enter the grade: \"))\n",
    "if grade==1:\n",
    "    print(f\"Hi!!\\n{name}\\nSit in Auditorium\")\n",
    "print(\"Welcome to Geeta University!!\")\n"
   ]
  },
  {
   "cell_type": "code",
   "execution_count": 16,
   "id": "85c7b934",
   "metadata": {},
   "outputs": [
    {
     "name": "stdout",
     "output_type": "stream",
     "text": [
      "Himanshu  You can vote!!\n"
     ]
    }
   ],
   "source": [
    "# if else statement \n",
    "\n",
    "name=input(\"Enter your Name: \")\n",
    "age=int(input(\"Enter your age: \"))\n",
    "\n",
    "# Using a Variable\n",
    "\n",
    "if age>=18:\n",
    "    print(f\"{name} You can vote!!\")\n",
    "else:\n",
    "    print(f\"{name} You are a Minor!!\")\n",
    "\n",
    "\n"
   ]
  },
  {
   "cell_type": "markdown",
   "id": "da0199ad",
   "metadata": {},
   "source": [
    "\n",
    "## Loops in python\n"
   ]
  },
  {
   "cell_type": "code",
   "execution_count": 2,
   "id": "4dd5506f",
   "metadata": {},
   "outputs": [
    {
     "name": "stdout",
     "output_type": "stream",
     "text": [
      "1 2 3 4 5 6 7 8 9 10 "
     ]
    }
   ],
   "source": [
    "# Display numbers from 1 to 10\n",
    "i=1\n",
    "while i<=10:\n",
    "    print(i,end=\" \")\n",
    "    i+=1\n"
   ]
  },
  {
   "cell_type": "code",
   "execution_count": null,
   "id": "4c9d7f71",
   "metadata": {},
   "outputs": [
    {
     "name": "stdout",
     "output_type": "stream",
     "text": [
      "1 2 3 4 5 6 7 8 9 10 "
     ]
    }
   ],
   "source": [
    "# for loop\n",
    "for i in range(1,11):\n",
    "    print(i,end=\" \")\n"
   ]
  },
  {
   "cell_type": "code",
   "execution_count": null,
   "id": "c6069288",
   "metadata": {},
   "outputs": [
    {
     "name": "stdout",
     "output_type": "stream",
     "text": [
      "0 1 2 3 4 5 6 7 8 9 "
     ]
    }
   ],
   "source": [
    "for i in range(10):\n",
    "    print(i,end=\" \")\n"
   ]
  },
  {
   "cell_type": "code",
   "execution_count": 7,
   "id": "b3bc0a3c",
   "metadata": {},
   "outputs": [
    {
     "name": "stdout",
     "output_type": "stream",
     "text": [
      "1 2 3 4 5 6 7 8 9 10 "
     ]
    }
   ],
   "source": [
    "# range(start,end-1,steps)\n",
    "for i in range(1,11,1):\n",
    "    print(i,end=' ')\n"
   ]
  },
  {
   "cell_type": "code",
   "execution_count": 22,
   "id": "749c5eab",
   "metadata": {},
   "outputs": [
    {
     "name": "stdout",
     "output_type": "stream",
     "text": [
      "0 100 200 300 400 500 600 700 800 900 "
     ]
    }
   ],
   "source": [
    "for i in range(0,1000,100):\n",
    "    print(i,end=' ')\n"
   ]
  },
  {
   "cell_type": "code",
   "execution_count": null,
   "id": "c534d4e8",
   "metadata": {},
   "outputs": [
    {
     "name": "stdout",
     "output_type": "stream",
     "text": [
      "0 2 4 6 8 10 12 14 16 18 20 22 24 26 28 30 32 34 36 38 40 42 44 46 48 50 52 54 56 58 60 62 64 66 68 70 72 74 76 78 80 82 84 86 88 90 92 94 96 98 100 "
     ]
    }
   ],
   "source": [
    "# All even numbers from 1 to 100\n",
    "i=0\n",
    "for i in range(101):\n",
    "    if i%2==0:\n",
    "        print(i,end=' ')\n"
   ]
  },
  {
   "cell_type": "code",
   "execution_count": 5,
   "id": "6df8c55f",
   "metadata": {},
   "outputs": [
    {
     "name": "stdout",
     "output_type": "stream",
     "text": [
      "The Sum is:  55\n"
     ]
    }
   ],
   "source": [
    "# Sum from 1 to 10\n",
    "i=1\n",
    "sum=0\n",
    "\n",
    "for i in range(11):\n",
    "    sum+=i\n",
    "print(\"The Sum is: \",sum)\n"
   ]
  },
  {
   "cell_type": "code",
   "execution_count": null,
   "id": "c68727ac",
   "metadata": {},
   "outputs": [
    {
     "name": "stdout",
     "output_type": "stream",
     "text": [
      "40 39 38 37 36 35 34 33 32 31 30 29 28 27 26 25 24 23 22 21 20 "
     ]
    }
   ],
   "source": [
    "# Display number from 40 to 20\n",
    "## Because range() never includes the stop number. It goes up to but not including the stop value.\n",
    "\n",
    "for i in range(40,19,-1):\n",
    "    print(i,end=' ')\n"
   ]
  },
  {
   "cell_type": "code",
   "execution_count": 13,
   "id": "199f75d2",
   "metadata": {},
   "outputs": [
    {
     "name": "stdout",
     "output_type": "stream",
     "text": [
      "The Sum is:  30\n"
     ]
    }
   ],
   "source": [
    "# Sum of all even number from 1 to 10\n",
    "sum=0\n",
    "for i in range(1,11):\n",
    "    if i%2==0:\n",
    "        sum+=i\n",
    "print(\"The Sum is: \",sum)\n"
   ]
  },
  {
   "cell_type": "code",
   "execution_count": 15,
   "id": "a0b172da",
   "metadata": {},
   "outputs": [
    {
     "name": "stdout",
     "output_type": "stream",
     "text": [
      "The Sum is:  30\n"
     ]
    }
   ],
   "source": [
    "sum=0\n",
    "for i in range(2,11,2):\n",
    "    if i%2==0:\n",
    "        sum+=i\n",
    "print(\"The Sum is: \",sum)\n"
   ]
  },
  {
   "cell_type": "code",
   "execution_count": 16,
   "id": "316b1f8c",
   "metadata": {},
   "outputs": [
    {
     "name": "stdout",
     "output_type": "stream",
     "text": [
      "10 12 14 16 18 20 "
     ]
    }
   ],
   "source": [
    "# Display all even from 10 to 20\n",
    "for i in range(10,21,2):\n",
    "    if i%2==0:\n",
    "        print(i,end=' ')\n"
   ]
  },
  {
   "cell_type": "code",
   "execution_count": 17,
   "id": "1935a3c6",
   "metadata": {},
   "outputs": [
    {
     "name": "stdout",
     "output_type": "stream",
     "text": [
      "121 123 125 127 129 "
     ]
    }
   ],
   "source": [
    "# All odd from 120 to 130\n",
    "for i in range(120,131,1):\n",
    "    if i%2!=0:\n",
    "        print(i,end=' ')\n"
   ]
  },
  {
   "cell_type": "code",
   "execution_count": 28,
   "id": "50ba426a",
   "metadata": {},
   "outputs": [
    {
     "name": "stdout",
     "output_type": "stream",
     "text": [
      "100\n"
     ]
    }
   ],
   "source": [
    "# sum of all even from 15 to 25\n",
    "sum=0\n",
    "for i in range(15,26):\n",
    "    if i%2==0:\n",
    "        sum+=i\n",
    "print(sum)\n",
    "\n",
    "\n"
   ]
  },
  {
   "cell_type": "code",
   "execution_count": 35,
   "id": "8912d414",
   "metadata": {},
   "outputs": [
    {
     "name": "stdout",
     "output_type": "stream",
     "text": [
      "29 27 25 23 21 19 17 15 13 11 "
     ]
    }
   ],
   "source": [
    "# Display all odd from 30 to 11 (reverse order )\n",
    "for i in range(30,10,-1):\n",
    "    if i%2!=0:\n",
    "        print(i,end=\" \")\n"
   ]
  },
  {
   "cell_type": "code",
   "execution_count": 36,
   "id": "2b2d3724",
   "metadata": {},
   "outputs": [
    {
     "name": "stdout",
     "output_type": "stream",
     "text": [
      "15 30 45 60 75 90 "
     ]
    }
   ],
   "source": [
    "# All number from 1 to 100 which is divisible by 3 and 5\n",
    "\n",
    "for i in range(1,101):\n",
    "    if i%3==0 and i%5==0:\n",
    "        print(i,end=' ')\n"
   ]
  },
  {
   "cell_type": "code",
   "execution_count": 41,
   "id": "c8bb6933",
   "metadata": {},
   "outputs": [
    {
     "name": "stdout",
     "output_type": "stream",
     "text": [
      "Number of Digits in Entered Number is:  3\n"
     ]
    }
   ],
   "source": [
    "'''\n",
    "Accept number from user and count toal number of digit if there is zero in starting \n",
    "of a number then don't count it \n",
    "if zero is in between the count it \n",
    "'''\n",
    "# Count Number of Digit in a number given by user \n",
    "count=0\n",
    "n=int(input(\"Enter the Number: \"))\n",
    "while n>0:\n",
    "    count+=1\n",
    "    n=n//10\n",
    "print(\"Number of Digits in Entered Number is: \",count)    \n",
    "\n",
    "\n"
   ]
  },
  {
   "cell_type": "code",
   "execution_count": null,
   "id": "4fa3fe33",
   "metadata": {},
   "outputs": [],
   "source": []
  },
  {
   "cell_type": "code",
   "execution_count": null,
   "id": "f9154415",
   "metadata": {},
   "outputs": [],
   "source": []
  }
 ],
 "metadata": {
  "kernelspec": {
   "display_name": "Python 3",
   "language": "python",
   "name": "python3"
  },
  "language_info": {
   "codemirror_mode": {
    "name": "ipython",
    "version": 3
   },
   "file_extension": ".py",
   "mimetype": "text/x-python",
   "name": "python",
   "nbconvert_exporter": "python",
   "pygments_lexer": "ipython3",
   "version": "3.11.8"
  }
 },
 "nbformat": 4,
 "nbformat_minor": 5
}
