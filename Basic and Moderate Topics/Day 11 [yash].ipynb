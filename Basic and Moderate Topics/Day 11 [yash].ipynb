{
 "cells": [
  {
   "cell_type": "code",
   "execution_count": 2,
   "id": "16e5e990-274c-4de6-9eca-8edc10112619",
   "metadata": {},
   "outputs": [
    {
     "data": {
      "text/plain": [
       "{}"
      ]
     },
     "execution_count": 2,
     "metadata": {},
     "output_type": "execute_result"
    }
   ],
   "source": [
    "# empty dictionary\n",
    "my_dict  ={}\n",
    "my_dict"
   ]
  },
  {
   "cell_type": "code",
   "execution_count": 4,
   "id": "17a800ec-8304-4f4c-b03f-e8fa4c6deccc",
   "metadata": {},
   "outputs": [
    {
     "data": {
      "text/plain": [
       "{1030: 'Mayank', 1110: 'Aryan', 1021: 'Palak'}"
      ]
     },
     "execution_count": 4,
     "metadata": {},
     "output_type": "execute_result"
    }
   ],
   "source": [
    "# dictionary with integer key :\n",
    "students = {\n",
    "    1030 : \"Mayank\",\n",
    "    1110 : \"Aryan\",\n",
    "    1021 : \"Palak\"\n",
    "}\n",
    "students"
   ]
  },
  {
   "cell_type": "code",
   "execution_count": 5,
   "id": "8606d618-4781-4eff-b37a-2085f6004ef8",
   "metadata": {},
   "outputs": [
    {
     "data": {
      "text/plain": [
       "{'name': 'John', 1: [2, 3, 4]}"
      ]
     },
     "execution_count": 5,
     "metadata": {},
     "output_type": "execute_result"
    }
   ],
   "source": [
    "# dictionary with mixed keys\n",
    "my_dict = {\n",
    "    \"name\" : \"John\",\n",
    "    1 : [2,3,4]\n",
    "}\n",
    "my_dict"
   ]
  },
  {
   "cell_type": "code",
   "execution_count": 6,
   "id": "bd30fbec-2814-4e5c-b9bb-cd180af3d457",
   "metadata": {},
   "outputs": [
    {
     "data": {
      "text/plain": [
       "{'name': 'YashRaj', 2: [2, 4, 5]}"
      ]
     },
     "execution_count": 6,
     "metadata": {},
     "output_type": "execute_result"
    }
   ],
   "source": [
    "# using dict()\n",
    "my_dict = dict( { \"name\" : \"YashRaj\" , 2 : [2,4,5] } )\n",
    "my_dict"
   ]
  },
  {
   "cell_type": "code",
   "execution_count": 8,
   "id": "c9b58564-3c5d-4f0f-b425-1a3c9b23222c",
   "metadata": {},
   "outputs": [
    {
     "data": {
      "text/plain": [
       "{1: 'apple', 2: 'ball'}"
      ]
     },
     "execution_count": 8,
     "metadata": {},
     "output_type": "execute_result"
    }
   ],
   "source": [
    "# from sequence having each item as a pair\n",
    "my_dict = dict( [ (1,'apple') , (2, 'ball' ) ] )\n",
    "my_dict"
   ]
  },
  {
   "cell_type": "code",
   "execution_count": 9,
   "id": "4615813e-6aab-42ea-a881-a9e6dcf6c3f0",
   "metadata": {},
   "outputs": [
    {
     "data": {
      "text/plain": [
       "'apple'"
      ]
     },
     "execution_count": 9,
     "metadata": {},
     "output_type": "execute_result"
    }
   ],
   "source": [
    "# Accessing elements from dictionary\n",
    "my_dict.get(1)"
   ]
  },
  {
   "cell_type": "code",
   "execution_count": 10,
   "id": "75fd7073-a36a-41fd-be90-b5850106e92e",
   "metadata": {},
   "outputs": [
    {
     "data": {
      "text/plain": [
       "'ball'"
      ]
     },
     "execution_count": 10,
     "metadata": {},
     "output_type": "execute_result"
    }
   ],
   "source": [
    "my_dict[2]"
   ]
  },
  {
   "cell_type": "raw",
   "id": "75cdbff4-5bb0-43c2-897a-d068f594ad20",
   "metadata": {},
   "source": [
    "# change the elements of dictionary\n",
    "students = {\n",
    "    1030 : \"Mayank\",\n",
    "    1110 : \"Aryan\",\n",
    "    1021 : \"Palak\"\n",
    "}\n",
    "\n",
    "students[1030] = \"Rahul\"\n",
    "students"
   ]
  },
  {
   "cell_type": "code",
   "execution_count": 17,
   "id": "6a6c7f28-192c-49c4-b139-dd705cc6afd2",
   "metadata": {},
   "outputs": [
    {
     "name": "stdout",
     "output_type": "stream",
     "text": [
      "Aryan\n",
      "{1021: 'Palak'}\n"
     ]
    }
   ],
   "source": [
    "# pop() -- removes the value of the given key\n",
    "print(students.pop(1110))\n",
    "print(students)"
   ]
  },
  {
   "cell_type": "code",
   "execution_count": 18,
   "id": "b65c7642-bea2-4afd-8703-f8f743c851ba",
   "metadata": {},
   "outputs": [
    {
     "name": "stdout",
     "output_type": "stream",
     "text": [
      "(1021, 'Palak')\n"
     ]
    }
   ],
   "source": [
    "#popitem() -- removes the last item\n",
    "students = {\n",
    "    1030 : \"Mayank\",\n",
    "    1110 : \"Aryan\",\n",
    "    1021 : \"Palak\"}\n",
    "print(students.popitem())"
   ]
  },
  {
   "cell_type": "code",
   "execution_count": 20,
   "id": "52c6a4e3-ee4d-42f4-8987-ad729da08f70",
   "metadata": {},
   "outputs": [
    {
     "data": {
      "text/plain": [
       "{1030: 'Mayank'}"
      ]
     },
     "execution_count": 20,
     "metadata": {},
     "output_type": "execute_result"
    }
   ],
   "source": [
    "# Deleting element using del keyword\n",
    "del students[1110]\n",
    "students"
   ]
  },
  {
   "cell_type": "code",
   "execution_count": 21,
   "id": "1146f5f2-8424-4029-b067-2bff9efe26db",
   "metadata": {},
   "outputs": [],
   "source": [
    "# delete the dictionary itself\n",
    "del students\n"
   ]
  },
  {
   "cell_type": "code",
   "execution_count": 22,
   "id": "308b67c7-9f38-4270-82a2-e994aed28a36",
   "metadata": {},
   "outputs": [
    {
     "ename": "NameError",
     "evalue": "name 'students' is not defined",
     "output_type": "error",
     "traceback": [
      "\u001b[1;31m---------------------------------------------------------------------------\u001b[0m",
      "\u001b[1;31mNameError\u001b[0m                                 Traceback (most recent call last)",
      "Cell \u001b[1;32mIn[22], line 1\u001b[0m\n\u001b[1;32m----> 1\u001b[0m students\n",
      "\u001b[1;31mNameError\u001b[0m: name 'students' is not defined"
     ]
    }
   ],
   "source": [
    "students"
   ]
  },
  {
   "cell_type": "code",
   "execution_count": 24,
   "id": "2f446733-1169-4a5a-a6eb-72781444adb5",
   "metadata": {},
   "outputs": [
    {
     "data": {
      "text/plain": [
       "{1: 'one', 2: 'two', 3: 'three', 4: 'four'}"
      ]
     },
     "execution_count": 24,
     "metadata": {},
     "output_type": "execute_result"
    }
   ],
   "source": [
    "# Methods of dictionary\n",
    "d = { 1 : 'one' , 2 : 'two' , 3 : 'three' , 4 : 'four' }\n",
    "d"
   ]
  },
  {
   "cell_type": "code",
   "execution_count": 25,
   "id": "6fac335f-a9fa-4539-95f8-093231f2c05a",
   "metadata": {},
   "outputs": [
    {
     "data": {
      "text/plain": [
       "{}"
      ]
     },
     "execution_count": 25,
     "metadata": {},
     "output_type": "execute_result"
    }
   ],
   "source": [
    "# clear() -- remove all items from the dictionary\n",
    "d.clear()\n",
    "d"
   ]
  },
  {
   "cell_type": "code",
   "execution_count": 27,
   "id": "aced06a9-3fb4-43a6-b69c-88bfed45deb2",
   "metadata": {},
   "outputs": [],
   "source": [
    "#copy() -- it make the copy of your dictionary\n",
    "original = {\n",
    "    \"India\" : \"New Delhi\",\n",
    "    \"Nepal\" : \"Kathmandu\",\n",
    "    \"America\" : \"Washington DC\"\n",
    "}\n",
    "new_dict = original.copy()\n"
   ]
  },
  {
   "cell_type": "code",
   "execution_count": 28,
   "id": "a5eaa65c-41b2-4548-9719-6c07943303c8",
   "metadata": {},
   "outputs": [
    {
     "data": {
      "text/plain": [
       "{'India': 'New Delhi', 'Nepal': 'Kathmandu', 'America': 'Washington DC'}"
      ]
     },
     "execution_count": 28,
     "metadata": {},
     "output_type": "execute_result"
    }
   ],
   "source": [
    "new_dict"
   ]
  },
  {
   "cell_type": "code",
   "execution_count": 29,
   "id": "026e26a8-7860-4d5a-b2d9-26b0c0cdaec2",
   "metadata": {},
   "outputs": [
    {
     "data": {
      "text/plain": [
       "{'India': 'New Delhi', 'Nepal': 'China', 'America': 'Washington DC'}"
      ]
     },
     "execution_count": 29,
     "metadata": {},
     "output_type": "execute_result"
    }
   ],
   "source": [
    "new_dict['Nepal'] = 'China'\n",
    "new_dict\n",
    "# changes made in copy will not affect in copy  and vice versa"
   ]
  },
  {
   "cell_type": "code",
   "execution_count": 31,
   "id": "40e129c4-3712-4b36-b79b-a0ea52760a57",
   "metadata": {},
   "outputs": [
    {
     "data": {
      "text/plain": [
       "{'India': 'New Delhi', 'Nepal': 'Kathmandu', 'America': 'London'}"
      ]
     },
     "execution_count": 31,
     "metadata": {},
     "output_type": "execute_result"
    }
   ],
   "source": [
    "original['America'] = 'London'\n",
    "original"
   ]
  },
  {
   "cell_type": "code",
   "execution_count": 32,
   "id": "75e0635a-e1cb-4a8e-8e47-8e4b6a79be7f",
   "metadata": {},
   "outputs": [
    {
     "data": {
      "text/plain": [
       "{'India': 'New Delhi', 'Nepal': 'China', 'America': 'Washington DC'}"
      ]
     },
     "execution_count": 32,
     "metadata": {},
     "output_type": "execute_result"
    }
   ],
   "source": [
    "new_dict"
   ]
  },
  {
   "cell_type": "code",
   "execution_count": 41,
   "id": "264ab262-eef9-49f0-9690-8af78c621581",
   "metadata": {},
   "outputs": [
    {
     "data": {
      "text/plain": [
       "{'Gold': 'Aryan', 'Bronze': 'Aryan', 'Silver': 'Aryan'}"
      ]
     },
     "execution_count": 41,
     "metadata": {},
     "output_type": "execute_result"
    }
   ],
   "source": [
    "#fromkeys()\n",
    "medals = { 'Gold' ,  'Silver' , 'Bronze' }\n",
    "medal_winner = dict.fromkeys(medals, \"Aryan\" )\n",
    "medal_winner"
   ]
  },
  {
   "cell_type": "code",
   "execution_count": 42,
   "id": "4cf16579-4e1f-46b7-815e-44e5da6b2d23",
   "metadata": {},
   "outputs": [
    {
     "data": {
      "text/plain": [
       "{'India': 'New Delhi', 'Nepal': 'Kathmandu', 'America': 'London'}"
      ]
     },
     "execution_count": 42,
     "metadata": {},
     "output_type": "execute_result"
    }
   ],
   "source": [
    "#items()\n",
    "original"
   ]
  },
  {
   "cell_type": "code",
   "execution_count": 43,
   "id": "3574346b-0062-4c57-98f5-9bd14daa540c",
   "metadata": {},
   "outputs": [
    {
     "data": {
      "text/plain": [
       "dict_items([('India', 'New Delhi'), ('Nepal', 'Kathmandu'), ('America', 'London')])"
      ]
     },
     "execution_count": 43,
     "metadata": {},
     "output_type": "execute_result"
    }
   ],
   "source": [
    "original.items()"
   ]
  },
  {
   "cell_type": "code",
   "execution_count": 44,
   "id": "7a9e8401-2c79-4360-9f53-0f7b1da9a3e0",
   "metadata": {},
   "outputs": [
    {
     "data": {
      "text/plain": [
       "dict_keys(['India', 'Nepal', 'America'])"
      ]
     },
     "execution_count": 44,
     "metadata": {},
     "output_type": "execute_result"
    }
   ],
   "source": [
    "original.keys()"
   ]
  },
  {
   "cell_type": "code",
   "execution_count": 45,
   "id": "c904934e-d336-4fb4-8da0-724bbccd1c68",
   "metadata": {},
   "outputs": [
    {
     "data": {
      "text/plain": [
       "dict_values(['New Delhi', 'Kathmandu', 'London'])"
      ]
     },
     "execution_count": 45,
     "metadata": {},
     "output_type": "execute_result"
    }
   ],
   "source": [
    "original.values()"
   ]
  },
  {
   "cell_type": "code",
   "execution_count": 47,
   "id": "b3911e56-636e-4825-9a69-13fca4a785c0",
   "metadata": {},
   "outputs": [
    {
     "name": "stdout",
     "output_type": "stream",
     "text": [
      "{'name': 'phill', 'age': 22}\n",
      "22\n"
     ]
    }
   ],
   "source": [
    "# setdefault() -- it sets the default value\n",
    "person = {'name' : 'phill' , 'age': 22 }\n",
    "age = person.setdefault('age')\n",
    "print(person)\n",
    "print(age)\n",
    "          "
   ]
  },
  {
   "cell_type": "code",
   "execution_count": 51,
   "id": "03555c21-aa1c-41dd-94ea-514a9f205035",
   "metadata": {},
   "outputs": [
    {
     "name": "stdout",
     "output_type": "stream",
     "text": [
      "{1: 'one', 2: 'two', 3: 'three', 4: 'four', 5: 'five'}\n"
     ]
    }
   ],
   "source": [
    "#update() -- updates the key values\n",
    "d = {\n",
    "    1 : 'one' , \n",
    "    2 : 'three'\n",
    "}\n",
    "d1 = { 2 : 'two' , 3 : 'three' ,  4 : 'four' , 5 : 'five' }\n",
    "# updates the value of key 2\n",
    "d.update(d1)\n",
    "print(d)"
   ]
  },
  {
   "cell_type": "code",
   "execution_count": 55,
   "id": "6b5fb2e7-ec02-42dd-9295-f9473b4f7c51",
   "metadata": {},
   "outputs": [
    {
     "name": "stdout",
     "output_type": "stream",
     "text": [
      "['America', 'India', 'Nepal']\n",
      "['Nepal', 'India', 'America']\n"
     ]
    }
   ],
   "source": [
    "# sorted\n",
    "# will arrange in ascending order\n",
    "print(sorted(original))\n",
    "print(sorted(original, reverse = 2)) # will arrange in descending order"
   ]
  },
  {
   "cell_type": "code",
   "execution_count": null,
   "id": "0504ae10-46a0-4691-8c58-b7b95a4aed4e",
   "metadata": {},
   "outputs": [],
   "source": []
  },
  {
   "cell_type": "code",
   "execution_count": 4,
   "id": "6b60c703-0856-40c4-bced-404fa4f7441d",
   "metadata": {},
   "outputs": [
    {
     "name": "stdout",
     "output_type": "stream",
     "text": [
      "Welcome to the Periodic Table Quiz!\n",
      "You'll be asked 5 random questions. Type the symbol of elements \n"
     ]
    },
    {
     "name": "stdin",
     "output_type": "stream",
     "text": [
      "Q1: What is the symbol of Tellurium ?  tl\n"
     ]
    },
    {
     "name": "stdout",
     "output_type": "stream",
     "text": [
      "Incorrect. The correct answer is Te.\n",
      "\n"
     ]
    },
    {
     "name": "stdin",
     "output_type": "stream",
     "text": [
      "Q2: What is the symbol of Promethium ?  pr\n"
     ]
    },
    {
     "name": "stdout",
     "output_type": "stream",
     "text": [
      "Incorrect. The correct answer is Pm.\n",
      "\n"
     ]
    },
    {
     "name": "stdin",
     "output_type": "stream",
     "text": [
      "Q3: What is the symbol of Uranium ?  ur\n"
     ]
    },
    {
     "name": "stdout",
     "output_type": "stream",
     "text": [
      "Incorrect. The correct answer is U.\n",
      "\n"
     ]
    },
    {
     "name": "stdin",
     "output_type": "stream",
     "text": [
      "Q4: What is the symbol of Scandium ?  sc\n"
     ]
    },
    {
     "name": "stdout",
     "output_type": "stream",
     "text": [
      "Correct!\n",
      "\n"
     ]
    },
    {
     "name": "stdin",
     "output_type": "stream",
     "text": [
      "Q5: What is the symbol of Technetium ?  te\n"
     ]
    },
    {
     "name": "stdout",
     "output_type": "stream",
     "text": [
      "Incorrect. The correct answer is Tc.\n",
      "\n",
      "Quiz Over! Your final score: 1/5\n"
     ]
    }
   ],
   "source": [
    "import random\n",
    "\n",
    "Elements_Symbols = {\n",
    "\"Hydrogen\":\"H\",\n",
    "\"Helium\":\"He\",\n",
    "\"Lithium\":\"Li\",\n",
    "\"Beryllium\":\"Be\",\n",
    "\"Boron\":\"B\",\n",
    "\"Carbon\":\"C\",\n",
    "\"Nitrogen\":\"N\",\n",
    "\"Oxygen\":\"O\",\n",
    "\"Fluorine\":\"F\",\n",
    "\"Neon\":\"Ne\",\n",
    "\"Sodium\":\"Na\",\n",
    "\"Magnesium\":\"Mg\",\n",
    "\"Aluminum\":\"Al\",\n",
    "\"Silicon\":\"Si\",\n",
    "\"Phosphorus\":\"P\",\n",
    "\"Sulfur\":\"S\",\n",
    "\"Chlorine\":\"Cl\",\n",
    "\"Argon\":\"Ar\",\n",
    "\"Potassium\":\"K\",\n",
    "\"Calcium\":\"Ca\",\n",
    "\"Scandium\":\"Sc\",\n",
    "\"Titanium\":\"Ti\",\n",
    "\"Vanadium\":\"V\",\n",
    "\"Chromium\":\"Cr\",\n",
    "\"Manganese\":\"Mn\",\n",
    "\"Iron\":\"Fe\",\n",
    "\"Cobalt\":\"Co\",\n",
    "\"Nickel\":\"Ni\",\n",
    "\"Copper\":\"Cu\",\n",
    "\"Zinc\":\"Zn\",\n",
    "\"Gallium\":\"Ga\",\n",
    "\"Germanium\":\"Ge\",\n",
    "\"Arsenic\":\"As\",\n",
    "\"Selenium\":\"Se\",\n",
    "\"Bromine\":\"Br\",\n",
    "\"Krypton\":\"Kr\",\n",
    "\"Rubidium\":\"Rb\",\n",
    "\"Strontium\":\"Sr\",\n",
    "\"Yttrium\":\"Y\",\n",
    "\"Zirconium\":\"Zr\",\n",
    "\"Niobium\":\"Nb\",\n",
    "\"Molybdenum\":\"Mo\",\n",
    "\"Technetium\":\"Tc\",\n",
    "\"Ruthenium\":\"Ru\",\n",
    "\"Rhodium\":\"Rh\",\n",
    "\"Palladium\":\"Pd\",\n",
    "\"Silver\":\"Ag\",\n",
    "\"Cadmium\":\"Cd\",\n",
    "\"Indium\":\"In\",\n",
    "\"Tin\":\"Sn\",\n",
    "\"Antimony\":\"Sb\",\n",
    "\"Tellurium\":\"Te\",\n",
    "\"Iodine\":\"I\",\n",
    "\"Xenon\":\"Xe\",\n",
    "\"Cesium\":\"Cs\",\n",
    "\"Barium\":\"Ba\",\n",
    "\"Lanthanum\":\"La\",\n",
    "\"Cerium\":\"Ce\",\n",
    "\"Praseodymium\":\"Pr\",\n",
    "\"Neodymium\":\"Nd\",\n",
    "\"Promethium\":\"Pm\",\n",
    "\"Samarium\":\"Sm\",\n",
    "\"Europium\":\"Eu\",\n",
    "\"Gadolinium\":\"Gd\",\n",
    "\"Terbium\":\"Tb\",\n",
    "\"Dysprosium\":\"Dy\",\n",
    "\"Holmium\":\"Ho\",\n",
    "\"Erbium\":\"Er\",\n",
    "\"Thulium\":\"Tm\",\n",
    "\"Ytterbium\":\"Yb\",\n",
    "\"Lutetium\":\"Lu\",\n",
    "\"Hafnium\":\"Hf\",\n",
    "\"Tantalum\":\"Ta\",\n",
    "\"Tungsten\":\"W\",\n",
    "\"Rhenium\":\"Re\",\n",
    "\"Osmium\":\"Os\",\n",
    "\"Iridium\":\"Ir\",\n",
    "\"Platinum\":\"Pt\",\n",
    "\"Gold\":\"Au\",\n",
    "\"Mercury\":\"Hg\",\n",
    "\"Thallium\":\"Tl\",\n",
    "\"Lead\":\"Pb\",\n",
    "\"Bismuth\":\"Bi\",\n",
    "\"Polonium\":\"Po\",\n",
    "\"Astatine\":\"At\",\n",
    "\"Radon\":\"Rn\",\n",
    "\"Francium\":\"Fr\",\n",
    "\"Radium\":\"Ra\",\n",
    "\"Actinium\":\"Ac\",\n",
    "\"Thorium\":\"Th\",\n",
    "\"Protactinium\":\"Pa\",\n",
    "\"Uranium\":\"U\",\n",
    "\"Neptunium\":\"Np\",\n",
    "\"Plutonium\":\"Pu\",\n",
    "\"Americium\":\"Am\",\n",
    "\"Curium\":\"Cm\",\n",
    "\"Berkelium\":\"Bk\",\n",
    "\"Californium\":\"Cf\",\n",
    "\"Einsteinium\":\"Es\",\n",
    "\"Fermium\":\"Fm\",\n",
    "\"Mendelevium\":\"Md\",\n",
    "\"Nobelium\":\"No\",\n",
    "\"Lawrencium\":\"Lr\",\n",
    "\"Rutherfordium\":\"Rf\",\n",
    "\"Dubnium\":\"Db\",\n",
    "\"Seaborgium\":\"Sg\",\n",
    "\"Bohrium\":\"Bh\",\n",
    "\"Hassium\":\"Hs\",\n",
    "\"Meitnerium\":\"Mt\",\n",
    "\"Darmstadtium\":\"Ds\",\n",
    "\"Roentgenium\":\"Rg\",\n",
    "\"Copernicium\":\"Cn\",\n",
    "\"Nihonium\":\"Nh\",\n",
    "\"Flerovium\":\"Fl\",\n",
    "\"Moscovium\":\"Mc\",\n",
    "\"Livermorium\":\"Lv\",\n",
    "\"Tennessine\":\"Ts\",\n",
    "\"Oganesson\":\"Og\"\n",
    "}\n",
    "\n",
    "score = 0 \n",
    "questions =  5\n",
    "\n",
    "print(\"Welcome to the Periodic Table Quiz!\")\n",
    "print(f\"You'll be asked {questions} random questions. Type the symbol of elements \")\n",
    "\n",
    "for i in range(questions):\n",
    "    element = random.choice(list(Elements_Symbols.keys()))\n",
    "    symbol = Elements_Symbols[element]\n",
    "    answer = input(f\"Q{i+1}: What is the symbol of {element} ? \") \n",
    "    \n",
    "    if answer.lower() == symbol.lower():\n",
    "        print(\"Correct!\\n\")\n",
    "        score += 1\n",
    "    else:\n",
    "        print(f\"Incorrect. The correct answer is {symbol}.\\n\")\n",
    "\n",
    "print(f\"Quiz Over! Your final score: {score}/{questions}\")\n"
   ]
  },
  {
   "cell_type": "code",
   "execution_count": null,
   "id": "d7559bf5-e336-4d3c-a8e1-e47a68b15a13",
   "metadata": {},
   "outputs": [],
   "source": []
  },
  {
   "cell_type": "code",
   "execution_count": 2,
   "id": "c6710598-d061-477e-a039-b789f7002388",
   "metadata": {},
   "outputs": [
    {
     "name": "stdout",
     "output_type": "stream",
     "text": [
      "🌍 Welcome to the Capital City Quiz!\n",
      "You'll be asked 5 random questions. Type the capital of the country \n"
     ]
    },
    {
     "name": "stdin",
     "output_type": "stream",
     "text": [
      "Q1: What is the capital of Madagascar?  peru\n"
     ]
    },
    {
     "name": "stdout",
     "output_type": "stream",
     "text": [
      "Incorrect. The correct answer is Antananarivo.\n",
      "\n"
     ]
    },
    {
     "name": "stdin",
     "output_type": "stream",
     "text": [
      "Q2: What is the capital of Italy?  rome\n"
     ]
    },
    {
     "name": "stdout",
     "output_type": "stream",
     "text": [
      "Correct!\n",
      "\n"
     ]
    },
    {
     "name": "stdin",
     "output_type": "stream",
     "text": [
      "Q3: What is the capital of Cyprus?  none'\n"
     ]
    },
    {
     "name": "stdout",
     "output_type": "stream",
     "text": [
      "Incorrect. The correct answer is Nicosia.\n",
      "\n"
     ]
    },
    {
     "name": "stdin",
     "output_type": "stream",
     "text": [
      "Q4: What is the capital of Namibia?  idk\n"
     ]
    },
    {
     "name": "stdout",
     "output_type": "stream",
     "text": [
      "Incorrect. The correct answer is Windhoek.\n",
      "\n"
     ]
    },
    {
     "name": "stdin",
     "output_type": "stream",
     "text": [
      "Q5: What is the capital of Italy?  kya pata\n"
     ]
    },
    {
     "name": "stdout",
     "output_type": "stream",
     "text": [
      "Incorrect. The correct answer is Rome.\n",
      "\n",
      "Quiz Over! Your final score: 1/5\n"
     ]
    }
   ],
   "source": [
    "import random\n",
    "country_capitals = {\n",
    "    \"Afghanistan\": \"Kabul\",\n",
    "    \"Albania\": \"Tirana\",\n",
    "    \"Algeria\": \"Algiers\",\n",
    "    \"Andorra\": \"Andorra la Vella\",\n",
    "    \"Angola\": \"Luanda\",\n",
    "    \"Antigua and Barbuda\": \"Saint John's\",\n",
    "    \"Argentina\": \"Buenos Aires\",\n",
    "    \"Armenia\": \"Yerevan\",\n",
    "    \"Australia\": \"Canberra\",\n",
    "    \"Austria\": \"Vienna\",\n",
    "    \"Azerbaijan\": \"Baku\",\n",
    "    \"Bahamas\": \"Nassau\",\n",
    "    \"Bahrain\": \"Manama\",\n",
    "    \"Bangladesh\": \"Dhaka\",\n",
    "    \"Barbados\": \"Bridgetown\",\n",
    "    \"Belarus\": \"Minsk\",\n",
    "    \"Belgium\": \"Brussels\",\n",
    "    \"Belize\": \"Belmopan\",\n",
    "    \"Benin\": \"Porto-Novo\",\n",
    "    \"Bhutan\": \"Thimphu\",\n",
    "    \"Bolivia\": \"Sucre\",  # (judicial), government seated in La Paz\n",
    "    \"Bosnia and Herzegovina\": \"Sarajevo\",\n",
    "    \"Botswana\": \"Gaborone\",\n",
    "    \"Brazil\": \"Brasília\",\n",
    "    \"Brunei\": \"Bandar Seri Begawan\",\n",
    "    \"Bulgaria\": \"Sofia\",\n",
    "    \"Burkina Faso\": \"Ouagadougou\",\n",
    "    \"Burundi\": \"Gitega\",\n",
    "    \"Cambodia\": \"Phnom Penh\",\n",
    "    \"Cameroon\": \"Yaoundé\",\n",
    "    \"Canada\": \"Ottawa\",\n",
    "    \"Cape Verde\": \"Praia\",\n",
    "    \"Central African Republic\": \"Bangui\",\n",
    "    \"Chad\": \"N'Djamena\",\n",
    "    \"Chile\": \"Santiago\",\n",
    "    \"China\": \"Beijing\",\n",
    "    \"Colombia\": \"Bogotá\",\n",
    "    \"Comoros\": \"Moroni\",\n",
    "    \"Congo (Kinshasa)\": \"Kinshasa\",\n",
    "    \"Congo (Brazzaville)\": \"Brazzaville\",\n",
    "    \"Costa Rica\": \"San José\",\n",
    "    \"Côte d'Ivoire\": \"Yamoussoukro\",\n",
    "    \"Croatia\": \"Zagreb\",\n",
    "    \"Cuba\": \"Havana\",\n",
    "    \"Cyprus\": \"Nicosia\",\n",
    "    \"Czechia\": \"Prague\",\n",
    "    \"Denmark\": \"Copenhagen\",\n",
    "    \"Djibouti\": \"Djibouti\",\n",
    "    \"Dominica\": \"Roseau\",\n",
    "    \"Dominican Republic\": \"Santo Domingo\",\n",
    "    \"East Timor\": \"Dili\",\n",
    "    \"Ecuador\": \"Quito\",\n",
    "    \"Egypt\": \"Cairo\",\n",
    "    \"El Salvador\": \"San Salvador\",\n",
    "    \"Equatorial Guinea\": \"Malabo\",\n",
    "    \"Eritrea\": \"Asmara\",\n",
    "    \"Estonia\": \"Tallinn\",\n",
    "    \"Eswatini\": \"Mbabane\",\n",
    "    \"Ethiopia\": \"Addis Ababa\",\n",
    "    \"Federated States of Micronesia\": \"Palikir\",\n",
    "    \"Fiji\": \"Suva\",\n",
    "    \"Finland\": \"Helsinki\",\n",
    "    \"France\": \"Paris\",\n",
    "    \"Gabon\": \"Libreville\",\n",
    "    \"Gambia\": \"Banjul\",\n",
    "    \"Georgia\": \"Tbilisi\",\n",
    "    \"Germany\": \"Berlin\",\n",
    "    \"Ghana\": \"Accra\",\n",
    "    \"Greece\": \"Athens\",\n",
    "    \"Grenada\": \"Saint George's\",\n",
    "    \"Guatemala\": \"Guatemala City\",\n",
    "    \"Guinea\": \"Conakry\",\n",
    "    \"Guinea-Bissau\": \"Bissau\",\n",
    "    \"Guyana\": \"Georgetown\",\n",
    "    \"Haiti\": \"Port-au-Prince\",\n",
    "    \"Honduras\": \"Tegucigalpa\",\n",
    "    \"Hungary\": \"Budapest\",\n",
    "    \"Iceland\": \"Reykjavik\",\n",
    "    \"India\": \"New Delhi\",\n",
    "    \"Indonesia\": \"Jakarta\",\n",
    "    \"Iran\": \"Tehran\",\n",
    "    \"Iraq\": \"Baghdad\",\n",
    "    \"Ireland\": \"Dublin\",\n",
    "    \"Israel\": \"Jerusalem\",\n",
    "    \"Italy\": \"Rome\",\n",
    "    \"Jamaica\": \"Kingston\",\n",
    "    \"Japan\": \"Tokyo\",\n",
    "    \"Jordan\": \"Amman\",\n",
    "    \"Kazakhstan\": \"Astana\",\n",
    "    \"Kenya\": \"Nairobi\",\n",
    "    \"Kiribati\": \"South Tarawa\",\n",
    "    \"Kosovo\": \"Pristina\",\n",
    "    \"Kuwait\": \"Kuwait City\",\n",
    "    \"Kyrgyzstan\": \"Bishkek\",\n",
    "    \"Laos\": \"Vientiane\",\n",
    "    \"Latvia\": \"Riga\",\n",
    "    \"Lebanon\": \"Beirut\",\n",
    "    \"Lesotho\": \"Maseru\",\n",
    "    \"Liberia\": \"Monrovia\",\n",
    "    \"Libya\": \"Tripoli\",\n",
    "    \"Liechtenstein\": \"Vaduz\",\n",
    "    \"Lithuania\": \"Vilnius\",\n",
    "    \"Luxembourg\": \"Luxembourg\",\n",
    "    \"Madagascar\": \"Antananarivo\",\n",
    "    \"Malawi\": \"Lilongwe\",\n",
    "    \"Malaysia\": \"Kuala Lumpur\",\n",
    "    \"Maldives\": \"Malé\",\n",
    "    \"Mali\": \"Bamako\",\n",
    "    \"Malta\": \"Valletta\",\n",
    "    \"Marshall Islands\": \"Majuro\",\n",
    "    \"Mauritania\": \"Nouakchott\",\n",
    "    \"Mauritius\": \"Port Louis\",\n",
    "    \"Mexico\": \"Mexico City\",\n",
    "    \"Moldova\": \"Chișinău\",\n",
    "    \"Monaco\": \"Monaco\",\n",
    "    \"Mongolia\": \"Ulaanbaatar\",\n",
    "    \"Montenegro\": \"Podgorica\",\n",
    "    \"Morocco\": \"Rabat\",\n",
    "    \"Mozambique\": \"Maputo\",\n",
    "    \"Myanmar\": \"Nay Pyi Taw\",\n",
    "    \"Namibia\": \"Windhoek\",\n",
    "    \"Nauru\": \"None (Yaren District)\",\n",
    "    \"Nepal\": \"Kathmandu\",\n",
    "    \"Netherlands\": \"Amsterdam\",\n",
    "    \"New Zealand\": \"Wellington\",\n",
    "    \"Nicaragua\": \"Managua\",\n",
    "    \"Niger\": \"Niamey\",\n",
    "    \"Nigeria\": \"Abuja\",\n",
    "    \"North Korea\": \"Pyongyang\",\n",
    "    \"North Macedonia\": \"Skopje\",\n",
    "    \"Norway\": \"Oslo\",\n",
    "    \"Oman\": \"Muscat\",\n",
    "    \"Pakistan\": \"Islamabad\",\n",
    "    \"Palau\": \"Melekeok\",\n",
    "    \"Palestine\": \"East Jerusalem\",\n",
    "    \"Panama\": \"Panama City\",\n",
    "    \"Papua New Guinea\": \"Port Moresby\",\n",
    "    \"Paraguay\": \"Asunción\",\n",
    "    \"Peru\": \"Lima\",\n",
    "    \"Philippines\": \"Manila\",\n",
    "    \"Poland\": \"Warsaw\",\n",
    "    \"Portugal\": \"Lisbon\",\n",
    "    \"Qatar\": \"Doha\",\n",
    "    \"Romania\": \"Bucharest\",\n",
    "    \"Russia\": \"Moscow\",\n",
    "    \"Rwanda\": \"Kigali\",\n",
    "    \"Saint Kitts and Nevis\": \"Basseterre\",\n",
    "    \"Saint Lucia\": \"Castries\",\n",
    "    \"Saint Vincent and the Grenadines\": \"Kingstown\",\n",
    "    \"Samoa\": \"Apia\",\n",
    "    \"San Marino\": \"San Marino\",\n",
    "    \"Sao Tome and Principe\": \"São Tomé\",\n",
    "    \"Saudi Arabia\": \"Riyadh\",\n",
    "    \"Senegal\": \"Dakar\",\n",
    "    \"Serbia\": \"Belgrade\",\n",
    "    \"Seychelles\": \"Victoria\",\n",
    "    \"Sierra Leone\": \"Freetown\",\n",
    "    \"Singapore\": \"Singapore\",\n",
    "    \"Slovakia\": \"Bratislava\",\n",
    "    \"Slovenia\": \"Ljubljana\",\n",
    "    \"Solomon Islands\": \"Honiara\",\n",
    "    \"Somalia\": \"Mogadishu\",\n",
    "    \"South Africa\": \"Pretoria\",\n",
    "    \"South Korea\": \"Seoul\",\n",
    "    \"South Sudan\": \"Juba\",\n",
    "    \"Spain\": \"Madrid\",\n",
    "    \"Sri Lanka\": \"Sri Jayawardenepura Kotte\",\n",
    "    \"Sudan\": \"Khartoum\",\n",
    "    \"Suriname\": \"Paramaribo\",\n",
    "    \"Sweden\": \"Stockholm\",\n",
    "    \"Switzerland\": \"Bern\",\n",
    "    \"Syria\": \"Damascus\",\n",
    "    \"Taiwan\": \"Taipei\",\n",
    "    \"Tajikistan\": \"Dushanbe\",\n",
    "    \"Tanzania\": \"Dodoma\",\n",
    "    \"Thailand\": \"Bangkok\",\n",
    "    \"Togo\": \"Lomé\",\n",
    "    \"Tonga\": \"Nukuʻalofa\",\n",
    "    \"Trinidad and Tobago\": \"Port of Spain\",\n",
    "    \"Tunisia\": \"Tunis\",\n",
    "    \"Türkiye\": \"Ankara\",\n",
    "    \"Turkmenistan\": \"Ashgabat\",\n",
    "    \"Tuvalu\": \"Funafuti\",\n",
    "    \"Uganda\": \"Kampala\",\n",
    "    \"Ukraine\": \"Kyiv\",\n",
    "    \"United Arab Emirates\": \"Abu Dhabi\",\n",
    "    \"United Kingdom\": \"London\",\n",
    "    \"United States\": \"Washington, D.C.\",\n",
    "    \"Uruguay\": \"Montevideo\",\n",
    "    \"Uzbekistan\": \"Tashkent\",\n",
    "    \"Vanuatu\": \"Port Vila\",\n",
    "    \"Vatican City\": \"Vatican City\",\n",
    "    \"Venezuela\": \"Caracas\",\n",
    "    \"Vietnam\": \"Hanoi\",\n",
    "    \"Yemen\": \"Sana'a\",\n",
    "    \"Zambia\": \"Lusaka\",\n",
    "    \"Zimbabwe\": \"Harare\"\n",
    "}\n",
    "\n",
    "score = 0 \n",
    "questions =  5\n",
    "\n",
    "print(\"Welcome to the Capital City Quiz!\")\n",
    "print(f\"You'll be asked {questions} random questions. Type the capital of the country \")\n",
    "\n",
    "for i in range(questions):\n",
    "    country = random.choice(list(country_capitals.keys()))\n",
    "    capital = country_capitals[country]\n",
    "    answer = input(f\"Q{i+1}: What is the capital of {country}? \") \n",
    "    \n",
    "    if answer.lower() == capital.lower():\n",
    "        print(\"Correct!\\n\")\n",
    "        score += 1\n",
    "    else:\n",
    "        print(f\"Incorrect. The correct answer is {capital}.\\n\")\n",
    "\n",
    "print(f\"Quiz Over! Your final score: {score}/{questions}\")\n",
    "\n"
   ]
  },
  {
   "cell_type": "code",
   "execution_count": null,
   "id": "17e6b2df-0b8f-48b0-a5eb-94a7cad87c33",
   "metadata": {},
   "outputs": [
    {
     "name": "stdout",
     "output_type": "stream",
     "text": [
      "Welcome to the Periodic Table game \n",
      "You will be asked 5 random questions. Type the symbol of the elements.\n"
     ]
    },
    {
     "name": "stdin",
     "output_type": "stream",
     "text": [
      "Q1. What is the symbol of Yttrium ?  yr\n"
     ]
    },
    {
     "name": "stdout",
     "output_type": "stream",
     "text": [
      "Try again. The correct answer is Y\n"
     ]
    }
   ],
   "source": [
    "import random\n",
    "elements_symbols = {\n",
    "\"Hydrogen\":\"H\",\n",
    "\"Helium\":\"He\",\n",
    "\"Lithium\":\"Li\",\n",
    "\"Beryllium\":\"Be\",\n",
    "\"Boron\":\"B\",\n",
    "\"Carbon\":\"C\",\n",
    "\"Nitrogen\":\"N\",\n",
    "\"Oxygen\":\"O\",\n",
    "\"Fluorine\":\"F\",\n",
    "\"Neon\":\"Ne\",\n",
    "\"Sodium\":\"Na\",\n",
    "\"Magnesium\":\"Mg\",\n",
    "\"Aluminum\":\"Al\",\n",
    "\"Silicon\":\"Si\",\n",
    "\"Phosphorus\":\"P\",\n",
    "\"Sulfur\":\"S\",\n",
    "\"Chlorine\":\"Cl\",\n",
    "\"Argon\":\"Ar\",\n",
    "\"Potassium\":\"K\",\n",
    "\"Calcium\":\"Ca\",\n",
    "\"Scandium\":\"Sc\",\n",
    "\"Titanium\":\"Ti\",\n",
    "\"Vanadium\":\"V\",\n",
    "\"Chromium\":\"Cr\",\n",
    "\"Manganese\":\"Mn\",\n",
    "\"Iron\":\"Fe\",\n",
    "\"Cobalt\":\"Co\",\n",
    "\"Nickel\":\"Ni\",\n",
    "\"Copper\":\"Cu\",\n",
    "\"Zinc\":\"Zn\",\n",
    "\"Gallium\":\"Ga\",\n",
    "\"Germanium\":\"Ge\",\n",
    "\"Arsenic\":\"As\",\n",
    "\"Selenium\":\"Se\",\n",
    "\"Bromine\":\"Br\",\n",
    "\"Krypton\":\"Kr\",\n",
    "\"Rubidium\":\"Rb\",\n",
    "\"Strontium\":\"Sr\",\n",
    "\"Yttrium\":\"Y\",\n",
    "\"Zirconium\":\"Zr\",\n",
    "\"Niobium\":\"Nb\",\n",
    "\"Molybdenum\":\"Mo\",\n",
    "\"Technetium\":\"Tc\",\n",
    "\"Ruthenium\":\"Ru\",\n",
    "\"Rhodium\":\"Rh\",\n",
    "\"Palladium\":\"Pd\",\n",
    "\"Silver\":\"Ag\",\n",
    "\"Cadmium\":\"Cd\",\n",
    "\"Indium\":\"In\",\n",
    "\"Tin\":\"Sn\",\n",
    "\"Antimony\":\"Sb\",\n",
    "\"Tellurium\":\"Te\",\n",
    "\"Iodine\":\"I\",\n",
    "\"Xenon\":\"Xe\",\n",
    "\"Cesium\":\"Cs\",\n",
    "\"Barium\":\"Ba\",\n",
    "\"Lanthanum\":\"La\",\n",
    "\"Cerium\":\"Ce\",\n",
    "\"Praseodymium\":\"Pr\",\n",
    "\"Neodymium\":\"Nd\",\n",
    "\"Promethium\":\"Pm\",\n",
    "\"Samarium\":\"Sm\",\n",
    "\"Europium\":\"Eu\",\n",
    "\"Gadolinium\":\"Gd\",\n",
    "\"Terbium\":\"Tb\",\n",
    "\"Dysprosium\":\"Dy\",\n",
    "\"Holmium\":\"Ho\",\n",
    "\"Erbium\":\"Er\",\n",
    "\"Thulium\":\"Tm\",\n",
    "\"Ytterbium\":\"Yb\",\n",
    "\"Lutetium\":\"Lu\",\n",
    "\"Hafnium\":\"Hf\",\n",
    "\"Tantalum\":\"Ta\",\n",
    "\"Tungsten\":\"W\",\n",
    "\"Rhenium\":\"Re\",\n",
    "\"Osmium\":\"Os\",\n",
    "\"Iridium\":\"Ir\",\n",
    "\"Platinum\":\"Pt\",\n",
    "\"Gold\":\"Au\",\n",
    "\"Mercury\":\"Hg\",\n",
    "\"Thallium\":\"Tl\",\n",
    "\"Lead\":\"Pb\",\n",
    "\"Bismuth\":\"Bi\",\n",
    "\"Polonium\":\"Po\",\n",
    "\"Astatine\":\"At\",\n",
    "\"Radon\":\"Rn\",\n",
    "\"Francium\":\"Fr\",\n",
    "\"Radium\":\"Ra\",\n",
    "\"Actinium\":\"Ac\",\n",
    "\"Thorium\":\"Th\",\n",
    "\"Protactinium\":\"Pa\",\n",
    "\"Uranium\":\"U\",\n",
    "\"Neptunium\":\"Np\",\n",
    "\"Plutonium\":\"Pu\",\n",
    "\"Americium\":\"Am\",\n",
    "\"Curium\":\"Cm\",\n",
    "\"Berkelium\":\"Bk\",\n",
    "\"Californium\":\"Cf\",\n",
    "\"Einsteinium\":\"Es\",\n",
    "\"Fermium\":\"Fm\",\n",
    "\"Mendelevium\":\"Md\",\n",
    "\"Nobelium\":\"No\",\n",
    "\"Lawrencium\":\"Lr\",\n",
    "\"Rutherfordium\":\"Rf\",\n",
    "\"Dubnium\":\"Db\",\n",
    "\"Seaborgium\":\"Sg\",\n",
    "\"Bohrium\":\"Bh\",\n",
    "\"Hassium\":\"Hs\",\n",
    "\"Meitnerium\":\"Mt\",\n",
    "\"Darmstadtium\":\"Ds\",\n",
    "\"Roentgenium\":\"Rg\",\n",
    "\"Copernicium\":\"Cn\",\n",
    "\"Nihonium\":\"Nh\",\n",
    "\"Flerovium\":\"Fl\",\n",
    "\"Moscovium\":\"Mc\",\n",
    "\"Livermorium\":\"Lv\",\n",
    "\"Tennessine\":\"Ts\",\n",
    "\"Oganesson\":\"Og\"\n",
    "}\n",
    "\n",
    "score = 0 \n",
    "question = 5\n",
    "\n",
    "print(\"Welcome to the Periodic Table game \")\n",
    "print(f\"You will be asked {question} random questions. Type the symbol of the elements.\")\n",
    "\n",
    "for i in range(question):\n",
    "    elements =  random.choice(list(elements_symbols.keys()))\n",
    "    symbols = elements_symbols[elements]\n",
    "\n",
    "    answer = input(f\"Q{i+1}. What is the symbol of {elements} ? \")\n",
    "    if( answer.lower() == symbols.lower()):\n",
    "        print(\"Correct ! \")\n",
    "        score+=1\n",
    "    else:\n",
    "        print(f\"Try again. The correct answer is {symbols}\")\n",
    "print(f\"Quiz Over ! Your final score : {score}/{question} \")"
   ]
  },
  {
   "cell_type": "code",
   "execution_count": null,
   "id": "73d43010-d32d-4db2-9bb1-90e6dc31b4f2",
   "metadata": {},
   "outputs": [],
   "source": [
    "ir"
   ]
  }
 ],
 "metadata": {
  "kernelspec": {
   "display_name": "Python [conda env:base] *",
   "language": "python",
   "name": "conda-base-py"
  },
  "language_info": {
   "codemirror_mode": {
    "name": "ipython",
    "version": 3
   },
   "file_extension": ".py",
   "mimetype": "text/x-python",
   "name": "python",
   "nbconvert_exporter": "python",
   "pygments_lexer": "ipython3",
   "version": "3.12.7"
  }
 },
 "nbformat": 4,
 "nbformat_minor": 5
}
