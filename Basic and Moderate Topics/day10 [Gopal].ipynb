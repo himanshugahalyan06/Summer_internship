{
 "cells": [
  {
   "cell_type": "markdown",
   "id": "379d18b4-19af-45e7-b660-39962a648caa",
   "metadata": {},
   "source": [
    "## Dictonary"
   ]
  },
  {
   "cell_type": "code",
   "execution_count": null,
   "id": "552d0e54-f058-4c1c-ac6e-b337d3f19866",
   "metadata": {},
   "outputs": [
    {
     "data": {
      "text/plain": [
       "{}"
      ]
     },
     "execution_count": 4,
     "metadata": {},
     "output_type": "execute_result"
    }
   ],
   "source": [
    "my_dict = {}\n",
    "my_dict\n"
   ]
  },
  {
   "cell_type": "code",
   "execution_count": null,
   "id": "40458863-486d-4e6b-af09-85b144cf0b83",
   "metadata": {},
   "outputs": [
    {
     "data": {
      "text/plain": [
       "{1030: 'Mayank', 1110: 'Aryan', 1021: 'Palak'}"
      ]
     },
     "execution_count": 6,
     "metadata": {},
     "output_type": "execute_result"
    }
   ],
   "source": [
    "# dictionary with integer key:\n",
    "\n",
    "students = {1030: \"Mayank\" ,1110 : \"Aryan\", 1021 : \"Palak\"}\n",
    "students\n"
   ]
  },
  {
   "cell_type": "code",
   "execution_count": null,
   "id": "b4f330a3-030c-4bfd-a0fa-e9ca9aefeccd",
   "metadata": {},
   "outputs": [
    {
     "name": "stdout",
     "output_type": "stream",
     "text": [
      "Mayank\n"
     ]
    }
   ],
   "source": [
    "print(students[1030])\n"
   ]
  },
  {
   "cell_type": "code",
   "execution_count": null,
   "id": "bd36de9d-9e9c-4e17-8651-1ce8bc9ceb0b",
   "metadata": {},
   "outputs": [
    {
     "data": {
      "text/plain": [
       "{'name': 'john', 1: [2, 4, 3]}"
      ]
     },
     "execution_count": 14,
     "metadata": {},
     "output_type": "execute_result"
    }
   ],
   "source": [
    "# dictonary with mixed keys \n",
    "my_dict = {'name' : 'john',1:[2,4,3]}\n",
    "my_dict\n"
   ]
  },
  {
   "cell_type": "code",
   "execution_count": null,
   "id": "b69e9fc6-9442-4096-880d-5a92d3517739",
   "metadata": {},
   "outputs": [
    {
     "data": {
      "text/plain": [
       "{1: 'apple', 2: 'ball'}"
      ]
     },
     "execution_count": 16,
     "metadata": {},
     "output_type": "execute_result"
    }
   ],
   "source": [
    "# using dict()\n",
    "\n",
    "my_dict = dict({1:'apple',2:'ball'})\n",
    "my_dict\n"
   ]
  },
  {
   "cell_type": "code",
   "execution_count": null,
   "id": "76cafd24-7575-4301-a2fd-2916119b6806",
   "metadata": {},
   "outputs": [
    {
     "data": {
      "text/plain": [
       "{1: 'apple', 2: 'ball'}"
      ]
     },
     "execution_count": 20,
     "metadata": {},
     "output_type": "execute_result"
    }
   ],
   "source": [
    "# from sequence having each item as a pair \n",
    "my_dict = dict([(1,'apple'),(2,'ball')])\n",
    "my_dict\n"
   ]
  },
  {
   "cell_type": "code",
   "execution_count": 22,
   "id": "bdccbd5a-3f85-455f-8db2-d09b19a6e8ee",
   "metadata": {},
   "outputs": [
    {
     "name": "stdout",
     "output_type": "stream",
     "text": [
      "Mayank\n",
      "Palak\n"
     ]
    }
   ],
   "source": [
    "#  accessing elements from dictonary\n",
    "\n",
    "students = {1030: \"Mayank\" ,1110 : \"Aryan\", 1021 : \"Palak\"}\n",
    "print(students[1030])\n",
    "print(students.get(1021))\n"
   ]
  },
  {
   "cell_type": "code",
   "execution_count": 24,
   "id": "3f5020a5-d7a3-4611-9868-007bd3806f30",
   "metadata": {},
   "outputs": [
    {
     "data": {
      "text/plain": [
       "{1030: 'Rahul', 1110: 'Aryan', 1021: 'Palak'}"
      ]
     },
     "execution_count": 24,
     "metadata": {},
     "output_type": "execute_result"
    }
   ],
   "source": [
    "#  update value \n",
    "\n",
    "students = {1030: \"Mayank\" ,1110 : \"Aryan\", 1021 : \"Palak\"}\n",
    "students[1030] = \"Rahul\"\n",
    "students\n"
   ]
  },
  {
   "cell_type": "code",
   "execution_count": null,
   "id": "8bee9f95-ebba-44d4-8419-94c50185872c",
   "metadata": {},
   "outputs": [
    {
     "data": {
      "text/plain": [
       "{1030: 'Rahul', 1110: 'Aryan', 1021: 'Palak', 1045: 'Ananya'}"
      ]
     },
     "execution_count": 28,
     "metadata": {},
     "output_type": "execute_result"
    }
   ],
   "source": [
    "# add items \n",
    "students[1045] = \"Ananya\"\n",
    "students\n"
   ]
  },
  {
   "cell_type": "code",
   "execution_count": 30,
   "id": "70f26532-fdc8-4f01-a92b-20aad563e8b0",
   "metadata": {},
   "outputs": [
    {
     "name": "stdout",
     "output_type": "stream",
     "text": [
      "{1030: 'Rahul', 1110: 'Aryan', 1021: 'Palak', 1045: 'Ananya', 1060: 'Ravi', 1075: 'Neha'}\n"
     ]
    }
   ],
   "source": [
    "#  for multiple addition of element we using update students.update({1060: \"Ravi\", 1075: \"Neha\"})\n",
    "\n",
    "students.update({1060: \"Ravi\", 1075: \"Neha\"})\n",
    "print(students)\n"
   ]
  },
  {
   "cell_type": "code",
   "execution_count": null,
   "id": "4e4ce820-e5d8-45bd-ace0-9a7ab2717d69",
   "metadata": {},
   "outputs": [
    {
     "name": "stdout",
     "output_type": "stream",
     "text": [
      "16\n"
     ]
    }
   ],
   "source": [
    "# remove a particular item \n",
    "\n",
    "squares = {1:1, 2:4, 3:9, 4:16, 5:25}\n",
    "print(squares.pop(4))\n"
   ]
  },
  {
   "cell_type": "code",
   "execution_count": null,
   "id": "45ba5f8c-3550-42dc-bdc7-b6fdfb7629ea",
   "metadata": {},
   "outputs": [
    {
     "ename": "KeyError",
     "evalue": "'popitem(): dictionary is empty'",
     "output_type": "error",
     "traceback": [
      "\u001b[31m---------------------------------------------------------------------------\u001b[39m",
      "\u001b[31mKeyError\u001b[39m                                  Traceback (most recent call last)",
      "\u001b[36mCell\u001b[39m\u001b[36m \u001b[39m\u001b[32mIn[11]\u001b[39m\u001b[32m, line 3\u001b[39m\n\u001b[32m      1\u001b[39m \u001b[38;5;66;03m# remove the last key value pair from the dictonary \u001b[39;00m\n\u001b[32m----> \u001b[39m\u001b[32m3\u001b[39m \u001b[43msquares\u001b[49m\u001b[43m.\u001b[49m\u001b[43mpopitem\u001b[49m\u001b[43m(\u001b[49m\u001b[43m)\u001b[49m\n",
      "\u001b[31mKeyError\u001b[39m: 'popitem(): dictionary is empty'"
     ]
    }
   ],
   "source": [
    "# remove the last key value pair from the dictonary \n",
    "squares.popitem()\n"
   ]
  },
  {
   "cell_type": "code",
   "execution_count": 6,
   "id": "36da87b2-5097-4b54-a57f-f6c02dfa33c3",
   "metadata": {},
   "outputs": [
    {
     "name": "stdout",
     "output_type": "stream",
     "text": [
      "16\n"
     ]
    },
    {
     "data": {
      "text/plain": [
       "{1: 1, 3: 9, 5: 25}"
      ]
     },
     "execution_count": 6,
     "metadata": {},
     "output_type": "execute_result"
    }
   ],
   "source": [
    "# delete a particular item we usin del()\n",
    "squares = {1:1, 2:4, 3:9, 4:16, 5:25}\n",
    "print(squares.pop(4))\n",
    "del squares[2]\n",
    "squares\n"
   ]
  },
  {
   "cell_type": "code",
   "execution_count": null,
   "id": "3908023d-846f-4dd1-8870-4f231108e2b9",
   "metadata": {},
   "outputs": [],
   "source": [
    "# delete the dictonary itself\n",
    "\n",
    "del squares\n"
   ]
  },
  {
   "cell_type": "markdown",
   "id": "aacbb63d-b73a-4313-861d-d0a08bbd1da3",
   "metadata": {},
   "source": [
    "## methods of dictonary"
   ]
  },
  {
   "cell_type": "code",
   "execution_count": null,
   "id": "aa65b982-80e3-4de8-822f-a5b1d40c1c3e",
   "metadata": {},
   "outputs": [
    {
     "data": {
      "text/plain": [
       "{}"
      ]
     },
     "execution_count": 52,
     "metadata": {},
     "output_type": "execute_result"
    }
   ],
   "source": [
    "#  1 clear \n",
    "\n",
    "d = {1:\"one\" , 2:\"two\", 3:\"three\"}\n",
    "d.clear()\n",
    "d\n"
   ]
  },
  {
   "cell_type": "code",
   "execution_count": null,
   "id": "6f0a6d1d-0e74-45af-9508-ab49c94670d8",
   "metadata": {},
   "outputs": [
    {
     "data": {
      "text/plain": [
       "{1: 'one', 2: 'two', 3: 'three'}"
      ]
     },
     "execution_count": 56,
     "metadata": {},
     "output_type": "execute_result"
    }
   ],
   "source": [
    "# 2 copy\n",
    "\n",
    "d = {1:\"one\" , 2:\"two\", 3:\"three\"}\n",
    "d1 = d.copy()\n",
    "d1\n"
   ]
  },
  {
   "cell_type": "code",
   "execution_count": null,
   "id": "7bf95e8f-edc4-4db1-aa4b-5ed70facb209",
   "metadata": {},
   "outputs": [
    {
     "name": "stdout",
     "output_type": "stream",
     "text": [
      "{'a': None, 'u': None, 'e': None, 'i': None, 'o': None}\n"
     ]
    }
   ],
   "source": [
    "# 3 fromkeys give same value always \n",
    "keys = {'a','e','i','o','u'}\n",
    "vowels = dict.fromkeys(keys)\n",
    "print(vowels)\n"
   ]
  },
  {
   "cell_type": "code",
   "execution_count": 14,
   "id": "bb3d1c01-0310-49dd-9e47-f8332e2b4d5c",
   "metadata": {},
   "outputs": [
    {
     "data": {
      "text/plain": [
       "{'gold': 'arayan', 'silver': 'arayan', 'bronze': 'arayan'}"
      ]
     },
     "execution_count": 14,
     "metadata": {},
     "output_type": "execute_result"
    }
   ],
   "source": [
    "medals = ['gold','silver','bronze']\n",
    "winner = dict.fromkeys(medals,'arayan')\n",
    "winner\n"
   ]
  },
  {
   "cell_type": "code",
   "execution_count": 17,
   "id": "ef42abcf-f74c-4e27-9658-94d92433c3a6",
   "metadata": {},
   "outputs": [],
   "source": [
    "# 4 items()\n",
    "d = {1:\"one\" , 2:\"two\", 3:\"three\"}\n"
   ]
  },
  {
   "cell_type": "code",
   "execution_count": 18,
   "id": "3e68be52-4b5f-4154-8e38-5d7238e179bc",
   "metadata": {},
   "outputs": [
    {
     "data": {
      "text/plain": [
       "dict_items([(1, 'one'), (2, 'two'), (3, 'three')])"
      ]
     },
     "execution_count": 18,
     "metadata": {},
     "output_type": "execute_result"
    }
   ],
   "source": [
    "d.items()\n"
   ]
  },
  {
   "cell_type": "code",
   "execution_count": null,
   "id": "a23e28d8-b96f-463a-a4da-9eb13070aa6b",
   "metadata": {},
   "outputs": [
    {
     "data": {
      "text/plain": [
       "dict_keys([1, 2, 3])"
      ]
     },
     "execution_count": 76,
     "metadata": {},
     "output_type": "execute_result"
    }
   ],
   "source": [
    "# 5 keys \n",
    "d.keys()\n"
   ]
  },
  {
   "cell_type": "code",
   "execution_count": null,
   "id": "6b981ad2-dfaa-403e-ae93-566c29dc893b",
   "metadata": {},
   "outputs": [
    {
     "name": "stdout",
     "output_type": "stream",
     "text": [
      "person =  {'name': 'phill', 'age': 22}\n",
      "age= 22\n"
     ]
    }
   ],
   "source": [
    "# 6 setdefault() use to fix the value of a key \n",
    "\n",
    "person = {'name':'phill','age':22}\n",
    "age = person.setdefault('age')\n",
    "print('person = ',person)\n",
    "print('age=',age)\n"
   ]
  },
  {
   "cell_type": "code",
   "execution_count": null,
   "id": "15532b2d-a80f-4b39-9eb4-a744960a1b5f",
   "metadata": {},
   "outputs": [
    {
     "data": {
      "text/plain": [
       "dict_values(['one', 'two', 'three'])"
      ]
     },
     "execution_count": 80,
     "metadata": {},
     "output_type": "execute_result"
    }
   ],
   "source": [
    "# 7 values()\n",
    "d = {1:\"one\" , 2:\"two\", 3:\"three\"}\n",
    "d.values()\n"
   ]
  },
  {
   "cell_type": "markdown",
   "id": "f8d6bf6b-04d4-4a38-8408-a33b542e1062",
   "metadata": {},
   "source": [
    "## Functions of dictonary "
   ]
  },
  {
   "cell_type": "code",
   "execution_count": 20,
   "id": "18275d47-ba09-4f04-bc49-e0ae6e12d4de",
   "metadata": {},
   "outputs": [
    {
     "name": "stdout",
     "output_type": "stream",
     "text": [
      "True\n"
     ]
    }
   ],
   "source": [
    "# 1 all()\n",
    "s = {1:'True',2:'True'}\n",
    "print(all(s))\n"
   ]
  },
  {
   "cell_type": "code",
   "execution_count": null,
   "id": "d9135d64-0697-4b89-a8f3-c4f0b1c15942",
   "metadata": {},
   "outputs": [
    {
     "name": "stdout",
     "output_type": "stream",
     "text": [
      "False\n"
     ]
    }
   ],
   "source": [
    "s = {0:'False',2:'False'}\n",
    "print(all(s))\n"
   ]
  },
  {
   "cell_type": "code",
   "execution_count": 92,
   "id": "50f971e5-92b9-4753-a9ff-dcb6d15b9383",
   "metadata": {},
   "outputs": [
    {
     "name": "stdout",
     "output_type": "stream",
     "text": [
      "[1110, 1030, 1021]\n"
     ]
    }
   ],
   "source": [
    "#  sorted\n",
    "students = {1030: \"Mayank\" ,1110 : \"Aryan\", 1021 : \"Palak\"}\n",
    "print(sorted(students , reverse=True))\n"
   ]
  },
  {
   "cell_type": "markdown",
   "id": "4d87a03b-3c23-469f-98ce-8580c4aeb815",
   "metadata": {},
   "source": [
    "## project "
   ]
  },
  {
   "cell_type": "code",
   "execution_count": 95,
   "id": "c34a8db6-9f47-40b1-b3e4-76a032300ffa",
   "metadata": {},
   "outputs": [
    {
     "name": "stdout",
     "output_type": "stream",
     "text": [
      "🌍 Welcome to the Country and Capital Quiz Game!\n",
      "You will be asked random questions. Type the correct capital!\n",
      "\n"
     ]
    },
    {
     "name": "stdout",
     "output_type": "stream",
     "text": [
      "How many questions do you want to answer? (1 to 15):  4\n"
     ]
    },
    {
     "name": "stdout",
     "output_type": "stream",
     "text": [
      "\n",
      "Question 1:\n"
     ]
    },
    {
     "name": "stdout",
     "output_type": "stream",
     "text": [
      "What is the capital of France?  paris\n"
     ]
    },
    {
     "name": "stdout",
     "output_type": "stream",
     "text": [
      "✅ Correct!\n",
      "\n",
      "Question 2:\n"
     ]
    },
    {
     "name": "stdout",
     "output_type": "stream",
     "text": [
      "What is the capital of China?  beijing\n"
     ]
    },
    {
     "name": "stdout",
     "output_type": "stream",
     "text": [
      "✅ Correct!\n",
      "\n",
      "Question 3:\n"
     ]
    },
    {
     "name": "stdout",
     "output_type": "stream",
     "text": [
      "What is the capital of USA?  washington\n"
     ]
    },
    {
     "name": "stdout",
     "output_type": "stream",
     "text": [
      "❌ Wrong! The correct answer is Washington, D.C..\n",
      "\n",
      "Question 4:\n"
     ]
    },
    {
     "name": "stdout",
     "output_type": "stream",
     "text": [
      "What is the capital of Germany?  berlin\n"
     ]
    },
    {
     "name": "stdout",
     "output_type": "stream",
     "text": [
      "✅ Correct!\n",
      "\n",
      "🎯 Quiz Completed!\n",
      "Your final score: 3/4\n",
      "👍 Good effort! You know your world.\n"
     ]
    }
   ],
   "source": [
    "# cocept used : dictonary , random module looping condition statements ,score tracking \n",
    "# show a random country to the player \n",
    "# ask the to type capital \n",
    "# check if the answer is correct and give a score \n",
    "# run  for a mixed number of questions \n",
    "\n",
    "import random\n",
    "\n",
    "# Dictionary of countries and their capitals\n",
    "countries_and_capitals = {\n",
    "    \"India\": \"New Delhi\",\n",
    "    \"USA\": \"Washington, D.C.\",\n",
    "    \"France\": \"Paris\",\n",
    "    \"Germany\": \"Berlin\",\n",
    "    \"Japan\": \"Tokyo\",\n",
    "    \"Russia\": \"Moscow\",\n",
    "    \"Brazil\": \"Brasília\",\n",
    "    \"Canada\": \"Ottawa\",\n",
    "    \"China\": \"Beijing\",\n",
    "    \"Australia\": \"Canberra\",\n",
    "    \"Italy\": \"Rome\",\n",
    "    \"Mexico\": \"Mexico City\",\n",
    "    \"South Africa\": \"Pretoria\",\n",
    "    \"Spain\": \"Madrid\",\n",
    "    \"Argentina\": \"Buenos Aires\"\n",
    "}\n",
    "\n",
    "# Introduction\n",
    "print(\"🌍 Welcome to the Country and Capital Quiz Game!\")\n",
    "print(\"You will be asked random questions. Type the correct capital!\\n\")\n",
    "\n",
    "# Ask the player how many questions they want\n",
    "try:\n",
    "    num_questions = int(input(\"How many questions do you want to answer? (1 to 15): \"))\n",
    "    if num_questions < 1 or num_questions > len(countries_and_capitals):\n",
    "        print(f\"Please choose a number between 1 and {len(countries_and_capitals)}.\")\n",
    "        exit()\n",
    "except ValueError:\n",
    "    print(\"Invalid input! Please enter a number.\")\n",
    "    exit()\n",
    "\n",
    "# Score tracker\n",
    "score = 0\n",
    "\n",
    "# Randomly select questions\n",
    "questions = random.sample(list(countries_and_capitals.items()), num_questions)\n",
    "\n",
    "# Loop through each selected question\n",
    "for i, (country, capital) in enumerate(questions, start=1):\n",
    "    print(f\"\\nQuestion {i}:\")\n",
    "    user_answer = input(f\"What is the capital of {country}? \").strip()\n",
    "\n",
    "    \n",
    "    if user_answer.lower() == capital.lower():\n",
    "        print(\"✅ Correct!\")\n",
    "        score += 1\n",
    "    else:\n",
    "        print(f\"❌ Wrong! The correct answer is {capital}.\")\n",
    "\n",
    "# Final Score\n",
    "print(\"\\n🎯 Quiz Completed!\")\n",
    "print(f\"Your final score: {score}/{num_questions}\")\n",
    "\n",
    "# Optional message based on performance\n",
    "if score == num_questions:\n",
    "    print(\"🏆 Perfect! You're a geography master!\")\n",
    "elif score >= num_questions // 2:\n",
    "    print(\"👍 Good effort! You know your world.\")\n",
    "else:\n",
    "    print(\"📘 Keep practicing! Geography is fun!\")\n",
    "\n"
   ]
  },
  {
   "cell_type": "markdown",
   "id": "779e071d-5d3b-404b-a8e3-16700326a86a",
   "metadata": {},
   "source": [
    "## project 2 "
   ]
  },
  {
   "cell_type": "code",
   "execution_count": 2,
   "id": "2037b0b2-7ff4-4912-81b0-59868b86b75f",
   "metadata": {},
   "outputs": [
    {
     "name": "stdout",
     "output_type": "stream",
     "text": [
      "🔬 Welcome to the Element Symbol Quiz Game!\n",
      "\n"
     ]
    },
    {
     "name": "stdout",
     "output_type": "stream",
     "text": [
      "How many questions do you want to answer? (1 to 20):  3\n"
     ]
    },
    {
     "name": "stdout",
     "output_type": "stream",
     "text": [
      "\n",
      "Question 1: What is the symbol for 'Silicon'?\n"
     ]
    },
    {
     "name": "stdout",
     "output_type": "stream",
     "text": [
      "Your answer:  si\n"
     ]
    },
    {
     "name": "stdout",
     "output_type": "stream",
     "text": [
      "✅ Correct!\n",
      "\n",
      "Question 2: What is the symbol for 'Phosphorus'?\n"
     ]
    },
    {
     "name": "stdout",
     "output_type": "stream",
     "text": [
      "Your answer:  p\n"
     ]
    },
    {
     "name": "stdout",
     "output_type": "stream",
     "text": [
      "✅ Correct!\n",
      "\n",
      "Question 3: What is the symbol for 'Carbon'?\n"
     ]
    },
    {
     "name": "stdout",
     "output_type": "stream",
     "text": [
      "Your answer:  c\n"
     ]
    },
    {
     "name": "stdout",
     "output_type": "stream",
     "text": [
      "✅ Correct!\n",
      "\n",
      "🧪 Quiz Finished!\n",
      "Your Score: 3/3\n",
      "🏆 Perfect! You're a chemistry genius!\n"
     ]
    }
   ],
   "source": [
    "import random\n",
    "\n",
    "# Dictionary of elements and their symbols\n",
    "elements = {\n",
    "    \"Hydrogen\": \"H\",\n",
    "    \"Helium\": \"He\",\n",
    "    \"Lithium\": \"Li\",\n",
    "    \"Beryllium\": \"Be\",\n",
    "    \"Boron\": \"B\",\n",
    "    \"Carbon\": \"C\",\n",
    "    \"Nitrogen\": \"N\",\n",
    "    \"Oxygen\": \"O\",\n",
    "    \"Fluorine\": \"F\",\n",
    "    \"Neon\": \"Ne\",\n",
    "    \"Sodium\": \"Na\",\n",
    "    \"Magnesium\": \"Mg\",\n",
    "    \"Aluminum\": \"Al\",\n",
    "    \"Silicon\": \"Si\",\n",
    "    \"Phosphorus\": \"P\",\n",
    "    \"Sulfur\": \"S\",\n",
    "    \"Chlorine\": \"Cl\",\n",
    "    \"Argon\": \"Ar\",\n",
    "    \"Potassium\": \"K\",\n",
    "    \"Calcium\": \"Ca\"\n",
    "}\n",
    "\n",
    "print(\"🔬 Welcome to the Element Symbol Quiz Game!\\n\")\n",
    "try:\n",
    "    num_questions = int(input(f\"How many questions do you want to answer? (1 to {len(elements)}): \"))\n",
    "    if num_questions < 1 or num_questions > len(elements):\n",
    "        print(f\"Please enter a number between 1 and {len(elements)}.\")\n",
    "        exit()\n",
    "except ValueError:\n",
    "    print(\"❌ Invalid input! Please enter a number.\")\n",
    "    exit()\n",
    "\n",
    "score = 0\n",
    "\n",
    "# Randomly pick elements for the quiz\n",
    "quiz_items = random.sample(list(elements.items()), num_questions)\n",
    "\n",
    "# Quiz loop\n",
    "for i, (element, symbol) in enumerate(quiz_items, start=1):\n",
    "    print(f\"\\nQuestion {i}: What is the symbol for '{element}'?\")\n",
    "    answer = input(\"Your answer: \").strip()\n",
    "\n",
    "    if answer.lower() == symbol.lower():\n",
    "        print(\"✅ Correct!\")\n",
    "        score += 1\n",
    "    else:\n",
    "        print(f\"❌ Incorrect. The correct symbol is '{symbol}'.\")\n",
    "\n",
    "# Final score and feedback\n",
    "print(\"\\n🧪 Quiz Finished!\")\n",
    "print(f\"Your Score: {score}/{num_questions}\")\n",
    "\n",
    "if score == num_questions:\n",
    "    print(\"🏆 Perfect! You're a chemistry genius!\")\n",
    "elif score >= num_questions // 2:\n",
    "    print(\"👍 Good job! Keep reviewing the periodic table.\")\n",
    "else:\n",
    "    print(\"📘 Keep practicing! You'll get better with time.\")\n",
    "\n"
   ]
  },
  {
   "cell_type": "code",
   "execution_count": null,
   "id": "a292d834-6731-4742-a270-9db570ad689c",
   "metadata": {},
   "outputs": [],
   "source": []
  }
 ],
 "metadata": {
  "kernelspec": {
   "display_name": "Python 3",
   "language": "python",
   "name": "python3"
  },
  "language_info": {
   "codemirror_mode": {
    "name": "ipython",
    "version": 3
   },
   "file_extension": ".py",
   "mimetype": "text/x-python",
   "name": "python",
   "nbconvert_exporter": "python",
   "pygments_lexer": "ipython3",
   "version": "3.11.8"
  }
 },
 "nbformat": 4,
 "nbformat_minor": 5
}
