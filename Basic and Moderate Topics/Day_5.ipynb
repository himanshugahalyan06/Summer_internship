{
 "cells": [
  {
   "cell_type": "markdown",
   "id": "c68fdf06",
   "metadata": {},
   "source": [
    "## Write a programm to take three sides of a triangle as input check ###\n",
    "### Triangle can be made or not ###\n",
    "### Check the type of triangle(like: equilateral, isosceles and scalene) ###\n"
   ]
  },
  {
   "cell_type": "code",
   "execution_count": 11,
   "id": "66fcb5c0",
   "metadata": {},
   "outputs": [
    {
     "name": "stdout",
     "output_type": "stream",
     "text": [
      "Triangle Can Be formed!!\n",
      "Triangle is Isoceles!!\n"
     ]
    }
   ],
   "source": [
    "side_1=int(input(\"Enter the Side_1: \"))\n",
    "side_2=int(input(\"Enter the Side_2: \"))\n",
    "side_3=int(input(\"Enter the Side_3: \"))\n",
    "if (side_1+side_2>side_3) and (side_2+side_3>side_1) and (side_1+side_3>side_2):\n",
    "    print(\"Triangle Can Be formed!!\")\n",
    "    if (side_1==side_2==side_3):\n",
    "        print(\"Triangle is Equilateral!!\")\n",
    "    elif (side_1!=side_2) and (side_2 != side_3 ) and (side_1 != side_3):\n",
    "        print(\"Triangle is Scalene!!\")\n",
    "    elif( side_1==side_2) or (side_2==side_3) or  (side_1== side_3):\n",
    "        print(\"Triangle is Isoceles!!\")\n",
    "else:\n",
    "    print(\"Triangle Cannot be Formed!!\")\n",
    "\n",
    "\n"
   ]
  },
  {
   "cell_type": "markdown",
   "id": "0a7b2765",
   "metadata": {},
   "source": [
    "## Amazon Festival Offer Billing System \n",
    "\n",
    "##### Write a program calculate the Bill according to given Scenario #####\n",
    "##### Scenario: Amazon Festival Offer Billing System #### \n",
    "##### Rules: #####\n",
    "##### 1. If the user is a Prime member: ##### \n",
    "##### • For orders above €10,000 → 20% discount #####\n",
    "##### • For orders between 5,000-10,000 → 15% discount #####\n",
    "##### • Below €5,000 → 10% discount #####\n",
    "##### 2. If the user is not a Prime member: ##### \n",
    "##### • For orders above {10,000 → 10% discount ##### \n",
    "##### For orders between 5,000-10,000 → 5% discount #####\n",
    "##### Below 5,000 → No discount #####\n",
    "\n"
   ]
  },
  {
   "cell_type": "code",
   "execution_count": null,
   "id": "38f0fc27",
   "metadata": {},
   "outputs": [
    {
     "name": "stdout",
     "output_type": "stream",
     "text": [
      "Yes, You are a Prime Member !!!!\n",
      "Your Gross Bill is:  ₹2345\n",
      "Your Discounted Price is:  ₹2110.5\n",
      "Thank you for shopping with us! We hope to see you again soon.!!!!\n"
     ]
    }
   ],
   "source": [
    "prime_input=input(\"Enter Your Choice (Yes/No): \").lower()  # Take input of Choice \n",
    "if prime_input not in ['yes','no']:   # only choice from yes and no if other then exit \n",
    "    print(\"Invalid Input , Please Input Again !!!!\")\n",
    "    exit()\n",
    "\n",
    "Gross_Bill=int(input(\"Enter the Amount of Your Gross Bill !!!!: \"))   \n",
    "if prime_input=='yes':\n",
    "    if Gross_Bill>10000:     #  Gross Bill above 10,000\n",
    "        discount=0.20\n",
    "    elif Gross_Bill>5000 and Gross_Bill<10000:  # Gross Bill is Between 5,000 and 10,000\n",
    "        discount=0.15\n",
    "    else:\n",
    "        discount=0.10      # Below 5,000\n",
    "\n",
    "elif prime_input=='no': \n",
    "    if Gross_Bill>10000:   # Gross Bill is above 10,000\n",
    "        discount=0.10\n",
    "    elif Gross_Bill>5000 and Gross_Bill<10000:     # # Gross Bill is Between 5,000 and 10,000\n",
    "        discount=0.05\n",
    "    else:\n",
    "        discount=0.00  # Below 5,000\n",
    "\n",
    "final_price = Gross_Bill - (Gross_Bill * discount) # Calculate Final Bill \n",
    "\n",
    "if prime_input==\"yes\":\n",
    "    print(\"Yes, You are a Prime Member !!!!\")\n",
    "else:\n",
    "    print(\"You are not a Prime Member !!!!\")\n",
    "\n",
    "print(f\"Your Gross Bill is:  ₹{Gross_Bill}\")  # Print Gross Bill \n",
    "print(f\"Your Discounted Price is:  ₹{final_price}\") # Print Discounted Price \n",
    "print(\"Thank you for shopping with us! We hope to see you again soon.!!!!\") # Print Thank you Message \n",
    "\n",
    "        \n",
    "\n",
    "\n"
   ]
  },
  {
   "cell_type": "code",
   "execution_count": null,
   "id": "5f2546e9",
   "metadata": {},
   "outputs": [],
   "source": []
  }
 ],
 "metadata": {
  "kernelspec": {
   "display_name": "Python 3",
   "language": "python",
   "name": "python3"
  },
  "language_info": {
   "codemirror_mode": {
    "name": "ipython",
    "version": 3
   },
   "file_extension": ".py",
   "mimetype": "text/x-python",
   "name": "python",
   "nbconvert_exporter": "python",
   "pygments_lexer": "ipython3",
   "version": "3.11.8"
  }
 },
 "nbformat": 4,
 "nbformat_minor": 5
}
