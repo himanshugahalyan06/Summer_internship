{
 "cells": [
  {
   "cell_type": "markdown",
   "id": "6a41f0aa",
   "metadata": {},
   "source": [
    "## Nested if statements\n"
   ]
  },
  {
   "cell_type": "code",
   "execution_count": 9,
   "id": "10f55777",
   "metadata": {},
   "outputs": [
    {
     "name": "stdout",
     "output_type": "stream",
     "text": [
      "You are not citizen of India!!\n"
     ]
    }
   ],
   "source": [
    "# Check Citizen and age for voting \n",
    "\n",
    "citizen=input(\"Enter your Cicyzenship: \")\n",
    "if citizen=='india'or citizen=='INDIA'or citizen=='India':\n",
    "    age=int(input(\"Enter your age: \"))\n",
    "    if age>=18:\n",
    "        print(\"You Can Vote!!\")\n",
    "    else:\n",
    "        print(\"You can't vote!! Because you are minor!!\")\n",
    "else:\n",
    "    print(\"You are not citizen of India!!\")\n",
    "\n"
   ]
  },
  {
   "cell_type": "markdown",
   "id": "ef6aa6e7",
   "metadata": {},
   "source": [
    "## Elif ladder\n"
   ]
  },
  {
   "cell_type": "code",
   "execution_count": 17,
   "id": "9780bed5",
   "metadata": {},
   "outputs": [
    {
     "name": "stdout",
     "output_type": "stream",
     "text": [
      "Number is Zero!!\n"
     ]
    }
   ],
   "source": [
    "num=int(input(\"Enter your Chioce: \"))\n",
    "if num==0:\n",
    "    print(\"Number is Zero!!\")\n",
    "elif num>0:\n",
    "    print(\"Number is Positive!!\")\n",
    "else:\n",
    "    print(\"Number is Negative!!\")\n",
    "\n"
   ]
  },
  {
   "cell_type": "code",
   "execution_count": 33,
   "id": "b3e05f84",
   "metadata": {},
   "outputs": [
    {
     "name": "stdout",
     "output_type": "stream",
     "text": [
      "Grade of a Students is: A!!\n"
     ]
    }
   ],
   "source": [
    "# Grade of a students \n",
    "marks=float(input(\"Enter your Marks: \"))\n",
    "grade=('A','B','C','D')\n",
    "for i in grade:\n",
    "    if marks>=90:\n",
    "        print(f\"Grade of a Students is: {grade[0]}!!\")\n",
    "        break\n",
    "    elif marks>=75:\n",
    "        print(f\"Grade of Student is: {grade[1]}!!\")\n",
    "        break\n",
    "    elif marks>=60:\n",
    "        print(f\"Grade of Student is: {grade[2]}!!\")\n",
    "        break\n",
    "    elif marks>=40:\n",
    "        print(f\"Grade of Student is: {grade[3]}!!\")\n",
    "        break\n",
    "    else:\n",
    "        print(\"Student is Fail!!\")\n",
    "\n"
   ]
  },
  {
   "cell_type": "code",
   "execution_count": 27,
   "id": "dfc40fbb",
   "metadata": {},
   "outputs": [
    {
     "name": "stdout",
     "output_type": "stream",
     "text": [
      "you entered a is a vowel\n"
     ]
    }
   ],
   "source": [
    "# write a program to check wether a given character is vowel or consonant\n",
    "\n",
    "ch = input(\"enter a character\").lower()\n",
    "if (ch == 'a') or (ch == 'e') or (ch == 'i') or (ch == 'o') or (ch == 'u'):\n",
    "    print(f\"you entered {ch} is a vowel\")\n",
    "else:\n",
    "    print(f\"you entered {ch} is a consonant\")\n"
   ]
  },
  {
   "cell_type": "code",
   "execution_count": 34,
   "id": "d756551b",
   "metadata": {},
   "outputs": [
    {
     "name": "stdout",
     "output_type": "stream",
     "text": [
      "Result: Error: Division by zero\n"
     ]
    }
   ],
   "source": [
    "# Make calculator using if elif and else \n",
    "num1 = float(input(\"Enter the first number: \"))\n",
    "operator = input(\"Enter the operator (+, -, *, /, %): \")\n",
    "num2 = float(input(\"Enter the second number: \"))\n",
    "\n",
    "if operator == '+':\n",
    "    result = num1 + num2\n",
    "elif operator == '-':\n",
    "    result = num1 - num2\n",
    "elif operator == '*':\n",
    "    result = num1 * num2\n",
    "elif operator == '/':\n",
    "    if num2 != 0:\n",
    "        result = num1 / num2\n",
    "    else:\n",
    "        result = \"Error: Division by zero\"\n",
    "elif operator == '%':\n",
    "    if num2 != 0:\n",
    "        result = num1 % num2\n",
    "    else:\n",
    "        result = \"Error: Division by zero\"\n",
    "else:\n",
    "    result = \"Invalid operator\"\n",
    "\n",
    "print(\"Result:\", result)\n",
    "\n"
   ]
  },
  {
   "cell_type": "code",
   "execution_count": 35,
   "id": "069939cf",
   "metadata": {},
   "outputs": [
    {
     "name": "stdout",
     "output_type": "stream",
     "text": [
      "Invalid username or password.\n"
     ]
    }
   ],
   "source": [
    "#  write a program to login verification of username and password \n",
    "\n",
    "# Predefined credentials\n",
    "correct_username = \"admin\"\n",
    "correct_password = \"password123\"\n",
    "\n",
    "# Get input from user\n",
    "username = input(\"Enter username: \")\n",
    "password = input(\"Enter password: \")\n",
    "\n",
    "# Verification\n",
    "if username == correct_username and password == correct_password:\n",
    "    print(\"Login successful!\")\n",
    "else:\n",
    "    print(\"Invalid username or password.\")\n"
   ]
  },
  {
   "cell_type": "code",
   "execution_count": null,
   "id": "2e132c20",
   "metadata": {},
   "outputs": [
    {
     "name": "stdout",
     "output_type": "stream",
     "text": [
      "Total charges: 220\n"
     ]
    }
   ],
   "source": [
    "# taxi fare 1st km charge 20 , 2nd km to 10 km charge 10 per km , 10 km to 50 km charge 5 per km . take distance in km fron user and calculate fare\n",
    "\n",
    "dis = int(input(\"Enter travelled distance in kilometres\"))\n",
    "if dis ==1:\n",
    "    print(\"Total charges: Rs.20\")\n",
    "elif(dis > 1) and (dis <= 10):\n",
    "    total = 20+(dis - 1)*10\n",
    "    print(\"Total charges:\", total)\n",
    "elif (dis>10) and (dis<=50):\n",
    "    total = 20 + (9*10) +(dis - 10)*5\n",
    "    print(\"Total charges:\", total)\n"
   ]
  },
  {
   "cell_type": "markdown",
   "id": "ae36c113",
   "metadata": {},
   "source": [
    "## Bitwise Operator \n"
   ]
  },
  {
   "cell_type": "code",
   "execution_count": 6,
   "id": "5bd126d6",
   "metadata": {},
   "outputs": [
    {
     "name": "stdout",
     "output_type": "stream",
     "text": [
      "0\n",
      "14\n",
      "-11\n",
      "14\n",
      "2\n",
      "40\n"
     ]
    }
   ],
   "source": [
    "a=10\n",
    "b=4\n",
    "print(a&b)\n",
    "print(a|b)\n",
    "print(~a)\n",
    "print(a^b)\n",
    "print(a>>2)\n",
    "print(a<<2)\n",
    "\n"
   ]
  },
  {
   "cell_type": "code",
   "execution_count": 4,
   "id": "debeca5a",
   "metadata": {},
   "outputs": [
    {
     "name": "stdout",
     "output_type": "stream",
     "text": [
      "Toatl Bill is: ₹410.00\n"
     ]
    }
   ],
   "source": [
    "# Calculate Electricity Bill \n",
    "# ₹1.50 per unit for first 100 units \n",
    "# ₹2.00 per unit for next 100 units (i.e. 101-200)\n",
    "# ₹3.00 per unit for anything above 200 units \n",
    "\n",
    "unit=float(input(\"Enter the Unit: \"))\n",
    "if unit<=100:\n",
    "    bill=unit*1.50\n",
    "elif unit<= 200:\n",
    "    bill=100*1.5+(unit-100)*2.0\n",
    "else:\n",
    "    bill=100*1.5+100*2+(unit-200)*3.0\n",
    "print(f\"Toatl Bill is: ₹{bill:.2f}\")\n",
    "\n",
    "\n"
   ]
  },
  {
   "cell_type": "code",
   "execution_count": 7,
   "id": "e7e33d7b",
   "metadata": {},
   "outputs": [
    {
     "name": "stdout",
     "output_type": "stream",
     "text": [
      "Too Cold!!\n"
     ]
    }
   ],
   "source": [
    "temp=float(input(\"Enter the Temperature: \"))\n",
    "if temp<=10:\n",
    "    print(\"Too Cold!!\")\n",
    "elif temp>10 and temp <=30:\n",
    "    print(\"Moderate!!\")\n",
    "else:\n",
    "    print(\"Too Hot!!\")\n"
   ]
  },
  {
   "cell_type": "code",
   "execution_count": 12,
   "id": "cc6a10fc",
   "metadata": {},
   "outputs": [
    {
     "name": "stdout",
     "output_type": "stream",
     "text": [
      "Get Ready !!\n"
     ]
    }
   ],
   "source": [
    "color=input(\"Enter the Color: \")\n",
    "if color=='Red'or color=='red'or color=='RED':\n",
    "    print(\"STOP !!\")\n",
    "elif color=='Yellow' or color=='yellow'or color=='YELLOW':\n",
    "    print(\"Get Ready !!\")\n",
    "elif color=='Green' or color=='green' or color=='GREEN':\n",
    "    print(\"GO !!\")\n",
    "else:\n",
    "    print(\"You Entered a Wrong Color !!\")\n"
   ]
  },
  {
   "cell_type": "code",
   "execution_count": null,
   "id": "926e140c",
   "metadata": {},
   "outputs": [],
   "source": []
  },
  {
   "cell_type": "code",
   "execution_count": null,
   "id": "d1aaabf8",
   "metadata": {},
   "outputs": [],
   "source": []
  }
 ],
 "metadata": {
  "kernelspec": {
   "display_name": "Python 3",
   "language": "python",
   "name": "python3"
  },
  "language_info": {
   "codemirror_mode": {
    "name": "ipython",
    "version": 3
   },
   "file_extension": ".py",
   "mimetype": "text/x-python",
   "name": "python",
   "nbconvert_exporter": "python",
   "pygments_lexer": "ipython3",
   "version": "3.11.8"
  }
 },
 "nbformat": 4,
 "nbformat_minor": 5
}
