{
 "cells": [
  {
   "cell_type": "markdown",
   "id": "ce5518f3",
   "metadata": {},
   "source": [
    "## String \n"
   ]
  },
  {
   "cell_type": "code",
   "execution_count": 1,
   "id": "b3077c46",
   "metadata": {},
   "outputs": [
    {
     "data": {
      "text/plain": [
       "'PythonString'"
      ]
     },
     "execution_count": 1,
     "metadata": {},
     "output_type": "execute_result"
    }
   ],
   "source": [
    "# String Operations \n",
    "\n",
    "## Concatenation \n",
    "var1='Python'\n",
    "var2='String'\n",
    "var1+var2\n"
   ]
  },
  {
   "cell_type": "code",
   "execution_count": 2,
   "id": "8e03213b",
   "metadata": {},
   "outputs": [
    {
     "data": {
      "text/plain": [
       "'PythonPythonPython'"
      ]
     },
     "execution_count": 2,
     "metadata": {},
     "output_type": "execute_result"
    }
   ],
   "source": [
    "# Repetition \n",
    "var1*3\n"
   ]
  },
  {
   "cell_type": "code",
   "execution_count": 3,
   "id": "0841c64c",
   "metadata": {},
   "outputs": [
    {
     "data": {
      "text/plain": [
       "'t'"
      ]
     },
     "execution_count": 3,
     "metadata": {},
     "output_type": "execute_result"
    }
   ],
   "source": [
    "# Slicing \n",
    "var1[2]\n"
   ]
  },
  {
   "cell_type": "code",
   "execution_count": 4,
   "id": "63401459",
   "metadata": {},
   "outputs": [
    {
     "data": {
      "text/plain": [
       "'tho'"
      ]
     },
     "execution_count": 4,
     "metadata": {},
     "output_type": "execute_result"
    }
   ],
   "source": [
    "# Range Slicing \n",
    "var1[2:5]\n"
   ]
  },
  {
   "cell_type": "code",
   "execution_count": 5,
   "id": "92920b89",
   "metadata": {},
   "outputs": [
    {
     "data": {
      "text/plain": [
       "True"
      ]
     },
     "execution_count": 5,
     "metadata": {},
     "output_type": "execute_result"
    }
   ],
   "source": [
    "# In Membership operator \n",
    "'n' in var1\n"
   ]
  },
  {
   "cell_type": "code",
   "execution_count": 6,
   "id": "851d29b0",
   "metadata": {},
   "outputs": [
    {
     "data": {
      "text/plain": [
       "False"
      ]
     },
     "execution_count": 6,
     "metadata": {},
     "output_type": "execute_result"
    }
   ],
   "source": [
    "# Not in Membership operator \n",
    "'n' not in var1\n"
   ]
  },
  {
   "cell_type": "code",
   "execution_count": null,
   "id": "de32ed64",
   "metadata": {},
   "outputs": [
    {
     "name": "stdout",
     "output_type": "stream",
     "text": [
      "P y t h o n "
     ]
    }
   ],
   "source": [
    "# for-iteration \n",
    "for i in var1:\n",
    "    print(i,end=\" \")\n"
   ]
  },
  {
   "cell_type": "markdown",
   "id": "fc5bd90a",
   "metadata": {},
   "source": [
    "## String Formatting Operators \n",
    "\n"
   ]
  },
  {
   "cell_type": "code",
   "execution_count": 9,
   "id": "07bd3eae",
   "metadata": {},
   "outputs": [
    {
     "data": {
      "text/plain": [
       "'Python is a \"widely\" used programming language '"
      ]
     },
     "execution_count": 9,
     "metadata": {},
     "output_type": "execute_result"
    }
   ],
   "source": [
    "# Escape Characters \n",
    "# \\\\ used to print \\\n",
    "# \\\" used to print Double Quote \n",
    "\n",
    "string=\"Python is a \\\"widely\\\" used programming language \"\n",
    "string\n"
   ]
  },
  {
   "cell_type": "code",
   "execution_count": null,
   "id": "f8d712f2",
   "metadata": {},
   "outputs": [
    {
     "data": {
      "text/plain": [
       "\"Python is a 'widely' used programming language \""
      ]
     },
     "execution_count": 10,
     "metadata": {},
     "output_type": "execute_result"
    }
   ],
   "source": [
    "s=\"Python is a 'widely' used programming language \"\n",
    "s\n"
   ]
  },
  {
   "cell_type": "code",
   "execution_count": 11,
   "id": "8fec2977",
   "metadata": {},
   "outputs": [
    {
     "data": {
      "text/plain": [
       "'Python is a \"widely\" used programming language'"
      ]
     },
     "execution_count": 11,
     "metadata": {},
     "output_type": "execute_result"
    }
   ],
   "source": [
    "s1='''Python is a \"widely\" used programming language'''\n",
    "s1\n"
   ]
  },
  {
   "cell_type": "markdown",
   "id": "1c2931f4",
   "metadata": {},
   "source": [
    "# String Methods \n",
    "\n"
   ]
  },
  {
   "cell_type": "code",
   "execution_count": 12,
   "id": "a9a66900",
   "metadata": {},
   "outputs": [
    {
     "data": {
      "text/plain": [
       "'Geeta university'"
      ]
     },
     "execution_count": 12,
     "metadata": {},
     "output_type": "execute_result"
    }
   ],
   "source": [
    "name='geeta university'\n",
    "# Capitalize()\n",
    "name.capitalize()\n"
   ]
  },
  {
   "cell_type": "code",
   "execution_count": 13,
   "id": "97b40eef",
   "metadata": {},
   "outputs": [
    {
     "data": {
      "text/plain": [
       "'geeta university'"
      ]
     },
     "execution_count": 13,
     "metadata": {},
     "output_type": "execute_result"
    }
   ],
   "source": [
    "# lower()\n",
    "name.lower()\n"
   ]
  },
  {
   "cell_type": "code",
   "execution_count": 14,
   "id": "ea3e1f0c",
   "metadata": {},
   "outputs": [
    {
     "data": {
      "text/plain": [
       "'GEETA UNIVERSITY'"
      ]
     },
     "execution_count": 14,
     "metadata": {},
     "output_type": "execute_result"
    }
   ],
   "source": [
    "# upper()\n",
    "name.upper()\n"
   ]
  },
  {
   "cell_type": "code",
   "execution_count": 15,
   "id": "60580b34",
   "metadata": {},
   "outputs": [
    {
     "data": {
      "text/plain": [
       "'Geeta University'"
      ]
     },
     "execution_count": 15,
     "metadata": {},
     "output_type": "execute_result"
    }
   ],
   "source": [
    "#title()\n",
    "name.title()\n"
   ]
  },
  {
   "cell_type": "code",
   "execution_count": 18,
   "id": "74d9e94a",
   "metadata": {},
   "outputs": [
    {
     "data": {
      "text/plain": [
       "'hIMANSHU gAHALYAN'"
      ]
     },
     "execution_count": 18,
     "metadata": {},
     "output_type": "execute_result"
    }
   ],
   "source": [
    "# swapcase()\n",
    "n='Himanshu Gahalyan'\n",
    "n.swapcase()\n"
   ]
  },
  {
   "cell_type": "code",
   "execution_count": 19,
   "id": "62e01dc3",
   "metadata": {},
   "outputs": [
    {
     "data": {
      "text/plain": [
       "'himanshu gahalyan'"
      ]
     },
     "execution_count": 19,
     "metadata": {},
     "output_type": "execute_result"
    }
   ],
   "source": [
    "# Casefold\n",
    "n.casefold()\n"
   ]
  },
  {
   "cell_type": "code",
   "execution_count": 22,
   "id": "1f13c304",
   "metadata": {},
   "outputs": [
    {
     "data": {
      "text/plain": [
       "3"
      ]
     },
     "execution_count": 22,
     "metadata": {},
     "output_type": "execute_result"
    }
   ],
   "source": [
    "#count()\n",
    "name.count('e')\n"
   ]
  },
  {
   "cell_type": "code",
   "execution_count": 26,
   "id": "f9917184",
   "metadata": {},
   "outputs": [
    {
     "data": {
      "text/plain": [
       "17"
      ]
     },
     "execution_count": 26,
     "metadata": {},
     "output_type": "execute_result"
    }
   ],
   "source": [
    "# len()\n",
    "n.__len__()\n"
   ]
  },
  {
   "cell_type": "code",
   "execution_count": null,
   "id": "3839f669",
   "metadata": {},
   "outputs": [
    {
     "data": {
      "text/plain": [
       "17"
      ]
     },
     "execution_count": 27,
     "metadata": {},
     "output_type": "execute_result"
    }
   ],
   "source": [
    "# length \n",
    "len(n)\n"
   ]
  },
  {
   "cell_type": "code",
   "execution_count": 28,
   "id": "ec7fe21c",
   "metadata": {},
   "outputs": [
    {
     "data": {
      "text/plain": [
       "False"
      ]
     },
     "execution_count": 28,
     "metadata": {},
     "output_type": "execute_result"
    }
   ],
   "source": [
    "# isupper\n",
    "n.isupper()\n"
   ]
  },
  {
   "cell_type": "code",
   "execution_count": null,
   "id": "63e573e0",
   "metadata": {},
   "outputs": [
    {
     "data": {
      "text/plain": [
       "False"
      ]
     },
     "execution_count": 29,
     "metadata": {},
     "output_type": "execute_result"
    }
   ],
   "source": [
    "# islower\n",
    "n.islower()\n"
   ]
  },
  {
   "cell_type": "code",
   "execution_count": 30,
   "id": "ef418e65",
   "metadata": {},
   "outputs": [
    {
     "data": {
      "text/plain": [
       "False"
      ]
     },
     "execution_count": 30,
     "metadata": {},
     "output_type": "execute_result"
    }
   ],
   "source": [
    "#isdecimal\n",
    "n.isdecimal()\n"
   ]
  },
  {
   "cell_type": "code",
   "execution_count": 31,
   "id": "b08583a0",
   "metadata": {},
   "outputs": [
    {
     "data": {
      "text/plain": [
       "False"
      ]
     },
     "execution_count": 31,
     "metadata": {},
     "output_type": "execute_result"
    }
   ],
   "source": [
    "#isdigit()\n",
    "n.isdigit()\n"
   ]
  },
  {
   "cell_type": "code",
   "execution_count": 34,
   "id": "59f0a3d4",
   "metadata": {},
   "outputs": [
    {
     "data": {
      "text/plain": [
       "6"
      ]
     },
     "execution_count": 34,
     "metadata": {},
     "output_type": "execute_result"
    }
   ],
   "source": [
    "# find() - returns the index number of the given string and the single word or a character in the string  \n",
    "\n",
    "name='geeta university'\n",
    "name.find('u')\n"
   ]
  },
  {
   "cell_type": "code",
   "execution_count": 38,
   "id": "00c91e80",
   "metadata": {},
   "outputs": [
    {
     "data": {
      "text/plain": [
       "'I am studying in B.Tech Second Year'"
      ]
     },
     "execution_count": 38,
     "metadata": {},
     "output_type": "execute_result"
    }
   ],
   "source": [
    "# replace() \n",
    "string1='I am studying in B.Tech First Year'\n",
    "string1.replace('First','Second')\n"
   ]
  },
  {
   "cell_type": "code",
   "execution_count": 39,
   "id": "6cf6866d",
   "metadata": {},
   "outputs": [
    {
     "data": {
      "text/plain": [
       "['Mayank,Raman,Kabir,Priya']"
      ]
     },
     "execution_count": 39,
     "metadata": {},
     "output_type": "execute_result"
    }
   ],
   "source": [
    "# split()\n",
    "names='Mayank,Raman,Kabir,Priya'\n",
    "names.split()\n"
   ]
  },
  {
   "cell_type": "code",
   "execution_count": null,
   "id": "b3bfd75e",
   "metadata": {},
   "outputs": [
    {
     "name": "stdout",
     "output_type": "stream",
     "text": [
      "a,b,c\n"
     ]
    }
   ],
   "source": [
    "#seq me string likhna h tab joi ka use hoga \n",
    "seq=('a','b','c')\n",
    "str= ','\n",
    "print(str.join(seq))\n",
    "\n"
   ]
  },
  {
   "cell_type": "code",
   "execution_count": 46,
   "id": "19aafdb7",
   "metadata": {},
   "outputs": [
    {
     "data": {
      "text/plain": [
       "'Gahalyan Shab, Bhalla Shab, Rajput'"
      ]
     },
     "execution_count": 46,
     "metadata": {},
     "output_type": "execute_result"
    }
   ],
   "source": [
    "surnames=('Gahalyan','Bhalla','Rajput') # sequence alwyas put te symbolin between \n",
    "str=' Shab, '\n",
    "str.join(surnames)\n"
   ]
  },
  {
   "cell_type": "code",
   "execution_count": 48,
   "id": "aa04d22d",
   "metadata": {},
   "outputs": [
    {
     "data": {
      "text/plain": [
       "'geeta'"
      ]
     },
     "execution_count": 48,
     "metadata": {},
     "output_type": "execute_result"
    }
   ],
   "source": [
    "name[:5]\n"
   ]
  },
  {
   "cell_type": "code",
   "execution_count": 49,
   "id": "124b732a",
   "metadata": {},
   "outputs": [
    {
     "data": {
      "text/plain": [
       "'university'"
      ]
     },
     "execution_count": 49,
     "metadata": {},
     "output_type": "execute_result"
    }
   ],
   "source": [
    "name[6:]\n"
   ]
  },
  {
   "cell_type": "code",
   "execution_count": 55,
   "id": "c8f83c79",
   "metadata": {},
   "outputs": [
    {
     "data": {
      "text/plain": [
       "'university'"
      ]
     },
     "execution_count": 55,
     "metadata": {},
     "output_type": "execute_result"
    }
   ],
   "source": [
    "name[-10:]\n"
   ]
  },
  {
   "cell_type": "code",
   "execution_count": 62,
   "id": "9d3f8f1d",
   "metadata": {},
   "outputs": [
    {
     "data": {
      "text/plain": [
       "'geeta'"
      ]
     },
     "execution_count": 62,
     "metadata": {},
     "output_type": "execute_result"
    }
   ],
   "source": [
    "name[-19:-11]\n"
   ]
  },
  {
   "cell_type": "code",
   "execution_count": 64,
   "id": "e901a879",
   "metadata": {},
   "outputs": [
    {
     "data": {
      "text/plain": [
       "' nvriy'"
      ]
     },
     "execution_count": 64,
     "metadata": {},
     "output_type": "execute_result"
    }
   ],
   "source": [
    "name[5:16:2]\n"
   ]
  },
  {
   "cell_type": "code",
   "execution_count": 69,
   "id": "570da205",
   "metadata": {},
   "outputs": [
    {
     "data": {
      "text/plain": [
       "'gt'"
      ]
     },
     "execution_count": 69,
     "metadata": {},
     "output_type": "execute_result"
    }
   ],
   "source": [
    "name[-19:-10:3]\n"
   ]
  },
  {
   "cell_type": "code",
   "execution_count": null,
   "id": "adf15d63",
   "metadata": {},
   "outputs": [
    {
     "data": {
      "text/plain": [
       "1"
      ]
     },
     "execution_count": 70,
     "metadata": {},
     "output_type": "execute_result"
    }
   ],
   "source": [
    "# index(sub)-it is like find() but generate value error if sub srting not found\n",
    "subject=\"English\"\n",
    "subject.index(\"n\")\n"
   ]
  },
  {
   "cell_type": "code",
   "execution_count": 71,
   "id": "3e878b62",
   "metadata": {},
   "outputs": [
    {
     "ename": "ValueError",
     "evalue": "substring not found",
     "output_type": "error",
     "traceback": [
      "\u001b[31m---------------------------------------------------------------------------\u001b[39m",
      "\u001b[31mValueError\u001b[39m                                Traceback (most recent call last)",
      "\u001b[36mCell\u001b[39m\u001b[36m \u001b[39m\u001b[32mIn[71]\u001b[39m\u001b[32m, line 2\u001b[39m\n\u001b[32m      1\u001b[39m subject=\u001b[33m\"\u001b[39m\u001b[33mEnglish\u001b[39m\u001b[33m\"\u001b[39m\n\u001b[32m----> \u001b[39m\u001b[32m2\u001b[39m \u001b[43msubject\u001b[49m\u001b[43m.\u001b[49m\u001b[43mindex\u001b[49m\u001b[43m(\u001b[49m\u001b[33;43m\"\u001b[39;49m\u001b[33;43ma\u001b[39;49m\u001b[33;43m\"\u001b[39;49m\u001b[43m)\u001b[49m\n",
      "\u001b[31mValueError\u001b[39m: substring not found"
     ]
    }
   ],
   "source": [
    "subject=\"English\"\n",
    "subject.index(\"a\")\n"
   ]
  },
  {
   "cell_type": "code",
   "execution_count": 74,
   "id": "39114b7e",
   "metadata": {},
   "outputs": [
    {
     "data": {
      "text/plain": [
       "True"
      ]
     },
     "execution_count": 74,
     "metadata": {},
     "output_type": "execute_result"
    }
   ],
   "source": [
    "# startwith(perfix)/endwith(suffix) it is case senstative\n",
    "subject=\"English\"\n",
    "subject.startswith(\"En\")\n"
   ]
  },
  {
   "cell_type": "code",
   "execution_count": 76,
   "id": "8ca930d6",
   "metadata": {},
   "outputs": [
    {
     "data": {
      "text/plain": [
       "True"
      ]
     },
     "execution_count": 76,
     "metadata": {},
     "output_type": "execute_result"
    }
   ],
   "source": [
    "subject=\"English\"\n",
    "subject.endswith(\"h\")\n"
   ]
  },
  {
   "cell_type": "code",
   "execution_count": 77,
   "id": "74ce3bb0",
   "metadata": {},
   "outputs": [
    {
     "data": {
      "text/plain": [
       "False"
      ]
     },
     "execution_count": 77,
     "metadata": {},
     "output_type": "execute_result"
    }
   ],
   "source": [
    "subject=\"English\"\n",
    "subject.endswith(\"n\")\n"
   ]
  },
  {
   "cell_type": "code",
   "execution_count": 79,
   "id": "1b5817bd",
   "metadata": {},
   "outputs": [
    {
     "data": {
      "text/plain": [
       "False"
      ]
     },
     "execution_count": 79,
     "metadata": {},
     "output_type": "execute_result"
    }
   ],
   "source": [
    "subject=\"English\"\n",
    "subject.startswith(\"en\")\n"
   ]
  },
  {
   "cell_type": "code",
   "execution_count": null,
   "id": "22d51129",
   "metadata": {},
   "outputs": [
    {
     "data": {
      "text/plain": [
       "True"
      ]
     },
     "execution_count": 80,
     "metadata": {},
     "output_type": "execute_result"
    }
   ],
   "source": [
    "# isalnum(),isalpha(),isdigit(),isspace()\n",
    "\n",
    "\"abc123\".isalnum()\n",
    "\n"
   ]
  },
  {
   "cell_type": "code",
   "execution_count": 81,
   "id": "9e2737cb",
   "metadata": {},
   "outputs": [
    {
     "data": {
      "text/plain": [
       "True"
      ]
     },
     "execution_count": 81,
     "metadata": {},
     "output_type": "execute_result"
    }
   ],
   "source": [
    "'abc'.isalpha()\n",
    "\n"
   ]
  },
  {
   "cell_type": "code",
   "execution_count": 82,
   "id": "5506c8cc",
   "metadata": {},
   "outputs": [
    {
     "data": {
      "text/plain": [
       "True"
      ]
     },
     "execution_count": 82,
     "metadata": {},
     "output_type": "execute_result"
    }
   ],
   "source": [
    "'123'.isdigit()\n",
    "\n"
   ]
  },
  {
   "cell_type": "code",
   "execution_count": null,
   "id": "55934e28",
   "metadata": {},
   "outputs": [
    {
     "data": {
      "text/plain": [
       "True"
      ]
     },
     "execution_count": 83,
     "metadata": {},
     "output_type": "execute_result"
    }
   ],
   "source": [
    "\"  \".isspace()\n"
   ]
  },
  {
   "cell_type": "code",
   "execution_count": 84,
   "id": "9c3e54c0",
   "metadata": {},
   "outputs": [
    {
     "data": {
      "text/plain": [
       "'0006'"
      ]
     },
     "execution_count": 84,
     "metadata": {},
     "output_type": "execute_result"
    }
   ],
   "source": [
    "# zfill(width)\n",
    "s='6'\n",
    "s.zfill(4)\n"
   ]
  },
  {
   "cell_type": "code",
   "execution_count": 86,
   "id": "6b2c9a7c",
   "metadata": {},
   "outputs": [
    {
     "data": {
      "text/plain": [
       "'hello'"
      ]
     },
     "execution_count": 86,
     "metadata": {},
     "output_type": "execute_result"
    }
   ],
   "source": [
    "# strip(),lstrip(),rstrip()\n",
    "s=' hello '\n",
    "s.strip()\n",
    "\n"
   ]
  },
  {
   "cell_type": "code",
   "execution_count": 87,
   "id": "f47ff646",
   "metadata": {},
   "outputs": [
    {
     "data": {
      "text/plain": [
       "'hello '"
      ]
     },
     "execution_count": 87,
     "metadata": {},
     "output_type": "execute_result"
    }
   ],
   "source": [
    "s.lstrip()\n"
   ]
  },
  {
   "cell_type": "code",
   "execution_count": 88,
   "id": "700acf1d",
   "metadata": {},
   "outputs": [
    {
     "data": {
      "text/plain": [
       "' hello'"
      ]
     },
     "execution_count": 88,
     "metadata": {},
     "output_type": "execute_result"
    }
   ],
   "source": [
    "s.rstrip()\n"
   ]
  },
  {
   "cell_type": "markdown",
   "id": "921ad9a9",
   "metadata": {},
   "source": [
    "# Project (Resume Keywords Scanner)\n"
   ]
  },
  {
   "cell_type": "code",
   "execution_count": 102,
   "id": "2ce1f073",
   "metadata": {},
   "outputs": [
    {
     "name": "stdout",
     "output_type": "stream",
     "text": [
      "The Skills are Missing in Your Resume are:['communication', 'aws', 'mongoDB']\n",
      "The Matched Skills in your Resume are: ['web development', 'mysql', 'python', 'java', 'machine learning', 'sql', 'git', 'javascript', 'node.js', 'numpy', 'pandas', 'matplotlib']\n",
      "Percentage of Matched Skills is !!\n",
      "The Percentage is: 80.00 %\n"
     ]
    }
   ],
   "source": [
    "resume_txt=\"\"\"\n",
    "Name: Priya Sharma\n",
    "Designation: Software Developer Intern\n",
    "\n",
    "Skills:\n",
    "- Python\n",
    "- Java\n",
    "- JavaScript\n",
    "- Node.js\n",
    "- Pandas\n",
    "- NumPy\n",
    "- Matplotlib\n",
    "- MySQL\n",
    "- MongoDB\n",
    "- Git\n",
    "- Machine Learning\n",
    "- web development \n",
    "\"\"\".lower()\n",
    "\n",
    "required_skills=['web development','mysql','python','java','machine learning','sql','git','communication','aws','mongoDB','javascript','node.js','numpy','pandas','matplotlib']\n",
    "\n",
    "matched_skills=[]\n",
    "missing_skills=[]\n",
    "\n",
    "for skills in required_skills:\n",
    "    if skills in resume_txt:\n",
    "        matched_skills.append(skills)\n",
    "    else:\n",
    "        missing_skills.append(skills)\n",
    "\n",
    "print(f\"The Skills are Missing in Your Resume are:{missing_skills}\")\n",
    "print(f\"The Matched Skills in your Resume are: {matched_skills}\")\n",
    "print(\"Percentage of Matched Skills is !!\")\n",
    "percentage=(len(matched_skills)/len(required_skills)*100)\n",
    "print(f\"The Percentage is: {percentage:.2f} %\")\n",
    "\n"
   ]
  },
  {
   "cell_type": "code",
   "execution_count": null,
   "id": "f219fa99",
   "metadata": {},
   "outputs": [],
   "source": []
  }
 ],
 "metadata": {
  "kernelspec": {
   "display_name": "Python 3",
   "language": "python",
   "name": "python3"
  },
  "language_info": {
   "codemirror_mode": {
    "name": "ipython",
    "version": 3
   },
   "file_extension": ".py",
   "mimetype": "text/x-python",
   "name": "python",
   "nbconvert_exporter": "python",
   "pygments_lexer": "ipython3",
   "version": "3.11.8"
  }
 },
 "nbformat": 4,
 "nbformat_minor": 5
}
