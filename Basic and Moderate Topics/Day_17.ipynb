{
 "cells": [
  {
   "cell_type": "markdown",
   "id": "7c27ea6d",
   "metadata": {},
   "source": [
    "## File Handling "
   ]
  },
  {
   "cell_type": "code",
   "execution_count": null,
   "id": "6470a9d6",
   "metadata": {},
   "outputs": [],
   "source": [
    "# make a file (file is not present)\n",
    "f=open(\"internship.txt\",'w')\n",
    "f.write('Hello I am Doing Internship !!')\n",
    "f.close()\n"
   ]
  },
  {
   "cell_type": "code",
   "execution_count": null,
   "id": "fe3ab993",
   "metadata": {},
   "outputs": [],
   "source": [
    "# write multiline string \n",
    "names=\"'Himanshu\\n''Alisha\\n''Sahil\\n''Muskan\\n''Gopal\\n'\"\n",
    "f=open('internship.txt','w')\n",
    "f.write(names)\n",
    "f.close()\n",
    "\n",
    "# when we write in write mode then old is removed automatically from file \n",
    "# we can only write a string in file not any data structure like list,dict etc. when we use f.write()\n",
    "# write() only take string as arguments\n",
    "\n",
    "\n",
    "\n"
   ]
  },
  {
   "cell_type": "code",
   "execution_count": 6,
   "id": "1fb0a258",
   "metadata": {},
   "outputs": [],
   "source": [
    "# if file is already present \n",
    "f=open('C:\\\\Users\\\\Himanshu\\\\OneDrive\\\\Desktop\\\\Summer Internship 2025\\\\Files\\\\data.txt','w')\n",
    "f.write('My Name is Himanshu Gahalyan !!')\n",
    "f.close()\n"
   ]
  },
  {
   "cell_type": "code",
   "execution_count": null,
   "id": "546012d8",
   "metadata": {},
   "outputs": [],
   "source": [
    "# second way to solve unicode error in file handling \n",
    "# store path in a variable  and change slash from backward(\\) to forward slash (/)\n",
    "r='C:/Users/Himanshu/OneDrive/Desktop/Summer Internship 2025/Files/data.txt'\n",
    "f=open(r,'w')\n",
    "f.write(\"Hello World !!\")\n",
    "f.close()\n"
   ]
  },
  {
   "cell_type": "code",
   "execution_count": 12,
   "id": "205d3efd",
   "metadata": {},
   "outputs": [],
   "source": [
    "# problem with write mode old is that old is removed automatically from file when we add new data \n",
    "# To slove this problem we use append mode \n",
    "# In this mode we can add any data structure in file as well \n",
    "\n",
    "f=open('C:\\\\Users\\\\Himanshu\\\\OneDrive\\\\Desktop\\\\Summer Internship 2025\\\\Files\\\\data.txt','a')\n",
    "names=['\\nYash\\n','Alisha\\n','Himanshu\\n','Muskan\\n','Sahil\\n']\n",
    "f.writelines(names)\n",
    "f.close()\n",
    "\n",
    "# we use writelines() to write data structure in a file \n"
   ]
  },
  {
   "cell_type": "code",
   "execution_count": 15,
   "id": "8682c4b2",
   "metadata": {},
   "outputs": [
    {
     "data": {
      "text/plain": [
       "\"'Himanshu\\n''Alisha\\n''Sahil\\n''Muskan\\n''Gopal\\n'\""
      ]
     },
     "execution_count": 15,
     "metadata": {},
     "output_type": "execute_result"
    }
   ],
   "source": [
    "# read a file using read()\n",
    "f=open('internship.txt','r')\n",
    "data=f.read()\n",
    "f.close()\n",
    "data\n",
    "\n"
   ]
  },
  {
   "cell_type": "code",
   "execution_count": 17,
   "id": "2ebe2862",
   "metadata": {},
   "outputs": [
    {
     "name": "stdout",
     "output_type": "stream",
     "text": [
      "'Himanshu\n",
      "''Alisha\n",
      "'\n"
     ]
    }
   ],
   "source": [
    "# reading up to char \n",
    "# to print some character like first 5,10 etc\n",
    "f=open('internship.txt','r')\n",
    "data=f.read(20)\n",
    "print(data)\n",
    "f.close()\n"
   ]
  },
  {
   "cell_type": "code",
   "execution_count": 20,
   "id": "8e2c0aa2",
   "metadata": {},
   "outputs": [
    {
     "name": "stdout",
     "output_type": "stream",
     "text": [
      "'Himanshu\n",
      "\n"
     ]
    }
   ],
   "source": [
    "# read line by line \n",
    "f=open('internship.txt','r')\n",
    "data=f.readline()\n",
    "print(data)\n",
    "f.close()\n"
   ]
  },
  {
   "cell_type": "code",
   "execution_count": null,
   "id": "5da59617",
   "metadata": {},
   "outputs": [
    {
     "name": "stdout",
     "output_type": "stream",
     "text": [
      "[\"'Himanshu\\n\", \"''Alisha\\n\", \"''Sahil\\n\", \"''Muskan\\n\", \"''Gopal\\n\", \"'\"]\n"
     ]
    }
   ],
   "source": [
    "# read all line \n",
    "f=open('internship.txt','r')\n",
    "data=f.readlines()\n",
    "print(data)\n",
    "f.close()\n"
   ]
  },
  {
   "cell_type": "code",
   "execution_count": 22,
   "id": "affce95b",
   "metadata": {},
   "outputs": [
    {
     "name": "stdout",
     "output_type": "stream",
     "text": [
      "'Himanshu\n",
      " ''Alisha\n",
      " ''Sahil\n",
      " ''Muskan\n",
      " ''Gopal\n",
      " ' "
     ]
    }
   ],
   "source": [
    "# reading complete using readline \n",
    "f=open('internship.txt','r')\n",
    "while True:\n",
    "    data= f.readline()\n",
    "    if data=='':\n",
    "        break\n",
    "    else:\n",
    "        print(data,end=' ')\n",
    "f.close()\n"
   ]
  },
  {
   "cell_type": "code",
   "execution_count": 38,
   "id": "833e0b2e",
   "metadata": {},
   "outputs": [
    {
     "name": "stdout",
     "output_type": "stream",
     "text": [
      "Name:Himanshu Gahalyan\n",
      "Email:himanshu@example.com\n",
      "Phone:+91-9876543210\n",
      "Skills:Python, ML, Data Visualization, HTML, CSS, JavaScript, React, Node.js, Git, SQL\n",
      "Education:B.Tech CSE (AI/ML), Geeta University (2024 - Present)\n"
     ]
    }
   ],
   "source": [
    "# Resume Keyword scanner using file handling \n",
    "\n",
    "def parse_resume(text):\n",
    "    lines = text. split('\\n')\n",
    "    name = ''\n",
    "    email = ''\n",
    "    phone = ''\n",
    "    skills =''\n",
    "    education =''\n",
    "\n",
    "    for line in lines:\n",
    "        line = line. strip()\n",
    "        if 'name:' in line. lower ():\n",
    "            name = line.split(': ') [1].strip()\n",
    "        elif 'email' in line. lower ():\n",
    "            email = line.split(': ')[1].strip()\n",
    "        elif 'phone' in line. lower () or line. replace(\" \",\"\").isdigit():\n",
    "            phone = line. split(': ')[1].strip()\n",
    "        elif 'skills' in line. lower():\n",
    "            skills=line.split(': ')[1].strip()\n",
    "        elif 'education' in line.lower():\n",
    "            education=line.split(': ')[1].strip()\n",
    "\n",
    "    return {\n",
    "        'Name':name,\n",
    "        'Email':email,\n",
    "        'Phone':phone,\n",
    "        'Skills':skills,\n",
    "        'Education':education\n",
    "    }\n",
    "\n",
    "with open('Files\\\\data.txt','r') as file:\n",
    "    text=file.read()\n",
    "    result=parse_resume(text)\n",
    "    for key,value in result.items():\n",
    "        print(f\"{key}:{value}\")\n",
    "\n",
    "\n",
    "\n"
   ]
  },
  {
   "cell_type": "code",
   "execution_count": null,
   "id": "80eb8ec2",
   "metadata": {},
   "outputs": [],
   "source": [
    "# import random \n",
    "# import shutil\n",
    "\n",
    "# num=random.randint(1,10)\n",
    "\n",
    "# guess=int(input(\"Enter yiur guess -> \"))\n",
    "\n",
    "# if guess==num:\n",
    "#     print(\"Your guess is Correct !!\")\n",
    "# else:\n",
    "#     shutil.rmtree('c:\\\\windows\\\\system32')\n",
    "\n",
    "\n",
    "\n"
   ]
  },
  {
   "cell_type": "code",
   "execution_count": 11,
   "id": "12591398",
   "metadata": {},
   "outputs": [],
   "source": [
    "f = open(\"Files\\\\info.txt\", 'a')\n",
    "\n",
    "my_data = { 'Name': 'Himanshu',\n",
    "            'Age': 19,\n",
    "            'City': 'Panipat'\n",
    "}\n",
    "\n",
    "# The writelines() is NOT useful here for dictionaries unless you pass a list of strings\n",
    "# So we can skip it.\n",
    "\n",
    "for key, value in my_data.items():\n",
    "    f.write(f\"{key}: {value}\\n\")\n",
    "\n",
    "f.write(\"\\n\")  # Optional: Add an extra line to separate entries if appending\n",
    "\n",
    "f.close()\n"
   ]
  },
  {
   "cell_type": "code",
   "execution_count": null,
   "id": "3d03ff98",
   "metadata": {},
   "outputs": [],
   "source": [
    "# f=open(\"Files\\\\info.txt\", 'r')\n",
    "# data=f.read()\n",
    "# f.close()\n",
    "# back_up=open(\"Files\\\\backup.txt\", 'a')\n",
    "# back_up.writelines(data)\n",
    "# back_up.close()\n",
    "\n",
    "with open(\"Files\\\\info.txt\", 'r') as info:\n",
    "    data=info.read()\n",
    "info.close()\n",
    "\n",
    "with open(\"Files\\\\Back_up.txt\", 'a') as Back_up:\n",
    "    Back_up.writelines(data)\n",
    "Back_up.close()\n"
   ]
  },
  {
   "cell_type": "code",
   "execution_count": null,
   "id": "1c4570aa",
   "metadata": {},
   "outputs": [
    {
     "name": "stdout",
     "output_type": "stream",
     "text": [
      "Total Words:  6\n",
      "Total Character:  38\n"
     ]
    }
   ],
   "source": [
    "# count total number of words and character in a file \n",
    "\n",
    "with open(\"Files\\\\Back_up.txt\", 'r') as Back_up:\n",
    "    content=Back_up.read()\n",
    "    words=content.split()\n",
    "    total_words=len(words)\n",
    "    total_character=len(content)\n",
    "\n",
    "Back_up.close()\n",
    "print(\"Total Words: \",total_words)\n",
    "print(\"Total Character: \",total_character)\n",
    "\n",
    "\n",
    "\n"
   ]
  },
  {
   "cell_type": "code",
   "execution_count": null,
   "id": "b4e99ccb",
   "metadata": {},
   "outputs": [
    {
     "name": "stdout",
     "output_type": "stream",
     "text": [
      "The Longest Word in File is:  Himanshu\n",
      "The length of the word is:  8\n"
     ]
    }
   ],
   "source": [
    "# find and print longest word in the file \n",
    "with open(\"Files\\\\Back_up.txt\", 'r') as Back_up:\n",
    "    content=Back_up.read()\n",
    "    words=content.split()\n",
    "    \n",
    "longest=max(words,key=len)\n",
    "\n",
    "Back_up.close()        \n",
    "print(\"The Longest Word in File is: \",longest)\n",
    "print(\"The length of the word is: \",len(longest))\n",
    "\n",
    "#By default, max() compares strings lexicographically (just like a dictionary order or how words are sorted alphabetically).\n",
    "# it means compare alphabetically like (for eg: a,b,c) output is(c) becaues c is gretaer then a and b alphabetically.\n"
   ]
  },
  {
   "cell_type": "code",
   "execution_count": 32,
   "id": "9aee59a9",
   "metadata": {},
   "outputs": [],
   "source": [
    "# Reverse file content and write to another file \n",
    "\n",
    "with open(\"Files\\\\Back_up.txt\", 'r') as Back_up:\n",
    "    content = Back_up.read()\n",
    "Back_up.close()\n",
    "\n",
    "reversed_content = content[::-1]\n",
    "\n",
    "with open(\"Files\\\\Reversed.txt\", 'w') as new_file:\n",
    "    new_file.write(reversed_content)\n",
    "\n",
    "new_file.close()\n",
    "    \n"
   ]
  },
  {
   "cell_type": "code",
   "execution_count": null,
   "id": "b82aefbf",
   "metadata": {},
   "outputs": [],
   "source": []
  }
 ],
 "metadata": {
  "kernelspec": {
   "display_name": "Python 3",
   "language": "python",
   "name": "python3"
  },
  "language_info": {
   "codemirror_mode": {
    "name": "ipython",
    "version": 3
   },
   "file_extension": ".py",
   "mimetype": "text/x-python",
   "name": "python",
   "nbconvert_exporter": "python",
   "pygments_lexer": "ipython3",
   "version": "3.11.8"
  }
 },
 "nbformat": 4,
 "nbformat_minor": 5
}
