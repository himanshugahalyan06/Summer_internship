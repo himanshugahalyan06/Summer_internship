{
 "cells": [
  {
   "cell_type": "markdown",
   "id": "efe1e1a0-b4cb-49ce-bad8-e89827236258",
   "metadata": {},
   "source": [
    "## Functions "
   ]
  },
  {
   "cell_type": "code",
   "execution_count": null,
   "id": "0e902a47-5c7e-41e2-af93-45405a19c444",
   "metadata": {},
   "outputs": [
    {
     "name": "stdout",
     "output_type": "stream",
     "text": [
      "\n",
      "--- Contact Book Menu ---\n",
      "1. Add Contact\n",
      "2. Display Contacts\n",
      "3. Search Contact\n",
      "4. Update Contact\n",
      "5. Delete Contact\n",
      "6. Exit\n"
     ]
    },
    {
     "name": "stdout",
     "output_type": "stream",
     "text": [
      "Contact 'Gopal' added.\n",
      "\n",
      "--- Contact Book Menu ---\n",
      "1. Add Contact\n",
      "2. Display Contacts\n",
      "3. Search Contact\n",
      "4. Update Contact\n",
      "5. Delete Contact\n",
      "6. Exit\n",
      "\n",
      "--- Contact List ---\n"
     ]
    },
    {
     "ename": "ValueError",
     "evalue": "too many values to unpack (expected 2)",
     "output_type": "error",
     "traceback": [
      "\u001b[31m---------------------------------------------------------------------------\u001b[39m",
      "\u001b[31mValueError\u001b[39m                                Traceback (most recent call last)",
      "\u001b[36mCell\u001b[39m\u001b[36m \u001b[39m\u001b[32mIn[2]\u001b[39m\u001b[32m, line 82\u001b[39m\n\u001b[32m     79\u001b[39m             \u001b[38;5;28mprint\u001b[39m(\u001b[33m\"\u001b[39m\u001b[33mInvalid choice. Please try again.\u001b[39m\u001b[33m\"\u001b[39m)\n\u001b[32m     81\u001b[39m \u001b[38;5;66;03m# Run the program\u001b[39;00m\n\u001b[32m---> \u001b[39m\u001b[32m82\u001b[39m \u001b[43mcontact_book\u001b[49m\u001b[43m(\u001b[49m\u001b[43m)\u001b[49m\n",
      "\u001b[36mCell\u001b[39m\u001b[36m \u001b[39m\u001b[32mIn[2]\u001b[39m\u001b[32m, line 68\u001b[39m, in \u001b[36mcontact_book\u001b[39m\u001b[34m()\u001b[39m\n\u001b[32m     66\u001b[39m     add_contact()\n\u001b[32m     67\u001b[39m \u001b[38;5;28;01melif\u001b[39;00m choice == \u001b[33m'\u001b[39m\u001b[33m2\u001b[39m\u001b[33m'\u001b[39m:\n\u001b[32m---> \u001b[39m\u001b[32m68\u001b[39m     \u001b[43mdisplay_contacts\u001b[49m\u001b[43m(\u001b[49m\u001b[43m)\u001b[49m\n\u001b[32m     69\u001b[39m \u001b[38;5;28;01melif\u001b[39;00m choice == \u001b[33m'\u001b[39m\u001b[33m3\u001b[39m\u001b[33m'\u001b[39m:\n\u001b[32m     70\u001b[39m     search_contact()\n",
      "\u001b[36mCell\u001b[39m\u001b[36m \u001b[39m\u001b[32mIn[2]\u001b[39m\u001b[32m, line 20\u001b[39m, in \u001b[36mdisplay_contacts\u001b[39m\u001b[34m()\u001b[39m\n\u001b[32m     18\u001b[39m \u001b[38;5;28;01mif\u001b[39;00m contacts:\n\u001b[32m     19\u001b[39m     \u001b[38;5;28mprint\u001b[39m(\u001b[33m\"\u001b[39m\u001b[38;5;130;01m\\n\u001b[39;00m\u001b[33m--- Contact List ---\u001b[39m\u001b[33m\"\u001b[39m)\n\u001b[32m---> \u001b[39m\u001b[32m20\u001b[39m     \u001b[38;5;28;01mfor\u001b[39;00m name, phone \u001b[38;5;129;01min\u001b[39;00m contacts:\n\u001b[32m     21\u001b[39m         \u001b[38;5;28mprint\u001b[39m(\u001b[33mf\u001b[39m\u001b[33m\"\u001b[39m\u001b[33mName: \u001b[39m\u001b[38;5;132;01m{\u001b[39;00mname\u001b[38;5;132;01m}\u001b[39;00m\u001b[33m, Phone: \u001b[39m\u001b[38;5;132;01m{\u001b[39;00mphone\u001b[38;5;132;01m}\u001b[39;00m\u001b[33m\"\u001b[39m)\n\u001b[32m     22\u001b[39m \u001b[38;5;28;01melse\u001b[39;00m:\n",
      "\u001b[31mValueError\u001b[39m: too many values to unpack (expected 2)"
     ]
    }
   ],
   "source": [
    "# Contact Book using Dictionary and Functions\n",
    "\n",
    "# Dictionary to store contact data\n",
    "contacts = {}\n",
    "\n",
    "# Function to add a contact\n",
    "def add_contact():\n",
    "    name = input(\"Enter contact name: \").strip()\n",
    "    phone = input(\"Enter phone number: \").strip()\n",
    "    if name in contacts:\n",
    "        print(\"Contact already exists.\")\n",
    "    else:\n",
    "        contacts[name] = phone\n",
    "        print(f\"Contact '{name}' added.\")\n",
    "\n",
    "# Function to display all contacts\n",
    "def display_contacts():\n",
    "    if contacts:\n",
    "        print(\"\\n--- Contact List ---\")\n",
    "        for name, phone in contacts.items():\n",
    "            print(f\"Name: {name}, Phone: {phone}\")\n",
    "    else:\n",
    "        print(\"No contacts found.\")\n",
    "\n",
    "# Function to search for a contact\n",
    "def search_contact():\n",
    "    name = input(\"Enter name to search: \").strip()\n",
    "    if name in contacts:\n",
    "        print(f\"Found: {name} -> {contacts[name]}\")\n",
    "    else:\n",
    "        print(\"Contact not found.\")\n",
    "\n",
    "# Function to update a contact\n",
    "def update_contact():\n",
    "    name = input(\"Enter the contact name to update: \").strip()\n",
    "    if name in contacts:\n",
    "        new_phone = input(\"Enter new phone number: \").strip()\n",
    "        contacts[name] = new_phone\n",
    "        print(f\"Contact '{name}' updated.\")\n",
    "    else:\n",
    "        print(\"Contact not found.\")\n",
    "\n",
    "# Function to delete a contact\n",
    "def delete_contact():\n",
    "    name = input(\"Enter the contact name to delete: \").strip()\n",
    "    if name in contacts:\n",
    "        del contacts[name]\n",
    "        print(f\"Contact '{name}' deleted.\")\n",
    "    else:\n",
    "        print(\"Contact not found.\")\n",
    "\n",
    "# Main program loop\n",
    "def contact_book():\n",
    "    while True:\n",
    "        print(\"\\n--- Contact Book Menu ---\")\n",
    "        print(\"1. Add Contact\")\n",
    "        print(\"2. Display Contacts\")\n",
    "        print(\"3. Search Contact\")\n",
    "        print(\"4. Update Contact\")\n",
    "        print(\"5. Delete Contact\")\n",
    "        print(\"6. Exit\")\n",
    "\n",
    "        choice = input(\"Enter your choice (1-6): \")\n",
    "\n",
    "        if choice == '1':\n",
    "            add_contact()\n",
    "        elif choice == '2':\n",
    "            display_contacts()\n",
    "        elif choice == '3':\n",
    "            search_contact()\n",
    "        elif choice == '4':\n",
    "            update_contact()\n",
    "        elif choice == '5':\n",
    "            delete_contact()\n",
    "        elif choice == '6':\n",
    "            print(\"Exiting Contact Book. Goodbye!\")\n",
    "            break\n",
    "        else:\n",
    "            print(\"Invalid choice. Please try again.\")\n",
    "\n",
    "# Run the program\n",
    "contact_book()\n"
   ]
  },
  {
   "cell_type": "code",
   "execution_count": null,
   "id": "3031db0e-7cbc-4d04-9fe6-18a98cadee3a",
   "metadata": {},
   "outputs": [
    {
     "name": "stdout",
     "output_type": "stream",
     "text": [
      "hello! geeta university\n"
     ]
    }
   ],
   "source": [
    "def greet(name):\n",
    "    '''this function takes the name of user and greet'''\n",
    "    print(f\"hello! {name}\")\n",
    "greet(\"geeta university\")\n"
   ]
  },
  {
   "cell_type": "code",
   "execution_count": null,
   "id": "a0fa92d5-6db7-4a95-934d-04659e0becbf",
   "metadata": {},
   "outputs": [
    {
     "name": "stdout",
     "output_type": "stream",
     "text": [
      "this function takes the name of user and greet\n"
     ]
    }
   ],
   "source": [
    "#  how to check the docstring of a function \n",
    "\n",
    "print(greet.__doc__)\n"
   ]
  },
  {
   "cell_type": "code",
   "execution_count": null,
   "id": "222434dc-81e7-4a2a-a772-9a5c4e0b13e6",
   "metadata": {},
   "outputs": [
    {
     "name": "stdout",
     "output_type": "stream",
     "text": [
      "25\n"
     ]
    }
   ],
   "source": [
    "# function to add two number \n",
    "def sum(x,y):\n",
    "    add=x+y\n",
    "    print(add)\n",
    "\n",
    "sum(10,15)\n"
   ]
  },
  {
   "cell_type": "code",
   "execution_count": null,
   "id": "aa6a0588-8708-4a5c-93a9-eba43714b5b1",
   "metadata": {},
   "outputs": [
    {
     "name": "stdout",
     "output_type": "stream",
     "text": [
      "15\n"
     ]
    }
   ],
   "source": [
    "# function returning a value\n",
    "def sum(x,y):\n",
    "    return x+y\n",
    "print(sum(5,10))\n"
   ]
  },
  {
   "cell_type": "code",
   "execution_count": 27,
   "id": "31738d1b-d38a-4473-82d4-f34d965f5648",
   "metadata": {},
   "outputs": [
    {
     "name": "stdout",
     "output_type": "stream",
     "text": [
      "Enter a number:  4\n"
     ]
    },
    {
     "name": "stdout",
     "output_type": "stream",
     "text": [
      "Factors of 4 are:\n",
      "1 2 4 "
     ]
    }
   ],
   "source": [
    "# Function to find factors of a number\n",
    "def factors(number):\n",
    "    print(f\"Factors of {number} are:\")\n",
    "    for i in range(1, number + 1):\n",
    "        if number % i == 0:\n",
    "            print(i, end=\" \")\n",
    "\n",
    "num = int(input(\"Enter a number: \"))\n",
    "factors(num)\n"
   ]
  },
  {
   "cell_type": "code",
   "execution_count": null,
   "id": "b7f2dc16-6a89-4c30-8e62-636e96283922",
   "metadata": {},
   "outputs": [
    {
     "name": "stdout",
     "output_type": "stream",
     "text": [
      "x=  10\n",
      "y=  25\n"
     ]
    }
   ],
   "source": [
    "# local variable \n",
    "def local_var(x,y):\n",
    "    print(\"x= \",x)\n",
    "    print(\"y= \",y)\n",
    "\n",
    "local_var(10,25)\n"
   ]
  },
  {
   "cell_type": "code",
   "execution_count": null,
   "id": "3579d571-542a-45c1-a499-3783ad4e908a",
   "metadata": {},
   "outputs": [
    {
     "name": "stdout",
     "output_type": "stream",
     "text": [
      "(10, 14)\n"
     ]
    }
   ],
   "source": [
    "def local_var(x,y):\n",
    "    return x,y\n",
    "print(local_var(10,14))\n"
   ]
  },
  {
   "cell_type": "code",
   "execution_count": 41,
   "id": "8c030899-d8dd-4e5e-b6ab-e467cceae1b0",
   "metadata": {},
   "outputs": [
    {
     "name": "stdout",
     "output_type": "stream",
     "text": [
      "10 20\n"
     ]
    }
   ],
   "source": [
    "def local_var():\n",
    "    x=10\n",
    "    y=20\n",
    "    print(x,y)\n",
    "\n",
    "\n",
    "local_var()\n"
   ]
  },
  {
   "cell_type": "code",
   "execution_count": 49,
   "id": "3db954dd-5cdf-4d6f-a539-4bc4eafa7b3f",
   "metadata": {},
   "outputs": [
    {
     "name": "stdout",
     "output_type": "stream",
     "text": [
      "x=10 y=23\n",
      "z= 10\n"
     ]
    }
   ],
   "source": [
    "# global variable\n",
    "\n",
    "z = 10\n",
    "\n",
    "def number():\n",
    "    x = 10\n",
    "    y = 23\n",
    "    print(f\"x={x} y={y}\")\n",
    "\n",
    "number()\n",
    "\n",
    "print(\"z=\",z)\n"
   ]
  },
  {
   "cell_type": "code",
   "execution_count": null,
   "id": "85130640-27e0-4399-a7d6-b9809a2d93ef",
   "metadata": {},
   "outputs": [
    {
     "name": "stdout",
     "output_type": "stream",
     "text": [
      "x=10 y=23\n",
      "10 23\n"
     ]
    }
   ],
   "source": [
    "# using global key word\n",
    "z = 10\n",
    "\n",
    "def number():\n",
    "    global x,y\n",
    "    x = 10\n",
    "    y = 23\n",
    "    print(f\"x={x} y={y}\")\n",
    "\n",
    "number()\n",
    "print(x,y)\n"
   ]
  },
  {
   "cell_type": "code",
   "execution_count": 59,
   "id": "14b48350-6593-4024-82ee-3f0c9fac4a1a",
   "metadata": {},
   "outputs": [
    {
     "name": "stdout",
     "output_type": "stream",
     "text": [
      "🔢 Welcome to the Python Calculator! 🤖\n",
      "Choose an operation: ➕ ➖ ✖️ ➗\n",
      "----------------------------------\n"
     ]
    },
    {
     "name": "stdout",
     "output_type": "stream",
     "text": [
      "📥 Enter first number:  45\n",
      "🧮 Enter operator (+, -, *, /):  -\n",
      "📥 Enter second number:  67\n"
     ]
    },
    {
     "name": "stdout",
     "output_type": "stream",
     "text": [
      "✅ Result: -22.0 ✨\n"
     ]
    }
   ],
   "source": [
    "#  calculator \n",
    "\n",
    "def add(x, y):\n",
    "    return x + y\n",
    "\n",
    "def subtract(x, y):\n",
    "    return x - y\n",
    "\n",
    "def multiply(x, y):\n",
    "    return x * y\n",
    "\n",
    "def divide(x, y):\n",
    "    if y == 0:\n",
    "        return \"❌ Cannot divide by zero!\"\n",
    "    return x / y\n",
    "\n",
    "# 🌟 Welcome message\n",
    "print(\"🔢 Welcome to the Python Calculator! 🤖\")\n",
    "print(\"Choose an operation: ➕ ➖ ✖️ ➗\")\n",
    "print(\"----------------------------------\")\n",
    "\n",
    "# 🎯 Input\n",
    "num1 = float(input(\"📥 Enter first number: \"))\n",
    "op = input(\"🧮 Enter operator (+, -, *, /): \")\n",
    "num2 = float(input(\"📥 Enter second number: \"))\n",
    "\n",
    "# 💡 Operation handling\n",
    "if op == '+':\n",
    "    print(\"✅ Result:\", add(num1, num2), \"✨\")\n",
    "elif op == '-':\n",
    "    print(\"✅ Result:\", subtract(num1, num2), \"✨\")\n",
    "elif op == '*':\n",
    "    print(\"✅ Result:\", multiply(num1, num2), \"✨\")\n",
    "elif op == '/':\n",
    "    result = divide(num1, num2)\n",
    "    print(\"✅ Result:\", result, \"✨\")\n",
    "else:\n",
    "    print(\"🚫 Invalid operator! Please use +, -, *, or /. ❗\")\n"
   ]
  },
  {
   "cell_type": "markdown",
   "id": "9b2461bc-13e8-4b4f-8591-9433b68126bb",
   "metadata": {},
   "source": [
    "## project \n",
    "\n"
   ]
  },
  {
   "cell_type": "code",
   "execution_count": 1,
   "id": "cf500464-1dbb-4b14-9a3d-84041496e058",
   "metadata": {},
   "outputs": [
    {
     "name": "stdout",
     "output_type": "stream",
     "text": [
      "📥 Enter monthly sales for each product (type 'done' to finish):\n"
     ]
    },
    {
     "name": "stdout",
     "output_type": "stream",
     "text": [
      "🔹 Product name:  mobiles\n",
      "   📦 Enter sales for 'mobiles':  9000\n",
      "🔹 Product name:  laptop\n",
      "   📦 Enter sales for 'laptop':  9576957\n",
      "🔹 Product name:  charger \n",
      "   📦 Enter sales for 'charger ':  76867\n",
      "🔹 Product name:  headphone\n",
      "   📦 Enter sales for 'headphone':  76957\n",
      "🔹 Product name:  done\n"
     ]
    },
    {
     "name": "stdout",
     "output_type": "stream",
     "text": [
      "\n",
      "📋 Monthly Sales Summary Report\n",
      "--------------------------------\n",
      "🛒 mobiles: ₹9000.00\n",
      "🛒 laptop: ₹9576957.00\n",
      "🛒 charger : ₹76867.00\n",
      "🛒 headphone: ₹76957.00\n",
      "\n",
      "🔢 Total Sales: ₹9739781.00\n",
      "📈 Average Sales: ₹2434945.25\n",
      "🏆 Best-Selling Product: laptop (₹9576957.00)\n",
      "📉 Least-Selling Product: mobiles (₹9000.00)\n"
     ]
    }
   ],
   "source": [
    "# build a python program that uses functions to \n",
    "# record monthly sales of different products\n",
    "# calculate total and average sales \n",
    "# identify best selling and least selling products \n",
    "# display a summary report\n",
    "\n",
    "\n",
    "\n",
    "def record_sales():\n",
    "    products = {}\n",
    "    print(\"📥 Enter monthly sales for each product (type 'done' to finish):\")\n",
    "    while True:\n",
    "        product = input(\"🔹 Product name: \")\n",
    "        if product.lower() == 'done':\n",
    "            break\n",
    "        sales = float(input(f\"   📦 Enter sales for '{product}': \"))\n",
    "        products[product] = sales\n",
    "    return products\n",
    "\n",
    "def calculate_total_and_average(products):\n",
    "    total_sales = sum(products.values()) \n",
    "    average_sales = total_sales / len(products) if products else 0\n",
    "    return total_sales, average_sales\n",
    "\n",
    "def identify_best_and_least_selling(products):\n",
    "    if not products:\n",
    "        return None, None\n",
    "    best = max(products, key=products.get)\n",
    "    least = min(products, key=products.get)\n",
    "    return best, least\n",
    "\n",
    "def display_summary(products, total, average, best, least):\n",
    "    print(\"\\n📋 Monthly Sales Summary Report\")\n",
    "    print(\"--------------------------------\")\n",
    "    for product, sales in products.items():\n",
    "        print(f\"🛒 {product}: ₹{sales:.2f}\")\n",
    "    \n",
    "    print(\"\\n🔢 Total Sales: ₹{:.2f}\".format(total))\n",
    "    print(\"📈 Average Sales: ₹{:.2f}\".format(average))\n",
    "    if best and least:\n",
    "        print(f\"🏆 Best-Selling Product: {best} (₹{products[best]:.2f})\")\n",
    "        print(f\"📉 Least-Selling Product: {least} (₹{products[least]:.2f})\")\n",
    "\n",
    "# 🔧 Main Program\n",
    "sales_data = record_sales()\n",
    "total, average = calculate_total_and_average(sales_data)\n",
    "best, least = identify_best_and_least_selling(sales_data)\n",
    "display_summary(sales_data, total, average, best, least)\n",
    "\n",
    "\n"
   ]
  },
  {
   "cell_type": "code",
   "execution_count": null,
   "id": "eba8436e-af16-4e06-ace8-60c00de5d8f9",
   "metadata": {},
   "outputs": [],
   "source": []
  }
 ],
 "metadata": {
  "kernelspec": {
   "display_name": "Python 3",
   "language": "python",
   "name": "python3"
  },
  "language_info": {
   "codemirror_mode": {
    "name": "ipython",
    "version": 3
   },
   "file_extension": ".py",
   "mimetype": "text/x-python",
   "name": "python",
   "nbconvert_exporter": "python",
   "pygments_lexer": "ipython3",
   "version": "3.11.8"
  }
 },
 "nbformat": 4,
 "nbformat_minor": 5
}
