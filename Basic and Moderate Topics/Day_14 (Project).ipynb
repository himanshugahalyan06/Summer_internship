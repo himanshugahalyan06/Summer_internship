{
 "cells": [
  {
   "cell_type": "markdown",
   "id": "b9f4dcb5",
   "metadata": {},
   "source": [
    "## Contact Book using Dictionary and Functions \n",
    "#####   Design and implement a Contact Book in Python that allows a #####\n",
    "#####   user to: #####\n",
    "#####    Add new contacts #####\n",
    "#####    View all contacts #####\n",
    "#####    Search a contact by name #####\n",
    "#####    Update an existing contact #####\n",
    "#####    Delete a contact #####\n",
    "#####   Use dictionary to store contact details and use functions to #####\n",
    "#####   modularize the operations. #####\n"
   ]
  },
  {
   "cell_type": "code",
   "execution_count": 18,
   "id": "886a6a94",
   "metadata": {},
   "outputs": [
    {
     "name": "stdout",
     "output_type": "stream",
     "text": [
      "---- Conatct Book Menu ----\n",
      "1. Add Contact !!\n",
      "2. Dispaly Contact !!\n",
      "3. Search Contact !!\n",
      "4. Update Contact !!\n",
      "5. Delete Contact !!\n",
      "6. Exit\n"
     ]
    },
    {
     "name": "stdout",
     "output_type": "stream",
     "text": [
      "Please Enter a Valid Input !!\n",
      "Will is already Exist !!\n",
      "---- Conatct Book Menu ----\n",
      "1. Add Contact !!\n",
      "2. Dispaly Contact !!\n",
      "3. Search Contact !!\n",
      "4. Update Contact !!\n",
      "5. Delete Contact !!\n",
      "6. Exit\n",
      "\n",
      "---- Exit Section ----\n",
      "Wishing you a wonderful day ahead! 😊\n",
      "Goodbye! 👋\n"
     ]
    }
   ],
   "source": [
    "contacts = {\n",
    "    \"Alice\": \"9876543210\",\n",
    "    \"Bob\": \"9876543211\",\n",
    "    \"Charlie\": \"9876543212\",\n",
    "    \"David\": \"9876543213\",\n",
    "    \"Eve\": \"9876543214\",\n",
    "    \"Frank\": \"9876543215\",\n",
    "    \"Grace\": \"9876543216\",\n",
    "    \"Hannah\": \"9876543217\",\n",
    "    \"Ivan\": \"9876543218\",\n",
    "    \"Judy\": \"9876543219\",\n",
    "    \"Kevin\": \"9876543220\",\n",
    "    \"Laura\": \"9876543221\",\n",
    "    \"Mallory\": \"9876543222\",\n",
    "    \"Niaj\": \"9876543223\",\n",
    "    \"Olivia\": \"9876543224\",\n",
    "    \"Peggy\": \"9876543225\",\n",
    "    \"Quentin\": \"9876543226\",\n",
    "    \"Rupert\": \"9876543227\",\n",
    "    \"Sybil\": \"9876543228\",\n",
    "    \"Trudy\": \"9876543229\",\n",
    "    \"Uma\": \"9876543230\",\n",
    "    \"Victor\": \"9876543231\",\n",
    "    \"Wendy\": \"9876543232\",\n",
    "    \"Xavier\": \"9876543233\",\n",
    "    \"Yvonne\": \"9876543234\",\n",
    "    \"Zach\": \"9876543235\",\n",
    "    \"Abigail\": \"9876543236\",\n",
    "    \"Brian\": \"9876543237\",\n",
    "    \"Catherine\": \"9876543238\",\n",
    "    \"Derek\": \"9876543239\",\n",
    "    \"Emily\": \"9876543240\",\n",
    "    \"Felix\": \"9876543241\",\n",
    "    \"Gina\": \"9876543242\",\n",
    "    \"Harry\": \"9876543243\",\n",
    "    \"Isla\": \"9876543244\",\n",
    "    \"Jack\": \"9876543245\",\n",
    "    \"Kylie\": \"9876543246\",\n",
    "    \"Leon\": \"9876543247\",\n",
    "    \"Mona\": \"9876543248\",\n",
    "    \"Nathan\": \"9876543249\",\n",
    "    \"Ophelia\": \"9876543250\",\n",
    "    \"Paul\": \"9876543251\",\n",
    "    \"Queenie\": \"9876543252\",\n",
    "    \"Ryan\": \"9876543253\",\n",
    "    \"Sophia\": \"9876543254\",\n",
    "    \"Tom\": \"9876543255\",\n",
    "    \"Ursula\": \"9876543256\",\n",
    "    \"Violet\": \"9876543257\",\n",
    "    \"Will\": \"9876543258\",\n",
    "    \"Xena\": \"9876543259\"\n",
    "}\n",
    "\n",
    "# function to check contact is valid or not \n",
    "def vaild_contact():\n",
    "    while True:\n",
    "        phone=input(\"Enter Phone Number (10 digit): \").strip()\n",
    "        if phone.isdigit() and len(phone)==10:\n",
    "            return phone\n",
    "        else:\n",
    "            print(\"Please Enter a Valid Input !!\")\n",
    "\n",
    "# function to add contact \n",
    "def add_contact():\n",
    "    Name=input(\"Enter you Name: \").strip().capitalize()\n",
    "    phone=vaild_contact()\n",
    "    if Name in contacts:\n",
    "        print(f\"{Name} is already Exist !!\")\n",
    "    else:\n",
    "        contacts[Name]='+91'+ phone\n",
    "        print(f\"Contact {Name} added\")\n",
    "\n",
    "# function to display all contact \n",
    "def display_contact():\n",
    "    if contacts:\n",
    "        print(\"---- Contact List ----\")\n",
    "        for Name,phone in contacts.items():\n",
    "            print(f\"Name: {Nmae}  Mobile_Number: {phone}\")\n",
    "    else:\n",
    "        print(\"Not Contact Found !!\")\n",
    "\n",
    "# function to search a contact \n",
    "def search_contact():\n",
    "    Name=input(\"Enter Name to Search !! \").strip().capitalize()\n",
    "    if Name in contacts:\n",
    "        print(f\"{Name} -> {contacts[Name]}\")\n",
    "    else:\n",
    "        print(\"Contact Not Found !!\")\n",
    "\n",
    "\n",
    "# function to Update the Number \n",
    "def update_contact():\n",
    "    Name=input(\"Enter Name you want to Update !! \").strip().capitalize()\n",
    "    if Name in contacts:\n",
    "        new_phone=vaild_contact()\n",
    "        contacts[Name]=new_phone\n",
    "        print(f\"{Name} Updated !! \")\n",
    "    else:\n",
    "        print(\"Contact Not Found !!\")\n",
    "\n",
    "# function to delete a contact\n",
    "\n",
    "def del_contact():\n",
    "    Name=input(\"Enter the Name you want to delete !!  \").strip().capitalize()\n",
    "    if Name in contacts :\n",
    "        del contacts[Name]\n",
    "        print(f\"{Name} Deleted !!\")\n",
    "    else:\n",
    "        print(\"Name Not Found !!\")\n",
    "\n",
    "# Main Loop \n",
    "def contact_book():\n",
    "    while True:\n",
    "        print(\"---- Conatct Book Menu ----\")\n",
    "        print(\"1. Add Contact !!\")\n",
    "        print(\"2. Dispaly Contact !!\")\n",
    "        print(\"3. Search Contact !!\")\n",
    "        print(\"4. Update Contact !!\")\n",
    "        print(\"5. Delete Contact !!\")\n",
    "        print(\"6. Exit\")\n",
    "\n",
    "        \n",
    "        try:\n",
    "            choice = int(input(\"Enter your Choice: (1-6): \"))\n",
    "        except ValueError:\n",
    "            print(\"❌ Invalid input. Please enter a number between 1 and 6.\\n\")\n",
    "            continue\n",
    "\n",
    "        if choice not in [1, 2, 3, 4, 5, 6]:\n",
    "            print(\"❌ Invalid Choice! Please select from 1 to 6.\\n\")\n",
    "            continue\n",
    "\n",
    "        if choice==1:\n",
    "            add_contact()\n",
    "        elif choice==2:\n",
    "            dispaly_contact()\n",
    "        elif choice==3:\n",
    "            search_contact()\n",
    "        elif choice==4:\n",
    "            update_contact()\n",
    "        elif choice==5:\n",
    "            del_contact()\n",
    "        elif choice==6:\n",
    "            print(\"\\n---- Exit Section ----\")\n",
    "            exit_choice = input(\"Do you want to exit the program? (yes/no): \").casefold()\n",
    "            if exit_choice == 'yes':\n",
    "                print(\"Wishing you a wonderful day ahead! 😊\")\n",
    "                print(\"Goodbye! 👋\")\n",
    "                break\n",
    "            else:\n",
    "                print(\"\\n🔁 Taking you back to the main menu... Let's continue! 🚀\\n\")\n",
    "    \n",
    "\n",
    "# Run the Program by calling a function \n",
    "\n",
    "contact_book()\n"
   ]
  },
  {
   "cell_type": "code",
   "execution_count": null,
   "id": "2a2f491f",
   "metadata": {},
   "outputs": [
    {
     "name": "stdout",
     "output_type": "stream",
     "text": [
      "Factorial is:  120\n"
     ]
    }
   ],
   "source": [
    "# Factorial using function \n",
    "def factorial(n):\n",
    "    fact=1\n",
    "    for i in range(n,0,-1):\n",
    "        fact=fact*i\n",
    "    print(\"Factorial is: \",fact)\n",
    "\n",
    "n=int(input(\"Enter the Number: \"))\n",
    "factorial(n)\n"
   ]
  },
  {
   "cell_type": "code",
   "execution_count": 5,
   "id": "9a9ef386",
   "metadata": {},
   "outputs": [
    {
     "name": "stdout",
     "output_type": "stream",
     "text": [
      "Factorial is:  120\n"
     ]
    }
   ],
   "source": [
    "# using simple loop \n",
    "n=int(input(\"Enter a Number: \"))\n",
    "fact=1\n",
    "for i in range(n,0,-1):\n",
    "    fact=fact*i\n",
    "print(\"Factorial is: \",fact)\n"
   ]
  },
  {
   "cell_type": "code",
   "execution_count": 12,
   "id": "1c6d6226",
   "metadata": {},
   "outputs": [
    {
     "name": "stdout",
     "output_type": "stream",
     "text": [
      "factorial is:  120\n"
     ]
    }
   ],
   "source": [
    "# factoril using recursion \n",
    "def factorial(n):\n",
    "    if (n==0) or n==1:\n",
    "        return 1\n",
    "    else:\n",
    "        return n * factorial(n-1)\n",
    "    \n",
    "\n",
    "n-int(input(\"Enter the Number: \"))\n",
    "result=factorial(n)\n",
    "print(\"factorial is: \",result)\n"
   ]
  },
  {
   "cell_type": "code",
   "execution_count": 1,
   "id": "b671fc13",
   "metadata": {},
   "outputs": [
    {
     "name": "stdout",
     "output_type": "stream",
     "text": [
      "Sum of all even numbers from 1 to 10 is: 30\n"
     ]
    }
   ],
   "source": [
    "def sum_even(n):\n",
    "    if n <= 0:\n",
    "        return 0\n",
    "    if n % 2 == 0:\n",
    "        return n + sum_even(n - 1)\n",
    "    else:\n",
    "        return sum_even(n - 1)\n",
    "\n",
    "# Call the function with 10\n",
    "result = sum_even(11)\n",
    "print(\"Sum of all even numbers from 1 to 10 is:\", result)\n"
   ]
  },
  {
   "cell_type": "code",
   "execution_count": null,
   "id": "210a6fab",
   "metadata": {},
   "outputs": [],
   "source": [
    "\n"
   ]
  }
 ],
 "metadata": {
  "kernelspec": {
   "display_name": "Python 3",
   "language": "python",
   "name": "python3"
  },
  "language_info": {
   "codemirror_mode": {
    "name": "ipython",
    "version": 3
   },
   "file_extension": ".py",
   "mimetype": "text/x-python",
   "name": "python",
   "nbconvert_exporter": "python",
   "pygments_lexer": "ipython3",
   "version": "3.11.8"
  }
 },
 "nbformat": 4,
 "nbformat_minor": 5
}
