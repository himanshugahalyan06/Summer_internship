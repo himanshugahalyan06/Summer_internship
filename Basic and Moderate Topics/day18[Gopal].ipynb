{
 "cells": [
  {
   "cell_type": "markdown",
   "id": "f847a608-72d6-4d44-8636-24eab7b90a55",
   "metadata": {},
   "source": [
    "## Exception Handling"
   ]
  },
  {
   "cell_type": "code",
   "execution_count": 3,
   "id": "f12a6d90-b063-4a94-87a1-54038fa198af",
   "metadata": {},
   "outputs": [
    {
     "name": "stdin",
     "output_type": "stream",
     "text": [
      "enter a number 0\n"
     ]
    },
    {
     "name": "stdout",
     "output_type": "stream",
     "text": [
      "can not divide by zero\n",
      "program completed successfully\n"
     ]
    }
   ],
   "source": [
    "try:\n",
    "    num = int(input(\"enter a number\"))\n",
    "    result = 10/num\n",
    "\n",
    "except ZeroDivisionError:\n",
    "    print(\"can not divide by zero\")\n",
    "\n",
    "except ValueError:\n",
    "    (\"entered wrong value\")\n",
    "\n",
    "else:\n",
    "    print(\"result=\", result)\n",
    "\n",
    "finally:\n",
    "    print(\"program completed successfully\")"
   ]
  },
  {
   "cell_type": "code",
   "execution_count": 9,
   "id": "67a728eb-f6d8-4178-af57-9f364e13940e",
   "metadata": {},
   "outputs": [
    {
     "name": "stdout",
     "output_type": "stream",
     "text": [
      "abhay\n",
      ",gopal\n",
      ",mayank\n",
      ",kunal\n",
      "yash\n",
      "neha\n",
      "raja\n",
      "radha\n",
      "meera\n",
      "krishna\n",
      "\n",
      "data fetched successfully\n",
      "abhay\n",
      ",gopal\n",
      ",mayank\n",
      ",kunal\n",
      "yash\n",
      "neha\n",
      "raja\n",
      "radha\n",
      "meera\n",
      "krishna\n",
      "\n",
      "operation completed sucessfully\n"
     ]
    }
   ],
   "source": [
    "#  file handaling \n",
    "\n",
    "try:\n",
    "    f = open('internship.txt','r')\n",
    "    read_data = f.read()\n",
    "    print(read_data)\n",
    "\n",
    "except FileNotFoundError:\n",
    "    print(\"file is not found please make a file first\")\n",
    "\n",
    "else:\n",
    "    print(\"data fetched successfully\")\n",
    "    print(read_data)\n",
    "\n",
    "finally:\n",
    "    print(\"operation completed sucessfully\")"
   ]
  },
  {
   "cell_type": "code",
   "execution_count": 21,
   "id": "e626f90f-a4dc-49ff-93ba-2ab7cb18b875",
   "metadata": {},
   "outputs": [
    {
     "name": "stdin",
     "output_type": "stream",
     "text": [
      "enter the index number 5\n"
     ]
    },
    {
     "name": "stdout",
     "output_type": "stream",
     "text": [
      "index not founnd :\n",
      "program completed successfully\n"
     ]
    }
   ],
   "source": [
    " #  index error \n",
    "\n",
    "try:\n",
    "    data = [12,10,5,15]\n",
    "    index_number = int(input(\"enter the index number\"))\n",
    "    print(f\"number at index {index_number} is : {data[index_number]}\")\n",
    "\n",
    "except IndexError as e:\n",
    "    print(\"index not founnd :\")\n",
    "\n",
    "else:\n",
    "    print(\"index fetched\")\n",
    "\n",
    "finally:\n",
    "    print(\"program completed successfully\")"
   ]
  },
  {
   "cell_type": "code",
   "execution_count": 37,
   "id": "817c6e0c-ba3f-46a7-8a9c-33f4e2a70881",
   "metadata": {},
   "outputs": [
    {
     "name": "stdin",
     "output_type": "stream",
     "text": [
      "Enter the Roll no 1134\n"
     ]
    },
    {
     "name": "stdout",
     "output_type": "stream",
     "text": [
      "Roll no 1134 not found 1134\n"
     ]
    }
   ],
   "source": [
    "students ={\n",
    "    1072:'Rushi',\n",
    "    1044:'fluffy',\n",
    "    1003:'laila ',\n",
    "    1077:'pookie',\n",
    "}\n",
    "try:\n",
    "    rollno = int(input(\"Enter the Roll no\"))\n",
    "    print(f\"{rollno} : {students [rollno]}\")\n",
    "except KeyError as e:\n",
    "    print(f\"Roll no {rollno} not found\",e)\n",
    "else:\n",
    "    print(\"student record fetched\")"
   ]
  },
  {
   "cell_type": "code",
   "execution_count": 45,
   "id": "9b305723-d908-450d-9d98-8ed3b8470d1e",
   "metadata": {},
   "outputs": [
    {
     "name": "stdout",
     "output_type": "stream",
     "text": [
      "\n",
      "====== ATM Menu ======\n",
      "1. Check Balance\n",
      "2. Deposit Money\n",
      "3. Withdraw Money\n",
      "4. Exit\n"
     ]
    },
    {
     "name": "stdin",
     "output_type": "stream",
     "text": [
      "Enter your choice (1-4):  1\n"
     ]
    },
    {
     "name": "stdout",
     "output_type": "stream",
     "text": [
      "\n",
      "Your current balance is: ₹1000.00\n",
      "\n",
      "\n",
      "====== ATM Menu ======\n",
      "1. Check Balance\n",
      "2. Deposit Money\n",
      "3. Withdraw Money\n",
      "4. Exit\n"
     ]
    },
    {
     "name": "stdin",
     "output_type": "stream",
     "text": [
      "Enter your choice (1-4):  2\n",
      "Enter amount to deposit: ₹ 234567\n"
     ]
    },
    {
     "name": "stdout",
     "output_type": "stream",
     "text": [
      "₹234567.00 deposited successfully.\n",
      "\n",
      "Your current balance is: ₹235567.00\n",
      "\n",
      "\n",
      "====== ATM Menu ======\n",
      "1. Check Balance\n",
      "2. Deposit Money\n",
      "3. Withdraw Money\n",
      "4. Exit\n"
     ]
    },
    {
     "name": "stdin",
     "output_type": "stream",
     "text": [
      "Enter your choice (1-4):  3\n",
      "Enter amount to withdraw: ₹ 2345\n"
     ]
    },
    {
     "name": "stdout",
     "output_type": "stream",
     "text": [
      "₹2345.00 withdrawn successfully.\n",
      "\n",
      "Your current balance is: ₹233222.00\n",
      "\n",
      "\n",
      "====== ATM Menu ======\n",
      "1. Check Balance\n",
      "2. Deposit Money\n",
      "3. Withdraw Money\n",
      "4. Exit\n"
     ]
    },
    {
     "name": "stdin",
     "output_type": "stream",
     "text": [
      "Enter your choice (1-4):  4\n"
     ]
    },
    {
     "name": "stdout",
     "output_type": "stream",
     "text": [
      "Thank you for using the ATM. Goodbye!\n"
     ]
    }
   ],
   "source": [
    "# Atm simulation \n",
    "balance = 1000.0 \n",
    "\n",
    "def check_balance():\n",
    "    print(f\"\\nYour current balance is: ₹{balance:.2f}\\n\")\n",
    "\n",
    "\n",
    "def deposit_money():\n",
    "    global balance\n",
    "    try:\n",
    "        amount = float(input(\"Enter amount to deposit: ₹\"))\n",
    "        if amount <= 0:\n",
    "            raise ValueError(\"Deposit amount must be positive.\")\n",
    "        balance += amount\n",
    "        print(f\"₹{amount:.2f} deposited successfully.\")\n",
    "        check_balance()\n",
    "    except ValueError as ve:\n",
    "        print(f\"Invalid input: {ve}\")\n",
    "    except Exception as e:\n",
    "        print(f\"An unexpected error occurred: {e}\")\n",
    "\n",
    "def withdraw_money():\n",
    "    global balance\n",
    "    try:\n",
    "        amount = float(input(\"Enter amount to withdraw: ₹\"))\n",
    "        if amount <= 0:\n",
    "            raise ValueError(\"Withdrawal amount must be positive.\")\n",
    "        if amount > balance:\n",
    "            raise ValueError(\"Insufficient balance.\")\n",
    "        balance -= amount\n",
    "        print(f\"₹{amount:.2f} withdrawn successfully.\")\n",
    "        check_balance()\n",
    "    except ValueError as ve:\n",
    "        print(f\"Transaction error: {ve}\")\n",
    "    except Exception as e:\n",
    "        print(f\"An unexpected error occurred: {e}\")\n",
    "\n",
    "\n",
    "def atm_menu():\n",
    "    while True:\n",
    "        print(\"\\n====== ATM Menu ======\")\n",
    "        print(\"1. Check Balance\")\n",
    "        print(\"2. Deposit Money\")\n",
    "        print(\"3. Withdraw Money\")\n",
    "        print(\"4. Exit\")\n",
    "        try:\n",
    "            choice = int(input(\"Enter your choice (1-4): \"))\n",
    "            if choice == 1:\n",
    "                check_balance()\n",
    "            elif choice == 2:\n",
    "                deposit_money()\n",
    "            elif choice == 3:\n",
    "                withdraw_money()\n",
    "            elif choice == 4:\n",
    "                print(\"Thank you for using the ATM. Goodbye!\")\n",
    "                break\n",
    "            else:\n",
    "                print(\"Invalid choice. Please select a number between 1 and 4.\")\n",
    "        except ValueError:\n",
    "            print(\"Invalid input. Please enter a number (1-4).\")\n",
    "        except Exception as e:\n",
    "            print(f\"An unexpected error occurred: {e}\")\n",
    "\n",
    "atm_menu()"
   ]
  },
  {
   "cell_type": "code",
   "execution_count": null,
   "id": "6ee691b0-7c32-4468-8720-ffea955c6940",
   "metadata": {},
   "outputs": [],
   "source": [
    "  "
   ]
  }
 ],
 "metadata": {
  "kernelspec": {
   "display_name": "Python [conda env:base] *",
   "language": "python",
   "name": "conda-base-py"
  },
  "language_info": {
   "codemirror_mode": {
    "name": "ipython",
    "version": 3
   },
   "file_extension": ".py",
   "mimetype": "text/x-python",
   "name": "python",
   "nbconvert_exporter": "python",
   "pygments_lexer": "ipython3",
   "version": "3.12.7"
  }
 },
 "nbformat": 4,
 "nbformat_minor": 5
}
