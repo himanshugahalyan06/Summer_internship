{
 "cells": [
  {
   "cell_type": "markdown",
   "id": "5407efa5-74b4-4459-906b-3da29c11f419",
   "metadata": {},
   "source": [
    "## List Comprehension "
   ]
  },
  {
   "cell_type": "code",
   "execution_count": 7,
   "id": "cdbc0dc4-ab77-44a3-82e5-2db9d61153cf",
   "metadata": {},
   "outputs": [
    {
     "data": {
      "text/plain": [
       "[1, 4, 9, 16, 25]"
      ]
     },
     "execution_count": 7,
     "metadata": {},
     "output_type": "execute_result"
    }
   ],
   "source": [
    "#  generate square of number  1 to 5 \n",
    "[x**2 for x in range(1,6)]"
   ]
  },
  {
   "cell_type": "code",
   "execution_count": 9,
   "id": "fe0c6962-3ff8-4cc7-970b-050f89d9c099",
   "metadata": {},
   "outputs": [
    {
     "data": {
      "text/plain": [
       "[2, 4, 6, 8, 10, 12, 14, 16, 18, 20]"
      ]
     },
     "execution_count": 9,
     "metadata": {},
     "output_type": "execute_result"
    }
   ],
   "source": [
    "# even number from 1 to 20\n",
    "even_num=[x for x in range(1,21) if x%2==0]\n",
    "even_num"
   ]
  },
  {
   "cell_type": "code",
   "execution_count": 13,
   "id": "3126c428-4786-41e9-8685-5a2338d70208",
   "metadata": {},
   "outputs": [
    {
     "data": {
      "text/plain": [
       "['APPLE', 'BANANA', 'CHERRY']"
      ]
     },
     "execution_count": 13,
     "metadata": {},
     "output_type": "execute_result"
    }
   ],
   "source": [
    "#  convert all sring in list to uppercase\n",
    "\n",
    "fruits = ['apple','banana','cherry']\n",
    "upper_case = [x.upper() for x in fruits]\n",
    "upper_case"
   ]
  },
  {
   "cell_type": "code",
   "execution_count": 15,
   "id": "884f0ddc-fe70-454f-84d7-4df16c88189f",
   "metadata": {},
   "outputs": [
    {
     "name": "stdout",
     "output_type": "stream",
     "text": [
      "[5, 5, 6, 5]\n"
     ]
    }
   ],
   "source": [
    "# create a list of length of words \n",
    "words = [\"hello\", \"world\", \"python\", \"rocks\"]\n",
    "lengths = [len(word) for word in words]\n",
    "\n",
    "print(lengths)\n"
   ]
  },
  {
   "cell_type": "code",
   "execution_count": 17,
   "id": "3d27ed78-671f-44fe-88d3-be4b60a5d2cb",
   "metadata": {},
   "outputs": [
    {
     "name": "stdout",
     "output_type": "stream",
     "text": [
      "['1', '2', '3', '4', '5', '6']\n"
     ]
    }
   ],
   "source": [
    "# extract digits from the string \n",
    "text = \"abc123def456\"\n",
    "digits = [char for char in text if char.isdigit()]\n",
    "print(digits)\n"
   ]
  },
  {
   "cell_type": "code",
   "execution_count": 23,
   "id": "d846ef57-15a7-4221-a909-553b7b614d74",
   "metadata": {},
   "outputs": [
    {
     "name": "stdout",
     "output_type": "stream",
     "text": [
      "['a', 'b', 'c', 'd', 'e', 'f']\n"
     ]
    }
   ],
   "source": [
    "text = \"abc123def456\"\n",
    "digits = [char for char in text if not char.isdigit()]\n",
    "print(digits)\n"
   ]
  },
  {
   "cell_type": "markdown",
   "id": "5fe8887b-75ad-4e2a-b39a-aad45351276f",
   "metadata": {},
   "source": [
    "## Dictionary comprehension"
   ]
  },
  {
   "cell_type": "code",
   "execution_count": 26,
   "id": "5acb0c0a-8a24-49f4-b19d-164d55929841",
   "metadata": {},
   "outputs": [
    {
     "name": "stdout",
     "output_type": "stream",
     "text": [
      "{1: 1, 2: 4, 3: 9, 4: 16, 5: 25}\n"
     ]
    }
   ],
   "source": [
    "#  square number as dictionary comprehension\n",
    "squares = {x: x**2 for x in range(1, 6)}\n",
    "print(squares)\n"
   ]
  },
  {
   "cell_type": "code",
   "execution_count": 34,
   "id": "1d00d846-bbed-41bf-ba59-ad9831fa6ac3",
   "metadata": {},
   "outputs": [
    {
     "name": "stdout",
     "output_type": "stream",
     "text": [
      "{3: 9, 6: 36, 9: 81, 12: 144, 15: 225, 18: 324, 21: 441, 24: 576, 27: 729, 30: 900, 33: 1089, 36: 1296, 39: 1521, 42: 1764, 45: 2025, 48: 2304}\n"
     ]
    }
   ],
   "source": [
    "# /make dictionary of all square of  multiple of 3 between 1 to 50\n",
    "multiples_of_3 = {x: x**2 for x in range(2, 51) if x % 3 == 0}\n",
    "print(multiples_of_3)\n"
   ]
  },
  {
   "cell_type": "code",
   "execution_count": 38,
   "id": "d9aa74ea-fb6b-4a5b-8a99-19117802a765",
   "metadata": {},
   "outputs": [
    {
     "name": "stdout",
     "output_type": "stream",
     "text": [
      "{1003: 'gopal', 1004: 'priyanshu', 1005: 'lovedeeep'}\n"
     ]
    }
   ],
   "source": [
    "#  create a dictionary with two list \n",
    "keys = [1003, 1004, 1005]\n",
    "values = [\"gopal\", \"priyanshu\",\"lovedeeep\"]\n",
    "\n",
    "my_dict = {k: v for k, v in zip(keys, values)}\n",
    "print(my_dict)\n"
   ]
  },
  {
   "cell_type": "code",
   "execution_count": 40,
   "id": "25af3cb8-6ffa-4f74-95f6-9ac6edc26646",
   "metadata": {},
   "outputs": [
    {
     "name": "stdout",
     "output_type": "stream",
     "text": [
      "{'b': 60, 'd': 75}\n"
     ]
    }
   ],
   "source": [
    "# filter dictionary with values greater than 50 \n",
    "\n",
    "original_dict = {'a': 45, 'b': 60, 'c': 30, 'd': 75}\n",
    "\n",
    "filtered_dict = {k: v for k, v in original_dict.items() if v > 50}\n",
    "print(filtered_dict)\n"
   ]
  },
  {
   "cell_type": "code",
   "execution_count": 42,
   "id": "b9e8ad09-0091-43d4-aaed-c70464e97846",
   "metadata": {},
   "outputs": [
    {
     "name": "stdout",
     "output_type": "stream",
     "text": [
      "{'maths': 80, ' science ': 98}\n"
     ]
    }
   ],
   "source": [
    "marks = {\"maths\" : 80 , \" english\" : 78 , \" science \" : 98}\n",
    "\n",
    "filtered  = { s  : m for s , m in marks.items() if m >= 80}\n",
    "print(filtered)"
   ]
  },
  {
   "cell_type": "code",
   "execution_count": 62,
   "id": "fc86aaba-6c8e-4705-b298-93db480e7c0d",
   "metadata": {},
   "outputs": [
    {
     "name": "stdout",
     "output_type": "stream",
     "text": [
      "{' science ': 98}\n"
     ]
    }
   ],
   "source": [
    "marks = {\"maths\" : 80 , \" english\" : 78 , \" science \" : 98}\n",
    "sub  = { s  : m for s , m in marks.items() if s == \" science \"}\n",
    "print(sub)"
   ]
  },
  {
   "cell_type": "code",
   "execution_count": 70,
   "id": "21938b8b-2bed-46c1-8198-8f2f4d619b0c",
   "metadata": {},
   "outputs": [
    {
     "name": "stdout",
     "output_type": "stream",
     "text": [
      "{1: 'a', 2: 'b', 3: 'c'}\n"
     ]
    }
   ],
   "source": [
    "# invert a dictionary (key <-> value)\n",
    "original_dict = {'a': 1, 'b': 2, 'c': 3}\n",
    "\n",
    "inverted_dict = {v: k for k, v in original_dict.items()}\n",
    "print(inverted_dict)\n"
   ]
  },
  {
   "cell_type": "code",
   "execution_count": 78,
   "id": "1f18998d-0e48-4b64-9e79-d773fa964383",
   "metadata": {},
   "outputs": [
    {
     "name": "stdout",
     "output_type": "stream",
     "text": [
      "{'y': 1, 't': 2, 'a': 1, 'u': 1, ' ': 1, 'e': 3, 'n': 1, 'g': 1, 'i': 3, 'v': 1, 's': 1, 'r': 1}\n"
     ]
    }
   ],
   "source": [
    "# count occurance of characters in a word \n",
    "name = \"geeta univerisity\"\n",
    "count = { ch: name.count(ch) for ch in set(name) }\n",
    "print(count)\n",
    "\n"
   ]
  },
  {
   "cell_type": "markdown",
   "id": "7cc6011f-2f1a-4b87-8d0e-0ec0a58d281e",
   "metadata": {},
   "source": [
    "## packing and unpacking in python "
   ]
  },
  {
   "cell_type": "code",
   "execution_count": 103,
   "id": "72b8ec35-e245-48a2-b307-ab2662af7d67",
   "metadata": {},
   "outputs": [
    {
     "name": "stdout",
     "output_type": "stream",
     "text": [
      "a = 10\n",
      "b = 20\n",
      "c = 30\n",
      "d = 40\n"
     ]
    }
   ],
   "source": [
    "#  packing and unpacking a list \n",
    "my_list = [10,20,30,40]\n",
    "a,b,c,d = my_list\n",
    "print(\"a =\",a)\n",
    "print(\"b =\",b)\n",
    "print(\"c =\",c)\n",
    "print(\"d =\",d)\n"
   ]
  },
  {
   "cell_type": "code",
   "execution_count": 105,
   "id": "190c554c-c630-49df-9d8c-c841a6ba2a5e",
   "metadata": {},
   "outputs": [
    {
     "name": "stdout",
     "output_type": "stream",
     "text": [
      "10 20 30 40\n"
     ]
    }
   ],
   "source": [
    "# unpacking\n",
    "a,b,c,d = [10,20,30,40]\n",
    "print(a,b,c,d)"
   ]
  },
  {
   "cell_type": "code",
   "execution_count": 107,
   "id": "1d054f01-b760-4742-9eb1-dd122f3b4667",
   "metadata": {},
   "outputs": [
    {
     "name": "stdout",
     "output_type": "stream",
     "text": [
      "a = 10\n",
      "b = [20, 30, 40]\n"
     ]
    }
   ],
   "source": [
    "#  using * for extended unpacking in lists\n",
    "\n",
    "a, *b = my_list\n",
    "print(\"a =\",a)\n",
    "print(\"b =\",b)"
   ]
  },
  {
   "cell_type": "code",
   "execution_count": 109,
   "id": "8b1114e3-feed-4154-9e32-7ff005b5e6c4",
   "metadata": {},
   "outputs": [
    {
     "name": "stdout",
     "output_type": "stream",
     "text": [
      "a = [10, 20, 30]\n",
      "b = 40\n"
     ]
    }
   ],
   "source": [
    "*a, b = my_list\n",
    "print(\"a =\",a)\n",
    "print(\"b =\",b)"
   ]
  },
  {
   "cell_type": "code",
   "execution_count": 111,
   "id": "445284f7-772d-4467-8b33-5fb725061246",
   "metadata": {},
   "outputs": [
    {
     "name": "stdout",
     "output_type": "stream",
     "text": [
      "a = 10\n",
      "b = [20, 30]\n",
      "c = 40\n"
     ]
    }
   ],
   "source": [
    "a, *b, c = my_list\n",
    "print(\"a =\",a)\n",
    "print(\"b =\",b)\n",
    "print(\"c =\",c)"
   ]
  },
  {
   "cell_type": "code",
   "execution_count": 113,
   "id": "dc12e351-edd2-461c-976e-6433d13e2480",
   "metadata": {},
   "outputs": [
    {
     "name": "stdout",
     "output_type": "stream",
     "text": [
      "60\n"
     ]
    }
   ],
   "source": [
    "# unpacking in function arguments\n",
    "\n",
    "def add(a,b,c):\n",
    "    return a+b+c\n",
    "\n",
    "my_list = [10,20,30]\n",
    "print(add(*my_list))"
   ]
  },
  {
   "cell_type": "code",
   "execution_count": 115,
   "id": "5fabbc4c-762d-494f-be48-930696798b5b",
   "metadata": {},
   "outputs": [
    {
     "name": "stdout",
     "output_type": "stream",
     "text": [
      "hello alice\n",
      "hello gopal\n",
      "hello mayank\n",
      "hello lovedeep\n"
     ]
    }
   ],
   "source": [
    "# list packing in function parameters (using args)\n",
    "\n",
    "def greet_all(*names):\n",
    "    for name in names:\n",
    "        print(\"hello\",name)\n",
    "\n",
    "greet_all(\"alice\",\"gopal\",\"mayank\",\"lovedeep\")"
   ]
  },
  {
   "cell_type": "code",
   "execution_count": 121,
   "id": "0609e92e-ff33-43a4-9708-6859e8dcfcb6",
   "metadata": {},
   "outputs": [
    {
     "name": "stdout",
     "output_type": "stream",
     "text": [
      "{'name': 'gopal', 'age': 20, 'city': 'sonepat'}\n"
     ]
    }
   ],
   "source": [
    "# unpacking in dictionary \n",
    "\n",
    "my_dict = {'name':'gopal','age':20,'city':'sonepat'}\n",
    "print(my_dict)"
   ]
  },
  {
   "cell_type": "code",
   "execution_count": 123,
   "id": "8d295237-7db2-44f8-9a82-5df3c7163a51",
   "metadata": {},
   "outputs": [
    {
     "name": "stdout",
     "output_type": "stream",
     "text": [
      "gopal 20 sonepat\n"
     ]
    }
   ],
   "source": [
    "name , age , city = my_dict.values()\n",
    "print(name,age,city)"
   ]
  },
  {
   "cell_type": "code",
   "execution_count": 133,
   "id": "59d92ad1-a08f-4f12-8802-286c7d3cdfa7",
   "metadata": {},
   "outputs": [
    {
     "name": "stdout",
     "output_type": "stream",
     "text": [
      "Name :alice, Age :20,City:delhi\n"
     ]
    }
   ],
   "source": [
    "# using ** unpack dictionaries into function \n",
    "\n",
    "def display(name, age ,city):\n",
    "    print(f\"Name :{name}, Age :{age},City:{city}\")\n",
    "\n",
    "data = {'name':'alice','age':20,'city':'delhi'}\n",
    "\n",
    "display(**data)"
   ]
  },
  {
   "cell_type": "code",
   "execution_count": 139,
   "id": "08ee08ae-fed2-4813-9489-5b2fb6f771c6",
   "metadata": {},
   "outputs": [
    {
     "name": "stdout",
     "output_type": "stream",
     "text": [
      "name:john\n",
      "grade:a\n",
      "subject:math\n"
     ]
    }
   ],
   "source": [
    "# dictionary packing with **kwargs\n",
    "\n",
    "def student_info(**kwargs):\n",
    "    for key , value in kwargs.items():\n",
    "        print(f\"{key}:{value}\")\n",
    "\n",
    "student_info(name=\"john\" , grade=\"a\" , subject=\"math\")"
   ]
  },
  {
   "cell_type": "code",
   "execution_count": 141,
   "id": "07968f66-a95b-4e6f-a23c-e2efad70847b",
   "metadata": {},
   "outputs": [
    {
     "name": "stdout",
     "output_type": "stream",
     "text": [
      "{'a': 1, 'b': 2, 'c': 3, 'd': 4}\n"
     ]
    }
   ],
   "source": [
    "# merging dictionaries with ** unpacking \n",
    "dict1 ={'a' :1 ,'b':2}\n",
    "dict2 ={'c' :3 , 'd':4}\n",
    "\n",
    "merged = {**dict1, **dict2}\n",
    "print(merged)"
   ]
  },
  {
   "cell_type": "markdown",
   "id": "85748085-e9d0-4af4-b607-7c758127a389",
   "metadata": {},
   "source": [
    "## Project "
   ]
  },
  {
   "cell_type": "code",
   "execution_count": 1,
   "id": "9a8ebefa-c63c-43db-ae4a-9752b1c27d45",
   "metadata": {},
   "outputs": [
    {
     "name": "stdout",
     "output_type": "stream",
     "text": [
      "✅ Unique Products: ['Keyboard', 'Mouse', 'Laptop', 'Monitor']\n",
      "\n",
      "📊 Product-wise Total Sales:\n",
      "  Keyboard: 300\n",
      "  Mouse: 520\n",
      "  Laptop: 340\n",
      "  Monitor: 300\n",
      "\n",
      "🗺️ Region-wise Sales:\n",
      "  South: {'Keyboard': 0, 'Mouse': 300, 'Laptop': 100, 'Monitor': 170}\n",
      "  East: {'Keyboard': 180, 'Mouse': 0, 'Laptop': 90, 'Monitor': 130}\n",
      "  North: {'Keyboard': 120, 'Mouse': 220, 'Laptop': 150, 'Monitor': 0}\n",
      "\n",
      "🥇 Top 3 Products by Total Sales:\n",
      "  Mouse: 520\n",
      "  Laptop: 340\n",
      "  Keyboard: 300\n",
      "\n",
      "🚀 Products with Sales Above 200: ['Keyboard', 'Mouse', 'Laptop', 'Monitor']\n"
     ]
    }
   ],
   "source": [
    "# Step 1: Input Dataset\n",
    "sales_data = [\n",
    "    {'product': 'Laptop', 'region': 'North', 'sales': 150},\n",
    "    {'product': 'Mouse', 'region': 'South', 'sales': 300},\n",
    "    {'product': 'Keyboard', 'region': 'North', 'sales': 120},\n",
    "    {'product': 'Laptop', 'region': 'South', 'sales': 100},\n",
    "    {'product': 'Monitor', 'region': 'East', 'sales': 130},\n",
    "    {'product': 'Mouse', 'region': 'North', 'sales': 220},\n",
    "    {'product': 'Keyboard', 'region': 'East', 'sales': 180},\n",
    "    {'product': 'Monitor', 'region': 'South', 'sales': 170},\n",
    "    {'product': 'Laptop', 'region': 'East', 'sales': 90}\n",
    "]\n",
    "\n",
    "# Step 2: Extract Unique Product Names\n",
    "product_names = list({record['product'] for record in sales_data})\n",
    "print(\"✅ Unique Products:\", product_names)\n",
    "\n",
    "# Step 3: Create Product-Wise Total Sales Dictionary\n",
    "product_sales = {\n",
    "    product: sum(record['sales'] for record in sales_data if record['product'] == product)\n",
    "    for product in product_names\n",
    "}\n",
    "print(\"\\n📊 Product-wise Total Sales:\")\n",
    "for k, v in product_sales.items():\n",
    "    print(f\"  {k}: {v}\")\n",
    "\n",
    "# Step 4: Region-Wise Sales Dictionary\n",
    "regions = list({record['region'] for record in sales_data})\n",
    "region_sales = {\n",
    "    region: {\n",
    "        product: sum(record['sales'] for record in sales_data if record['product'] == product and record['region'] == region)\n",
    "        for product in product_names\n",
    "    }\n",
    "    for region in regions\n",
    "}\n",
    "print(\"\\n🗺️ Region-wise Sales:\")\n",
    "for region, sales in region_sales.items():\n",
    "    print(f\"  {region}: {sales}\")\n",
    "\n",
    "# Step 5: Find Top 3 Products by Total Sales\n",
    "top_3_products = sorted(product_sales.items(), key=lambda x: x[1], reverse=True)[:3]\n",
    "print(\"\\n🥇 Top 3 Products by Total Sales:\")\n",
    "for product, total in top_3_products:\n",
    "    print(f\"  {product}: {total}\")\n",
    "\n",
    "# Step 6: List Products with Sales Above a Threshold\n",
    "threshold = 200\n",
    "high_selling_products = [product for product, total in product_sales.items() if total > threshold]\n",
    "print(f\"\\n🚀 Products with Sales Above {threshold}: {high_selling_products}\")\n"
   ]
  },
  {
   "cell_type": "code",
   "execution_count": null,
   "id": "2e4114a1-ca99-42f0-b70f-2fce2ace3526",
   "metadata": {},
   "outputs": [],
   "source": []
  },
  {
   "cell_type": "code",
   "execution_count": null,
   "id": "4c3072f7-5e76-4efc-90c6-3989594a1c8b",
   "metadata": {},
   "outputs": [],
   "source": []
  }
 ],
 "metadata": {
  "kernelspec": {
   "display_name": "Python [conda env:base] *",
   "language": "python",
   "name": "conda-base-py"
  },
  "language_info": {
   "codemirror_mode": {
    "name": "ipython",
    "version": 3
   },
   "file_extension": ".py",
   "mimetype": "text/x-python",
   "name": "python",
   "nbconvert_exporter": "python",
   "pygments_lexer": "ipython3",
   "version": "3.12.7"
  }
 },
 "nbformat": 4,
 "nbformat_minor": 5
}
