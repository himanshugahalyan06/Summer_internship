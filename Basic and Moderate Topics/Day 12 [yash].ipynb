{
 "cells": [
  {
   "cell_type": "markdown",
   "id": "82f40bcb-19a9-417e-af11-d550da15c135",
   "metadata": {},
   "source": [
    "## function"
   ]
  },
  {
   "cell_type": "markdown",
   "id": "cfe3838c-d295-4d87-b300-8e79f8e44892",
   "metadata": {},
   "source": [
    "## 1.built-in function\n",
    "## 2.user defined fun"
   ]
  },
  {
   "cell_type": "code",
   "execution_count": 42,
   "id": "cd7b7a54-9e1d-43a0-ae2a-7dde9268efa6",
   "metadata": {},
   "outputs": [
    {
     "name": "stdout",
     "output_type": "stream",
     "text": [
      "Hello ! Suraj\n"
     ]
    }
   ],
   "source": [
    "# Example :\n",
    "def greet(name):\n",
    "    '''This function take the name of user and greets '''\n",
    "    print(f\"Hello ! {name}\" )\n",
    "\n",
    "\n",
    "\n",
    "greet(\"Suraj\")"
   ]
  },
  {
   "cell_type": "code",
   "execution_count": 43,
   "id": "230b003a-ff5e-408b-a123-2952eb0f25e7",
   "metadata": {},
   "outputs": [
    {
     "name": "stdout",
     "output_type": "stream",
     "text": [
      "This function take the name of user and greets \n"
     ]
    }
   ],
   "source": [
    "#  to check the docstring of a function\n",
    "# syntax: \n",
    "# print(functionname.__doc__)\n",
    "\n",
    "# eg :\n",
    "print(greet.__doc__)"
   ]
  },
  {
   "cell_type": "code",
   "execution_count": 44,
   "id": "84b2c0d8-2a68-449e-abe8-b9902cf324e8",
   "metadata": {},
   "outputs": [
    {
     "name": "stdout",
     "output_type": "stream",
     "text": [
      "Hello Suraj Sir\\Madam\n"
     ]
    }
   ],
   "source": [
    "def hi(name):\n",
    "    print(f\"Hello {name} Sir\\Madam\")\n",
    "hi(\"Suraj\")"
   ]
  },
  {
   "cell_type": "code",
   "execution_count": 45,
   "id": "17ae1215-74de-46e2-83e4-5240ef035090",
   "metadata": {},
   "outputs": [
    {
     "name": "stdout",
     "output_type": "stream",
     "text": [
      "sum : 11\n"
     ]
    }
   ],
   "source": [
    "# sum of two no\n",
    "def sum(x,y):\n",
    "    print(\"sum :\",x+y)\n",
    "\n",
    "sum(5,6) # calling of function"
   ]
  },
  {
   "cell_type": "code",
   "execution_count": 46,
   "id": "d9c83e88-69dd-46fd-9ace-7b94b5aeca1b",
   "metadata": {},
   "outputs": [
    {
     "name": "stdout",
     "output_type": "stream",
     "text": [
      "15\n"
     ]
    }
   ],
   "source": [
    "# function returning a value \n",
    "def sum(x,y):\n",
    "    return x+y\n",
    "\n",
    "print(sum(5,10))"
   ]
  },
  {
   "cell_type": "code",
   "execution_count": 47,
   "id": "9a5f5480-b320-478f-b06c-6b7d7df0f59c",
   "metadata": {},
   "outputs": [],
   "source": [
    "# def table(n):\n",
    "#     for i in range(1,n):\n",
    "#         print(f\"{n} X {i} :{n*i}\")\n",
    "\n",
    "\n",
    "# table(9)"
   ]
  },
  {
   "cell_type": "code",
   "execution_count": 48,
   "id": "46c197ef-2422-4353-b5aa-4b922cb20ccd",
   "metadata": {},
   "outputs": [
    {
     "name": "stdin",
     "output_type": "stream",
     "text": [
      "Enter a number to find factor : 4\n"
     ]
    },
    {
     "name": "stdout",
     "output_type": "stream",
     "text": [
      "1 2 4 "
     ]
    }
   ],
   "source": [
    "# write a program to find the factor of a given number \n",
    "def factor(num):\n",
    "\n",
    "    for i in range (1,num+1):\n",
    "        if (num%i==0):\n",
    "            print(i,end=\" \")\n",
    "\n",
    "x= int(input(\"Enter a number to find factor :\"))\n",
    "    \n",
    "factor(x)\n",
    "    "
   ]
  },
  {
   "cell_type": "code",
   "execution_count": 49,
   "id": "79f16976-c7b3-451c-b7b3-f979759c0867",
   "metadata": {},
   "outputs": [],
   "source": [
    "# # global and local variable and their scope\n",
    "# global a -----x\n",
    "#          -----y\n",
    "#          -----z"
   ]
  },
  {
   "cell_type": "code",
   "execution_count": 51,
   "id": "33cdcfa1-83b9-4489-bc2c-e7813d4b1fce",
   "metadata": {},
   "outputs": [
    {
     "name": "stdout",
     "output_type": "stream",
     "text": [
      "X = 10\n",
      "Y = 20\n"
     ]
    }
   ],
   "source": [
    "# local variable\n",
    "def local_var(x,y):\n",
    "    print(\"X =\",x)\n",
    "    print(\"Y =\",y)\n",
    "\n",
    "local_var(10,20)"
   ]
  },
  {
   "cell_type": "code",
   "execution_count": 52,
   "id": "0f2fa408-c7f4-401e-856b-86e605a5b724",
   "metadata": {},
   "outputs": [
    {
     "name": "stdout",
     "output_type": "stream",
     "text": [
      "(10, 15)\n"
     ]
    }
   ],
   "source": [
    "# eg 2 \n",
    "def local_var(x,y):\n",
    "    return x,y\n",
    "\n",
    "print(local_var(10,15))"
   ]
  },
  {
   "cell_type": "code",
   "execution_count": 53,
   "id": "aafe43cc-a57e-4e04-a10f-bf1ffc1c597e",
   "metadata": {},
   "outputs": [
    {
     "name": "stdout",
     "output_type": "stream",
     "text": [
      "10 20\n"
     ]
    }
   ],
   "source": [
    "# eg 2 difference\n",
    "def local_var():\n",
    "    x =10\n",
    "    y =20\n",
    "    print(x,y)\n",
    "\n",
    "local_var()"
   ]
  },
  {
   "cell_type": "code",
   "execution_count": 54,
   "id": "38780a1f-4bcd-4d0c-bc9a-1fcbc9d84ef7",
   "metadata": {},
   "outputs": [
    {
     "ename": "NameError",
     "evalue": "name 'y' is not defined",
     "output_type": "error",
     "traceback": [
      "\u001b[1;31m---------------------------------------------------------------------------\u001b[0m",
      "\u001b[1;31mNameError\u001b[0m                                 Traceback (most recent call last)",
      "Cell \u001b[1;32mIn[54], line 7\u001b[0m\n\u001b[0;32m      4\u001b[0m     y \u001b[38;5;241m=\u001b[39m\u001b[38;5;241m20\u001b[39m\n\u001b[0;32m      5\u001b[0m     \u001b[38;5;28mprint\u001b[39m(x,y)\n\u001b[1;32m----> 7\u001b[0m local_var(x,y)\n",
      "\u001b[1;31mNameError\u001b[0m: name 'y' is not defined"
     ]
    }
   ],
   "source": [
    "# eg 2 difference\n",
    "def local_var():\n",
    "    x =10\n",
    "    y =20\n",
    "    print(x,y)\n",
    "\n",
    "local_var(x,y)"
   ]
  },
  {
   "cell_type": "code",
   "execution_count": 61,
   "id": "4c4c5429-56ee-4cd9-8427-65d5aa853983",
   "metadata": {},
   "outputs": [
    {
     "name": "stdout",
     "output_type": "stream",
     "text": [
      "x=10 y=20\n",
      "Z= 10\n",
      "10 20\n"
     ]
    }
   ],
   "source": [
    "# global variable\n",
    "z = 10\n",
    "\n",
    "def number():\n",
    "    global x,y # initialization\n",
    "    x = 10     #defination\n",
    "    y = 20\n",
    "    print(f\"x={x} y={y}\")\n",
    "\n",
    "number()\n",
    "print(f\"Z= {z}\")\n",
    "print(x,y)\n"
   ]
  },
  {
   "cell_type": "code",
   "execution_count": null,
   "id": "3a7db117-0305-4e53-b2a7-80f2105c2a18",
   "metadata": {},
   "outputs": [],
   "source": [
    "# to make a calculator using function \n",
    "\n",
    "operter = input(\"operator :\")"
   ]
  },
  {
   "cell_type": "markdown",
   "id": "17dc8044-c85c-41c3-b6bc-5c263bfc453e",
   "metadata": {},
   "source": [
    "## recursion:  call function again and again inside the function"
   ]
  },
  {
   "cell_type": "code",
   "execution_count": null,
   "id": "3debd790-4f06-41a3-8ad2-157a30357266",
   "metadata": {},
   "outputs": [],
   "source": [
    "# Factorial \n",
    "def factorial(n):\n",
    "    if n==0 or 1:\n",
    "        return 1\n",
    "    \n",
    "    return n*factorial(n-1)\n",
    "\n",
    "print(factorial(9))"
   ]
  },
  {
   "cell_type": "code",
   "execution_count": 8,
   "id": "8e381aba-d7a1-40ab-8314-51eed8458fb9",
   "metadata": {},
   "outputs": [
    {
     "name": "stdin",
     "output_type": "stream",
     "text": [
      "Enter opertaor : +\n"
     ]
    },
    {
     "name": "stdout",
     "output_type": "stream",
     "text": [
      "sum : 11\n"
     ]
    }
   ],
   "source": [
    "def sum(x,y):\n",
    "    print(\"sum :\",x+y)\n",
    "def sub(x,y):\n",
    "    print(\"sub :\",x-y)\n",
    "\n",
    "def div(x,y):\n",
    "    print(\"div :\",x%y)\n",
    "def mul(x,y):\n",
    "    print(\"mul :\",x*y)\n",
    "    \n",
    "n = input(\"Enter opertaor :\")\n",
    "\n",
    "if (n==\"+\"):\n",
    "    sum(5,6)\n",
    "elif(n==\"-\"):\n",
    "    sub(5,6)\n",
    "elif(n==\"/\"):\n",
    "    div(5,6)\n",
    "else:\n",
    "    mul(5,6)"
   ]
  },
  {
   "cell_type": "code",
   "execution_count": 9,
   "id": "0e01143e-99e4-4933-ad2c-a631f88ede51",
   "metadata": {},
   "outputs": [
    {
     "data": {
      "text/plain": [
       "' Assignment \\n Monthly sales analysis system for electronic store \\n project objective\\n Build a python that uses functions to :\\n\\n   Record monthly sales of different products .\\n   Calculate total and average sales.\\n   identity best-selling and least-selling products.\\n   Display a summary report.'"
      ]
     },
     "execution_count": 9,
     "metadata": {},
     "output_type": "execute_result"
    }
   ],
   "source": [
    "''' Assignment \n",
    " Monthly sales analysis system for electronic store \n",
    " project objective\n",
    " Build a python that uses functions to :\n",
    "\n",
    "   Record monthly sales of different products .\n",
    "   Calculate total and average sales.\n",
    "   identity best-selling and least-selling products.\n",
    "   Display a summary report.'''"
   ]
  },
  {
   "cell_type": "code",
   "execution_count": null,
   "id": "94f494cf-c602-4075-baea-052457a73e35",
   "metadata": {},
   "outputs": [],
   "source": [
    "mon_sales ={}\n",
    "print(\"Enter monthly sales for each product :\")"
   ]
  },
  {
   "cell_type": "code",
   "execution_count": 15,
   "id": "284890c6-26e9-4f1c-8262-4edfda6c515d",
   "metadata": {},
   "outputs": [
    {
     "ename": "IndentationError",
     "evalue": "expected an indented block after 'if' statement on line 9 (2503011643.py, line 10)",
     "output_type": "error",
     "traceback": [
      "\u001b[1;36m  Cell \u001b[1;32mIn[15], line 10\u001b[1;36m\u001b[0m\n\u001b[1;33m    break\u001b[0m\n\u001b[1;37m    ^\u001b[0m\n\u001b[1;31mIndentationError\u001b[0m\u001b[1;31m:\u001b[0m expected an indented block after 'if' statement on line 9\n"
     ]
    }
   ],
   "source": [
    "\n"
   ]
  },
  {
   "cell_type": "code",
   "execution_count": null,
   "id": "d5e7360c-8201-41ab-a90d-263dd6dfded5",
   "metadata": {},
   "outputs": [],
   "source": []
  }
 ],
 "metadata": {
  "kernelspec": {
   "display_name": "Python [conda env:anaconda-2025.04-py3.11]",
   "language": "python",
   "name": "conda-env-anaconda-2025.04-py3.11-py"
  },
  "language_info": {
   "codemirror_mode": {
    "name": "ipython",
    "version": 3
   },
   "file_extension": ".py",
   "mimetype": "text/x-python",
   "name": "python",
   "nbconvert_exporter": "python",
   "pygments_lexer": "ipython3",
   "version": "3.11.11"
  }
 },
 "nbformat": 4,
 "nbformat_minor": 5
}
