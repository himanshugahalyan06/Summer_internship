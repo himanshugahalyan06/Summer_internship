{
 "cells": [
  {
   "cell_type": "markdown",
   "id": "a66dec64-aca3-4eab-ae0c-8add6dddeecc",
   "metadata": {},
   "source": [
    " ## Tuple "
   ]
  },
  {
   "cell_type": "code",
   "execution_count": 4,
   "id": "4b5cd335-3607-4bc9-a830-49fda69750a7",
   "metadata": {},
   "outputs": [
    {
     "data": {
      "text/plain": [
       "(1, 'geeta', 4.5, True)"
      ]
     },
     "execution_count": 4,
     "metadata": {},
     "output_type": "execute_result"
    }
   ],
   "source": [
    "# tuple\n",
    "t = (1,\"geeta\",4.5,True)\n",
    "t"
   ]
  },
  {
   "cell_type": "code",
   "execution_count": 6,
   "id": "821afa30-b525-4b84-96fc-2baf3635db05",
   "metadata": {},
   "outputs": [],
   "source": [
    "# creating empty tuple\n",
    "t1 = ()"
   ]
  },
  {
   "cell_type": "code",
   "execution_count": 8,
   "id": "b948a05d-dee7-44a3-af41-427ab2bdf50a",
   "metadata": {},
   "outputs": [
    {
     "data": {
      "text/plain": [
       "tuple"
      ]
     },
     "execution_count": 8,
     "metadata": {},
     "output_type": "execute_result"
    }
   ],
   "source": [
    "t2 = (5,)\n",
    "type(t2)"
   ]
  },
  {
   "cell_type": "code",
   "execution_count": 10,
   "id": "505e15a9-3fb1-4c3a-b514-c4903c4ecd69",
   "metadata": {},
   "outputs": [
    {
     "data": {
      "text/plain": [
       "4.5"
      ]
     },
     "execution_count": 10,
     "metadata": {},
     "output_type": "execute_result"
    }
   ],
   "source": [
    "t[2]"
   ]
  },
  {
   "cell_type": "code",
   "execution_count": 12,
   "id": "c4494dda-678d-4b55-b786-26e48edf6979",
   "metadata": {},
   "outputs": [
    {
     "data": {
      "text/plain": [
       "([1, 2], ['india', 'nepal'])"
      ]
     },
     "execution_count": 12,
     "metadata": {},
     "output_type": "execute_result"
    }
   ],
   "source": [
    "a = [1,2]\n",
    "b = [\"india\",\"nepal\"]\n",
    "t4 = (a,b)\n",
    "t4"
   ]
  },
  {
   "cell_type": "code",
   "execution_count": 14,
   "id": "ebfd8bbe-0a97-4159-94cb-a05b1ce9fb37",
   "metadata": {},
   "outputs": [],
   "source": [
    "a[0] = 3.04"
   ]
  },
  {
   "cell_type": "code",
   "execution_count": 16,
   "id": "bf67f7ab-4e65-41c6-b3df-837571c7cae0",
   "metadata": {},
   "outputs": [
    {
     "data": {
      "text/plain": [
       "([3.04, 2], ['india', 'nepal'])"
      ]
     },
     "execution_count": 16,
     "metadata": {},
     "output_type": "execute_result"
    }
   ],
   "source": [
    "t4"
   ]
  },
  {
   "cell_type": "code",
   "execution_count": 19,
   "id": "2bafa0c4-2578-46ed-ac0b-5ce85e8adc22",
   "metadata": {},
   "outputs": [],
   "source": [
    "#  deleting a tuple \n",
    "del t4"
   ]
  },
  {
   "cell_type": "markdown",
   "id": "a58caecf-df93-40ed-9402-dc13b9ac16e6",
   "metadata": {},
   "source": [
    "## operations on tuple"
   ]
  },
  {
   "cell_type": "markdown",
   "id": "241ea45c-b8ba-460c-b7eb-ab7b6d7042cc",
   "metadata": {},
   "source": [
    "**addition**"
   ]
  },
  {
   "cell_type": "code",
   "execution_count": 23,
   "id": "44a9a1b3-b556-46a3-9331-06ed89edf697",
   "metadata": {},
   "outputs": [
    {
     "data": {
      "text/plain": [
       "(2, 3, 5, 1, 3, 4)"
      ]
     },
     "execution_count": 23,
     "metadata": {},
     "output_type": "execute_result"
    }
   ],
   "source": [
    "t = (2,3,5) + (1,3) + (4,)\n",
    "t"
   ]
  },
  {
   "cell_type": "code",
   "execution_count": 25,
   "id": "32914bda-4966-4dc3-a9fe-9c5680c5e03f",
   "metadata": {},
   "outputs": [
    {
     "data": {
      "text/plain": [
       "(1, 2, 3, 4, 5, 6)"
      ]
     },
     "execution_count": 25,
     "metadata": {},
     "output_type": "execute_result"
    }
   ],
   "source": [
    "t1 = (1,2,3)\n",
    "t2 = (4,5,6)\n",
    "t3 = t1+t2\n",
    "t3"
   ]
  },
  {
   "cell_type": "markdown",
   "id": "6ace4c1d-0e8e-4c55-afe2-b8fe8e8132c8",
   "metadata": {},
   "source": [
    "**multiplication**"
   ]
  },
  {
   "cell_type": "code",
   "execution_count": 28,
   "id": "11663ecb-ccd3-4961-a57e-c1c1d9c73b58",
   "metadata": {},
   "outputs": [
    {
     "data": {
      "text/plain": [
       "(1, 3, 1, 3, 1, 3, 1, 3, 1, 3, 1, 3, 1, 3, 1, 3, 1, 3, 1, 3)"
      ]
     },
     "execution_count": 28,
     "metadata": {},
     "output_type": "execute_result"
    }
   ],
   "source": [
    "t5 = (1,3)\n",
    "t6 = t5*10\n",
    "t6"
   ]
  },
  {
   "cell_type": "markdown",
   "id": "1229b70d-e8c5-4bae-a6b8-efd90d456427",
   "metadata": {},
   "source": [
    "**membership** "
   ]
  },
  {
   "cell_type": "code",
   "execution_count": 35,
   "id": "b0cca7bc-20d4-4f50-90e8-f6702f27d1d5",
   "metadata": {},
   "outputs": [
    {
     "data": {
      "text/plain": [
       "False"
      ]
     },
     "execution_count": 35,
     "metadata": {},
     "output_type": "execute_result"
    }
   ],
   "source": [
    "t7 = (1,2,3,4,5,6,7)\n",
    "9 in t7"
   ]
  },
  {
   "cell_type": "markdown",
   "id": "f737f4c6-680f-4418-a744-0fed3362ac1a",
   "metadata": {},
   "source": [
    "**itetration in tuple**"
   ]
  },
  {
   "cell_type": "code",
   "execution_count": 51,
   "id": "e04ff901-d2ad-4e1d-9fdb-3aff176e9197",
   "metadata": {},
   "outputs": [
    {
     "name": "stdout",
     "output_type": "stream",
     "text": [
      "hello john\n",
      "hello gopal\n",
      "hello himanshu\n",
      "hello lovedeep\n"
     ]
    }
   ],
   "source": [
    "names = ('john','gopal','himanshu','lovedeep')\n",
    "for name in names:\n",
    "    print(\"hello\",name)"
   ]
  },
  {
   "cell_type": "markdown",
   "id": "93ae420a-9ffb-4ddc-bb0f-a2689c7da304",
   "metadata": {},
   "source": [
    "## Functions in tuple"
   ]
  },
  {
   "cell_type": "markdown",
   "id": "4dc1a69b-8120-46d9-b1f2-1eb98201e31f",
   "metadata": {},
   "source": [
    "**len function**"
   ]
  },
  {
   "cell_type": "code",
   "execution_count": 57,
   "id": "ccad2102-4dc4-412e-a6db-1b14bed852bb",
   "metadata": {},
   "outputs": [
    {
     "name": "stdout",
     "output_type": "stream",
     "text": [
      "4\n"
     ]
    }
   ],
   "source": [
    "names = ('john','gopal','himanshu','lovedeep')\n",
    "print(len(names))"
   ]
  },
  {
   "cell_type": "markdown",
   "id": "2b9b6216-dd05-491e-a67d-ffb111af8560",
   "metadata": {},
   "source": [
    "**cmp() --- for comparission**"
   ]
  },
  {
   "cell_type": "code",
   "execution_count": 66,
   "id": "b7a9545f-ae6b-4980-88f9-398641f371a7",
   "metadata": {},
   "outputs": [],
   "source": [
    "t1 = (1,2,3,)\n",
    "t2 = (4,5)\n",
    "\n",
    "# it is deleted in the python 3 \n"
   ]
  },
  {
   "cell_type": "markdown",
   "id": "c184e5ae-c8dc-4079-b993-0519e311590e",
   "metadata": {},
   "source": [
    "## method of tuple \n",
    "**count()**\n",
    "**index()**"
   ]
  },
  {
   "cell_type": "code",
   "execution_count": 69,
   "id": "f7b83f0a-071b-4019-982d-3198990da3e6",
   "metadata": {},
   "outputs": [
    {
     "data": {
      "text/plain": [
       "1"
      ]
     },
     "execution_count": 69,
     "metadata": {},
     "output_type": "execute_result"
    }
   ],
   "source": [
    "my_tuple = ('a','p','p','l','e',)\n",
    "my_tuple.index('p')"
   ]
  },
  {
   "cell_type": "code",
   "execution_count": 71,
   "id": "dcf9aac9-e044-445d-8861-5e02df1cad20",
   "metadata": {},
   "outputs": [
    {
     "data": {
      "text/plain": [
       "2"
      ]
     },
     "execution_count": 71,
     "metadata": {},
     "output_type": "execute_result"
    }
   ],
   "source": [
    "my_tuple.count('p')"
   ]
  },
  {
   "cell_type": "markdown",
   "id": "d1420caf-6302-490a-a39e-51c0d7e7464d",
   "metadata": {},
   "source": [
    "## tuple project"
   ]
  },
  {
   "cell_type": "code",
   "execution_count": 1,
   "id": "591c60cf-3867-4788-a581-da9aec15ac20",
   "metadata": {},
   "outputs": [
    {
     "name": "stdout",
     "output_type": "stream",
     "text": [
      "\n",
      "==== Student Management System ====\n",
      "1. Display all students with their grades\n",
      "2. Search a student by name\n",
      "3. Show total marks of the class\n",
      "4. Show average marks of the class\n",
      "5. Show topper student(s)\n",
      "6. Exit\n"
     ]
    },
    {
     "name": "stdin",
     "output_type": "stream",
     "text": [
      "Enter your choice (1-6):  4\n"
     ]
    },
    {
     "name": "stdout",
     "output_type": "stream",
     "text": [
      "\n",
      "---- Average Marks of the Class ----\n",
      "Average Marks of the Class: 83.75\n"
     ]
    },
    {
     "name": "stdin",
     "output_type": "stream",
     "text": [
      "\n",
      "Press Enter to continue...  \n"
     ]
    },
    {
     "name": "stdout",
     "output_type": "stream",
     "text": [
      "\n",
      "==== Student Management System ====\n",
      "1. Display all students with their grades\n",
      "2. Search a student by name\n",
      "3. Show total marks of the class\n",
      "4. Show average marks of the class\n",
      "5. Show topper student(s)\n",
      "6. Exit\n"
     ]
    },
    {
     "name": "stdin",
     "output_type": "stream",
     "text": [
      "Enter your choice (1-6):  6\n"
     ]
    },
    {
     "name": "stdout",
     "output_type": "stream",
     "text": [
      "\n",
      "Exiting the program. Goodbye!\n"
     ]
    }
   ],
   "source": [
    "students = [\n",
    "    (\"Alice\", 85),\n",
    "    (\"Bob\", 78),\n",
    "    (\"Charlie\", 92),\n",
    "    (\"David\", 67),\n",
    "    (\"Eva\", 95),\n",
    "    (\"Frank\", 70),\n",
    "    (\"Grace\", 88),\n",
    "    (\"Helen\", 95)\n",
    "]\n",
    "\n",
    "while True:\n",
    "    print(\"\\n==== Student Management System ====\")\n",
    "    print(\"1. Display all students with their grades\")\n",
    "    print(\"2. Search a student by name\")\n",
    "    print(\"3. Show total marks of the class\")\n",
    "    print(\"4. Show average marks of the class\")\n",
    "    print(\"5. Show topper student(s)\")\n",
    "    print(\"6. Exit\")\n",
    "    choice = input(\"Enter your choice (1-6): \")\n",
    "\n",
    "    if choice == '1':\n",
    "        print(\"\\n---- All Students with their Grades ----\")\n",
    "        for name, marks in students:\n",
    "            print(f\"{name}: {marks}\")\n",
    "\n",
    "    elif choice == '2':        \n",
    "        print(\"\\n---- Search a student by name ----\")\n",
    "        p = input(\"Enter the name you want to search: \").capitalize()\n",
    "        found = False\n",
    "        for name, marks in students:\n",
    "            if p == name:\n",
    "                print(f\"Name of the Student: {name}, Marks: {marks}\")\n",
    "                found = True\n",
    "                break\n",
    "        if not found:\n",
    "            print(\"Student not found!\")\n",
    "\n",
    "    elif choice == '3':\n",
    "        print(\"\\n---- Total Marks of the Class ----\")\n",
    "        total_marks = sum(marks for _, marks in students)\n",
    "        print(f\"Total Marks of the Class: {total_marks}\")\n",
    "\n",
    "    elif choice == '4':\n",
    "        print(\"\\n---- Average Marks of the Class ----\")\n",
    "        total_marks = sum(marks for _, marks in students)\n",
    "        average_marks = total_marks / len(students)\n",
    "        print(f\"Average Marks of the Class: {average_marks:.2f}\")\n",
    "\n",
    "    elif choice == '5':\n",
    "        print(\"\\n---- Topper Student(s) ----\")\n",
    "        top_score = max(marks for _, marks in students)\n",
    "        for name, marks in students:\n",
    "            if marks == top_score:\n",
    "                print(f\"{name} with {marks} Marks!\")\n",
    "\n",
    "    elif choice == '6':\n",
    "        print(\"\\nExiting the program. Goodbye!\")\n",
    "        break\n",
    "\n",
    "    else:\n",
    "        print(\"Invalid choice! Please enter a number from 1 to 6.\")\n",
    "\n",
    "    input(\"\\nPress Enter to continue...\")\n"
   ]
  },
  {
   "cell_type": "code",
   "execution_count": 84,
   "id": "a82ec86a-30d0-4715-b116-6f29d424229e",
   "metadata": {},
   "outputs": [
    {
     "name": "stdout",
     "output_type": "stream",
     "text": [
      "\n",
      "===== Student Management Menu =====\n",
      "1. View All Students and Their Grades\n",
      "2. Search a Student by Name\n",
      "3. Display Total and Average Marks of the Class\n",
      "4. Show Topper Student(s)\n",
      "5. Exit\n"
     ]
    },
    {
     "name": "stdin",
     "output_type": "stream",
     "text": [
      "Enter your choice (1-5):  2\n"
     ]
    },
    {
     "name": "stdout",
     "output_type": "stream",
     "text": [
      "---- Search a Student by Name ----\n"
     ]
    },
    {
     "name": "stdin",
     "output_type": "stream",
     "text": [
      "Enter the name you want to search:  bob\n"
     ]
    },
    {
     "name": "stdout",
     "output_type": "stream",
     "text": [
      "Name of the Student is: Bob and Marks: 78\n",
      "\n",
      "===== Student Management Menu =====\n",
      "1. View All Students and Their Grades\n",
      "2. Search a Student by Name\n",
      "3. Display Total and Average Marks of the Class\n",
      "4. Show Topper Student(s)\n",
      "5. Exit\n"
     ]
    },
    {
     "name": "stdin",
     "output_type": "stream",
     "text": [
      "Enter your choice (1-5):  5\n"
     ]
    },
    {
     "name": "stdout",
     "output_type": "stream",
     "text": [
      "Exiting the program. Goodbye!\n"
     ]
    }
   ],
   "source": [
    "# other meathod \n",
    "\n",
    "students = [\n",
    "    (\"Alice\", 85),\n",
    "    (\"Bob\", 78),\n",
    "    (\"Charlie\", 92),\n",
    "    (\"David\", 67),\n",
    "    (\"Eva\", 95),\n",
    "    (\"Frank\", 70),\n",
    "    (\"Grace\", 88),\n",
    "    (\"Helen\", 95)\n",
    "]\n",
    "\n",
    "while True:\n",
    "    print(\"\\n===== Student Management Menu =====\")\n",
    "    print(\"1. View All Students and Their Grades\")\n",
    "    print(\"2. Search a Student by Name\")\n",
    "    print(\"3. Display Total and Average Marks of the Class\")\n",
    "    print(\"4. Show Topper Student(s)\")\n",
    "    print(\"5. Exit\")\n",
    "\n",
    "    choice = input(\"Enter your choice (1-5): \")\n",
    "\n",
    "    if choice == '1':\n",
    "        print(\"---- All Students with Their Grades ----\")\n",
    "        for name, marks in students:\n",
    "            print(f\"{name}: {marks}\")\n",
    "\n",
    "    elif choice == '2':\n",
    "        print(\"---- Search a Student by Name ----\")\n",
    "        p = input(\"Enter the name you want to search: \").capitalize()\n",
    "        found = False\n",
    "        for name, marks in students:\n",
    "            if p == name:\n",
    "                print(f\"Name of the Student is: {name} and Marks: {marks}\")\n",
    "                found = True\n",
    "                break\n",
    "        if not found:\n",
    "            print(\"Student not found!\")\n",
    "\n",
    "    elif choice == '3':\n",
    "        print(\"---- Total and Average Marks of the Class ----\")\n",
    "        total_marks = sum(marks for _, marks in students)\n",
    "        average_marks = total_marks / len(students)\n",
    "        print(f\"Total Marks of the Class: {total_marks}\")\n",
    "        print(f\"Average Marks of the Class: {average_marks:.2f}\")\n",
    "\n",
    "    elif choice == '4':\n",
    "        print(\"---- Topper Student(s) ----\")\n",
    "        topper = max(marks for _, marks in students)\n",
    "        for name, marks in students:\n",
    "            if marks == topper:\n",
    "                print(f\"{name} with {marks} Marks!!\")\n",
    "\n",
    "    elif choice == '5':\n",
    "        print(\"Exiting the program. Goodbye!\")\n",
    "        break\n",
    "\n",
    "    else:\n",
    "        print(\"Invalid choice! Please enter a number between 1 and 5.\")"
   ]
  },
  {
   "cell_type": "code",
   "execution_count": 29,
   "id": "9e419049-c390-4caf-8e31-c03749b48831",
   "metadata": {},
   "outputs": [
    {
     "name": "stdout",
     "output_type": "stream",
     "text": [
      "* \n",
      "* * \n",
      "* * * \n",
      "* * * * \n"
     ]
    }
   ],
   "source": [
    "for i in range(1,5):\n",
    "    for j in range(1,i+1):\n",
    "        print(\"*\",end=\" \")\n",
    "    print()"
   ]
  },
  {
   "cell_type": "code",
   "execution_count": 33,
   "id": "262cfbf1-c397-4d52-9318-20d912d3a74a",
   "metadata": {},
   "outputs": [
    {
     "name": "stdout",
     "output_type": "stream",
     "text": [
      "    *\n",
      "   **\n",
      "  ***\n",
      " ****\n",
      "*****\n"
     ]
    }
   ],
   "source": [
    "rows = 5\n",
    "for i in range(1, rows + 1):\n",
    "    print(\" \" * (rows - i) + \"*\" * i)\n"
   ]
  },
  {
   "cell_type": "code",
   "execution_count": 17,
   "id": "2c01d8b3-d7df-485d-9589-b3cf97b7a16a",
   "metadata": {},
   "outputs": [
    {
     "name": "stdout",
     "output_type": "stream",
     "text": [
      "    *\n",
      "   ***\n",
      "  *****\n",
      " *******\n",
      "*********\n"
     ]
    }
   ],
   "source": [
    "rows = 5\n",
    "for i in range(1, rows + 1):\n",
    "    print(\" \" * (rows - i) + \"*\" * (2 * i - 1))\n"
   ]
  },
  {
   "cell_type": "code",
   "execution_count": 19,
   "id": "5915eb99-3592-424a-aba4-dc6cb2e36f5b",
   "metadata": {},
   "outputs": [
    {
     "name": "stdout",
     "output_type": "stream",
     "text": [
      "*****\n",
      "****\n",
      "***\n",
      "**\n",
      "*\n"
     ]
    }
   ],
   "source": [
    "rows = 5\n",
    "for i in range(rows, 0, -1):\n",
    "    print(\"*\" * i)\n"
   ]
  },
  {
   "cell_type": "code",
   "execution_count": 21,
   "id": "fc75f764-cfdb-43ed-bb1f-a9deea2527cb",
   "metadata": {},
   "outputs": [
    {
     "name": "stdout",
     "output_type": "stream",
     "text": [
      "*****\n",
      " ****\n",
      "  ***\n",
      "   **\n",
      "    *\n"
     ]
    }
   ],
   "source": [
    "rows = 5\n",
    "for i in range(rows, 0, -1):\n",
    "    print(\" \" * (rows - i) + \"*\" * i)\n"
   ]
  },
  {
   "cell_type": "code",
   "execution_count": 23,
   "id": "f7888e09-5d60-4144-8350-7808ed7d8e33",
   "metadata": {},
   "outputs": [
    {
     "name": "stdout",
     "output_type": "stream",
     "text": [
      "*********\n",
      " *******\n",
      "  *****\n",
      "   ***\n",
      "    *\n"
     ]
    }
   ],
   "source": [
    "rows = 5\n",
    "for i in range(rows, 0, -1):\n",
    "    print(\" \" * (rows - i) + \"*\" * (2 * i - 1))\n"
   ]
  },
  {
   "cell_type": "code",
   "execution_count": 25,
   "id": "fc5ec380-2519-4956-b3fa-992cb9574fd6",
   "metadata": {},
   "outputs": [
    {
     "name": "stdout",
     "output_type": "stream",
     "text": [
      "    *\n",
      "   ***\n",
      "  *****\n",
      " *******\n",
      "*********\n",
      " *******\n",
      "  *****\n",
      "   ***\n",
      "    *\n"
     ]
    }
   ],
   "source": [
    "rows = 5\n",
    "# Upper triangle\n",
    "for i in range(1, rows + 1):\n",
    "    print(\" \" * (rows - i) + \"*\" * (2 * i - 1))\n",
    "# Lower triangle\n",
    "for i in range(rows - 1, 0, -1):\n",
    "    print(\" \" * (rows - i) + \"*\" * (2 * i - 1))\n"
   ]
  },
  {
   "cell_type": "code",
   "execution_count": 65,
   "id": "78e2b4b8-79aa-4dc6-aee5-372d707d3fc4",
   "metadata": {},
   "outputs": [
    {
     "name": "stdout",
     "output_type": "stream",
     "text": [
      "*         \n",
      "* *       \n",
      "* * *     \n",
      "* * * *   \n",
      "* * * * * \n"
     ]
    }
   ],
   "source": [
    "# pattern trick code \n",
    "for i in range(1,6):\n",
    "    for j in range(1,6):\n",
    "        if(j>=1 and j<=i):\n",
    "            print(\"*\",end=\" \")\n",
    "        else: \n",
    "            print(\" \",end=\" \")\n",
    "    print(\"\")"
   ]
  },
  {
   "cell_type": "code",
   "execution_count": 81,
   "id": "aec9a99c-bae3-4cc5-a2cf-82e8789cbb10",
   "metadata": {},
   "outputs": [
    {
     "name": "stdout",
     "output_type": "stream",
     "text": [
      "* * * * * \n",
      "* * * *   \n",
      "* * *     \n",
      "* *       \n",
      "*         \n"
     ]
    }
   ],
   "source": [
    "for i in range(1,6):\n",
    "    for j in range(1,6):\n",
    "        if( j>=1 and j<=6-i):\n",
    "            print(\"*\",end=\" \")\n",
    "        else: \n",
    "            print(\" \",end=\" \")\n",
    "    print(\"\")"
   ]
  },
  {
   "cell_type": "code",
   "execution_count": 83,
   "id": "f81c3517-e255-4c62-8cf5-1ee354a826d1",
   "metadata": {},
   "outputs": [
    {
     "name": "stdout",
     "output_type": "stream",
     "text": [
      "        * \n",
      "      * * \n",
      "    * * * \n",
      "  * * * * \n",
      "* * * * * \n"
     ]
    }
   ],
   "source": [
    "for i in range(1,6):\n",
    "    for j in range(1,6):\n",
    "        if(j>=1 and j>=6 -i):\n",
    "            print(\"*\",end=\" \")\n",
    "        else: \n",
    "            print(\" \",end=\" \")\n",
    "    print(\"\")"
   ]
  },
  {
   "cell_type": "code",
   "execution_count": 93,
   "id": "2abb1f03-6cb3-4698-a33f-a84576d9dc0b",
   "metadata": {},
   "outputs": [
    {
     "name": "stdout",
     "output_type": "stream",
     "text": [
      "* * * * * \n",
      "  * * * * \n",
      "    * * * \n",
      "      * * \n",
      "        * \n"
     ]
    }
   ],
   "source": [
    "for i in range(1,6):\n",
    "    for j in range(1,6):\n",
    "        if(j>=1 and j>=i):\n",
    "            print(\"*\",end=\" \")\n",
    "        else: \n",
    "            print(\" \",end=\" \")\n",
    "    print(\"\")"
   ]
  },
  {
   "cell_type": "code",
   "execution_count": 103,
   "id": "f201c116-39f3-45a3-9124-ad01d0d20fed",
   "metadata": {},
   "outputs": [
    {
     "name": "stdout",
     "output_type": "stream",
     "text": [
      "            *  \n",
      "         *  *  \n",
      "      *  *  *  \n",
      "   *  *  *  *  \n",
      "*  *  *  *  *  \n"
     ]
    }
   ],
   "source": [
    "for i in range(1,6):\n",
    "    for j in range(1,6):\n",
    "        if(j>=1 and j>=6 -i):\n",
    "            print(\"*\",end=\"  \")\n",
    "        else: \n",
    "            print(\" \",end=\"  \")\n",
    "    print(\"\")    "
   ]
  },
  {
   "cell_type": "code",
   "execution_count": 111,
   "id": "e3fddcae-0aaf-4213-871a-e5598aaf9bf2",
   "metadata": {},
   "outputs": [
    {
     "name": "stdout",
     "output_type": "stream",
     "text": [
      "A \n",
      "A B \n",
      "A B C \n",
      "A B C D \n",
      "A B C D E \n"
     ]
    }
   ],
   "source": [
    "rows = 5\n",
    "for i in range(1, rows + 1):        \n",
    "    for j in range(1, i + 1):       \n",
    "        print(chr(64+j), end=\" \")\n",
    "    print()                        \n"
   ]
  },
  {
   "cell_type": "code",
   "execution_count": 123,
   "id": "9fbb59de-7185-4dfd-b222-2092fc25e816",
   "metadata": {},
   "outputs": [
    {
     "name": "stdout",
     "output_type": "stream",
     "text": [
      "A B C D E \n",
      "A B C D \n",
      "A B C \n",
      "A B \n",
      "A \n"
     ]
    }
   ],
   "source": [
    "rows = 5\n",
    "for i in range( rows,0,-1):        \n",
    "    for j in range(1, i +1):       \n",
    "        print(chr(64+j), end=\" \")\n",
    "    print()                        \n"
   ]
  },
  {
   "cell_type": "code",
   "execution_count": 127,
   "id": "021a64f0-a1f0-4714-90f9-02d284448175",
   "metadata": {},
   "outputs": [
    {
     "data": {
      "text/plain": [
       "65"
      ]
     },
     "execution_count": 127,
     "metadata": {},
     "output_type": "execute_result"
    }
   ],
   "source": [
    "ord(\"A\")"
   ]
  },
  {
   "cell_type": "code",
   "execution_count": 131,
   "id": "a71e23a9-87f5-464f-b488-7fb0b35bba24",
   "metadata": {},
   "outputs": [
    {
     "data": {
      "text/plain": [
       "50"
      ]
     },
     "execution_count": 131,
     "metadata": {},
     "output_type": "execute_result"
    }
   ],
   "source": [
    "ord(\"2\")"
   ]
  },
  {
   "cell_type": "code",
   "execution_count": 133,
   "id": "84d3d5c1-b69a-4223-90d9-e109a7ed5368",
   "metadata": {},
   "outputs": [
    {
     "data": {
      "text/plain": [
       "'A'"
      ]
     },
     "execution_count": 133,
     "metadata": {},
     "output_type": "execute_result"
    }
   ],
   "source": [
    "chr(65)"
   ]
  },
  {
   "cell_type": "code",
   "execution_count": 135,
   "id": "78f18644-b298-44a7-b8fc-df2704d4e88d",
   "metadata": {},
   "outputs": [
    {
     "name": "stdout",
     "output_type": "stream",
     "text": [
      "A A A A A A \n",
      "B B B B B \n",
      "C C C C \n",
      "D D D \n",
      "E E \n",
      "F \n"
     ]
    }
   ],
   "source": [
    "rows = 6\n",
    "for i in range(rows):\n",
    "    letter = chr(65 + i)  \n",
    "    for j in range(rows - i):\n",
    "        print(letter, end=' ')\n",
    "    print()\n"
   ]
  },
  {
   "cell_type": "code",
   "execution_count": 137,
   "id": "0308760f-c034-4951-90a7-a9e0587d0b56",
   "metadata": {},
   "outputs": [
    {
     "name": "stdout",
     "output_type": "stream",
     "text": [
      "A A A A A A \n",
      "@ @ @ @ @ \n",
      "? ? ? ? \n",
      "> > > \n",
      "= = \n",
      "< \n"
     ]
    }
   ],
   "source": [
    "rows = 6\n",
    "for i in range(rows):\n",
    "    letter = chr(65 - i)  \n",
    "    for j in range(rows - i):\n",
    "        print(letter, end=' ')\n",
    "    print()\n"
   ]
  },
  {
   "cell_type": "code",
   "execution_count": null,
   "id": "b054e5ad-b4ea-402e-89de-4991ff270b2e",
   "metadata": {},
   "outputs": [],
   "source": []
  }
 ],
 "metadata": {
  "kernelspec": {
   "display_name": "Python [conda env:base] *",
   "language": "python",
   "name": "conda-base-py"
  },
  "language_info": {
   "codemirror_mode": {
    "name": "ipython",
    "version": 3
   },
   "file_extension": ".py",
   "mimetype": "text/x-python",
   "name": "python",
   "nbconvert_exporter": "python",
   "pygments_lexer": "ipython3",
   "version": "3.12.7"
  }
 },
 "nbformat": 4,
 "nbformat_minor": 5
}
