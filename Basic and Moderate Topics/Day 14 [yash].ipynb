{
 "cells": [
  {
   "cell_type": "code",
   "execution_count": 7,
   "id": "09ac6ee9-452c-408d-a908-7d6c67986f2c",
   "metadata": {},
   "outputs": [
    {
     "name": "stdout",
     "output_type": "stream",
     "text": [
      "[1, 9, 25, 49, 81, 121, 169, 225]\n"
     ]
    }
   ],
   "source": [
    "#List comprehension\n",
    "\n",
    "square = [ x**2 for x in range(1,16) if(x%2 !=0)]\n",
    "print(square)"
   ]
  },
  {
   "cell_type": "code",
   "execution_count": 8,
   "id": "f558b463-e215-4e69-b95f-ffb016bd14e3",
   "metadata": {},
   "outputs": [
    {
     "data": {
      "text/plain": [
       "['APPLE', 'FRUITS', 'PINEAPPLE']"
      ]
     },
     "execution_count": 8,
     "metadata": {},
     "output_type": "execute_result"
    }
   ],
   "source": [
    "#change the items of list in upper case \n",
    "geeta = ['apple' , 'fruits' , 'pineapple']\n",
    "upper_case = [x.upper() for x in geeta ]\n",
    "upper_case\n",
    "\n"
   ]
  },
  {
   "cell_type": "code",
   "execution_count": 12,
   "id": "d909d012-4403-4b7c-b813-e3955325e24a",
   "metadata": {},
   "outputs": [
    {
     "data": {
      "text/plain": [
       "[5, 6, 9]"
      ]
     },
     "execution_count": 12,
     "metadata": {},
     "output_type": "execute_result"
    }
   ],
   "source": [
    "geeta = [\"apple\" , \"fruits\" , \"pineapple\"]\n",
    "length_geeta = [len(x) for x in geeta]\n",
    "length_geeta\n"
   ]
  },
  {
   "cell_type": "code",
   "execution_count": 17,
   "id": "de853e20-9e4f-4b2f-9ba7-c59cfef72785",
   "metadata": {},
   "outputs": [
    {
     "data": {
      "text/plain": [
       "['1', '2', '3', '4', '5', '6']"
      ]
     },
     "execution_count": 17,
     "metadata": {},
     "output_type": "execute_result"
    }
   ],
   "source": [
    "# Extract digit from a given string\n",
    "text = \"abc123def456\"\n",
    "extract_digit = [ x for x in text if x.isdigit() ]\n",
    "extract_digit"
   ]
  },
  {
   "cell_type": "code",
   "execution_count": 20,
   "id": "ff48487b-0f6e-4d20-8335-3099ad369dd8",
   "metadata": {},
   "outputs": [
    {
     "data": {
      "text/plain": [
       "{2: 4,\n",
       " 4: 16,\n",
       " 6: 36,\n",
       " 8: 64,\n",
       " 10: 100,\n",
       " 12: 144,\n",
       " 14: 196,\n",
       " 16: 256,\n",
       " 18: 324,\n",
       " 20: 400,\n",
       " 22: 484,\n",
       " 24: 576}"
      ]
     },
     "execution_count": 20,
     "metadata": {},
     "output_type": "execute_result"
    }
   ],
   "source": [
    "# Dictionary comprehension \n",
    "# squares of even numbers 1 to 25 using dictionary comprehension \n",
    "\n",
    "squares = { x : x**2 for x in range(1,26) if(x %2 == 0) }\n",
    "squares"
   ]
  },
  {
   "cell_type": "code",
   "execution_count": 22,
   "id": "1fdac84f-556f-40c8-a721-043031c1912b",
   "metadata": {},
   "outputs": [
    {
     "data": {
      "text/plain": [
       "{3: 9,\n",
       " 6: 36,\n",
       " 9: 81,\n",
       " 12: 144,\n",
       " 15: 225,\n",
       " 18: 324,\n",
       " 21: 441,\n",
       " 24: 576,\n",
       " 27: 729,\n",
       " 30: 900,\n",
       " 33: 1089,\n",
       " 36: 1296,\n",
       " 39: 1521,\n",
       " 42: 1764,\n",
       " 45: 2025,\n",
       " 48: 2304}"
      ]
     },
     "execution_count": 22,
     "metadata": {},
     "output_type": "execute_result"
    }
   ],
   "source": [
    "# make dictionary of square of all multiple of 3 between 1 to 50 usinf dictianry\n",
    "\n",
    "multiple = { x : x**2 for x in range( 1,51) if(x%3== 0)}\n",
    "multiple"
   ]
  },
  {
   "cell_type": "code",
   "execution_count": 24,
   "id": "301ce9da-0062-4a1f-ae7e-3d52538d871b",
   "metadata": {},
   "outputs": [
    {
     "data": {
      "text/plain": [
       "{'rohan': 1123,\n",
       " 'sameer': 1156,\n",
       " 'mayank': 1103,\n",
       " 'ajay': 1120,\n",
       " 'priyanshu': 1002}"
      ]
     },
     "execution_count": 24,
     "metadata": {},
     "output_type": "execute_result"
    }
   ],
   "source": [
    "name = [ 'rohan' , 'sameer' , 'mayank' , 'ajay' , 'priyanshu']\n",
    "roll_no = [ 1123 , 1156 , 1103 , 1120  , 1002 ]\n",
    "\n",
    "data = { name : roll_no for name, roll_no in zip(name , roll_no) }\n",
    "data"
   ]
  },
  {
   "cell_type": "code",
   "execution_count": 29,
   "id": "b91886f4-eec1-4256-a0ca-33ac5411b2cd",
   "metadata": {},
   "outputs": [
    {
     "name": "stdout",
     "output_type": "stream",
     "text": [
      "{'Maths': 98, 'English': 78, 'PHE': 62}\n"
     ]
    }
   ],
   "source": [
    "marks = { 'Maths' : 98 , 'English' : 78 , 'Physics' : 15 , 'Chemistry' : 35 , 'PHE' : 62}\n",
    "dict = { subject : mark for subject , mark in marks.items() if mark > 50}\n",
    "print(dict)"
   ]
  },
  {
   "cell_type": "code",
   "execution_count": 32,
   "id": "716b2ec3-f6f6-4d4c-85a3-e143118b7126",
   "metadata": {},
   "outputs": [
    {
     "data": {
      "text/plain": [
       "{'Chemistry': 35}"
      ]
     },
     "execution_count": 32,
     "metadata": {},
     "output_type": "execute_result"
    }
   ],
   "source": [
    "# Filter the marks of Chemistry\n",
    "dict = { subject : mark for subject , mark in marks.items() if subject == \"Chemistry\"}\n",
    "dict"
   ]
  },
  {
   "cell_type": "code",
   "execution_count": 34,
   "id": "fda58b78-6168-4054-a1b5-63c0cc20977e",
   "metadata": {},
   "outputs": [
    {
     "name": "stdout",
     "output_type": "stream",
     "text": [
      "{98: 'Maths', 78: 'English', 15: 'Physics', 35: 'Chemistry', 62: 'PHE'}\n"
     ]
    }
   ],
   "source": [
    "# invert a dictionary ( key <-> value )\n",
    "marks = { 'Maths' : 98 , 'English' : 78 , 'Physics' : 15 , 'Chemistry' : 35 , 'PHE' : 62}\n",
    "dict = { mark : subject for subject , mark in marks.items() }\n",
    "print(dict)"
   ]
  },
  {
   "cell_type": "code",
   "execution_count": 39,
   "id": "5d361774-9c6f-4952-a445-7aa5a26b902e",
   "metadata": {},
   "outputs": [
    {
     "data": {
      "text/plain": [
       "{'g': 1,\n",
       " 'e': 3,\n",
       " 't': 2,\n",
       " 'a': 1,\n",
       " ' ': 1,\n",
       " 'u': 1,\n",
       " 'n': 1,\n",
       " 'i': 2,\n",
       " 'v': 1,\n",
       " 'r': 1,\n",
       " 's': 1,\n",
       " 'y': 1}"
      ]
     },
     "execution_count": 39,
     "metadata": {},
     "output_type": "execute_result"
    }
   ],
   "source": [
    "# count occurences of \n",
    "name = \"geeta university\"\n",
    "char_count = { char : name.count(char) for char in name}\n",
    "char_count"
   ]
  },
  {
   "cell_type": "code",
   "execution_count": 40,
   "id": "78ddec8e-631d-42f3-9287-7ff5f0c16f50",
   "metadata": {},
   "outputs": [
    {
     "name": "stdout",
     "output_type": "stream",
     "text": [
      "a =  10\n",
      "b =  20\n",
      "c =  30\n",
      "d =  40\n"
     ]
    }
   ],
   "source": [
    "# Packing & unpacking a list and dictionary\n",
    "my_list = [ 10 , 20 , 30 , 40]\n",
    "a , b ,c ,d = my_list\n",
    "print(\"a = \" , a )\n",
    "print(\"b = \" , b )\n",
    "print(\"c = \" , c )\n",
    "print(\"d = \" , d )"
   ]
  },
  {
   "cell_type": "code",
   "execution_count": 45,
   "id": "502c0154-d795-4da9-8ccc-63b17eab2381",
   "metadata": {},
   "outputs": [
    {
     "name": "stdout",
     "output_type": "stream",
     "text": [
      "a =  10\n",
      "b =  [20, 30]\n",
      "c =  40\n"
     ]
    }
   ],
   "source": [
    "# using * for extended unpacking in lists\n",
    "a  , *b , c  = my_list\n",
    "print(\"a = \" , a )\n",
    "print(\"b = \" , b )\n",
    "print(\"c = \" , c )"
   ]
  },
  {
   "cell_type": "code",
   "execution_count": 46,
   "id": "5f6719ca-c923-45a6-9505-420b924abbe0",
   "metadata": {},
   "outputs": [
    {
     "name": "stdout",
     "output_type": "stream",
     "text": [
      "60\n"
     ]
    }
   ],
   "source": [
    "# unpacking in  function argument\n",
    "def add(a,b,c):\n",
    "    return a+b+c\n",
    "\n",
    "my_list = [10,20,30]\n",
    "print(add(*my_list))\n"
   ]
  },
  {
   "cell_type": "code",
   "execution_count": 48,
   "id": "2cb2cdd0-c661-4578-a5f3-0cb3b287394e",
   "metadata": {},
   "outputs": [
    {
     "name": "stdout",
     "output_type": "stream",
     "text": [
      "Hello Alice\n",
      "Hello Bob\n",
      "Hello Charlie\n",
      "Hello Atul\n",
      "Hello Mayank\n",
      "Hello Vinay\n"
     ]
    }
   ],
   "source": [
    "# List packing in Function Paramteters (using args)\n",
    "def greet_all(*names):\n",
    "    for name in names :\n",
    "        print(\"Hello\" , name )\n",
    "\n",
    "greet_all(\"Alice\" , \"Bob\" , \"Charlie\" , \"Atul\" , \"Mayank\" , \"Vinay\")"
   ]
  },
  {
   "cell_type": "code",
   "execution_count": 49,
   "id": "2ef9d9cd-7cf9-42d8-9cc3-c7d3348b183b",
   "metadata": {},
   "outputs": [
    {
     "name": "stdout",
     "output_type": "stream",
     "text": [
      "{'name': 'Alice', 'age': 25, 'city': 'Delhi'}\n"
     ]
    }
   ],
   "source": [
    "# Unpacking a dictionary\n",
    "my_dict = {\n",
    "     'name' : 'Alice',\n",
    "     'age': 25,\n",
    "     'city' : 'Delhi'\n",
    " }\n",
    "print(my_dict)\n"
   ]
  },
  {
   "cell_type": "code",
   "execution_count": 50,
   "id": "303df18d-f4e7-4513-a10e-92b0adeab3b2",
   "metadata": {},
   "outputs": [
    {
     "name": "stdout",
     "output_type": "stream",
     "text": [
      "Alice 25 Delhi\n"
     ]
    }
   ],
   "source": [
    "name , age , city = my_dict.values()\n",
    "print(name , age , city )"
   ]
  },
  {
   "cell_type": "code",
   "execution_count": 52,
   "id": "3afc2f2e-0934-4c4c-97e9-2be9c004c22e",
   "metadata": {},
   "outputs": [
    {
     "name": "stdout",
     "output_type": "stream",
     "text": [
      "Name : Alice , Age : 25 , City : Delhi\n"
     ]
    }
   ],
   "source": [
    "# Using ** to Unpack Dictionaries into functions\n",
    "def display(name , age , city) :\n",
    "    print(f\"Name : {name} , Age : {age} , City : {city}\")\n",
    "\n",
    "data = {'name' : 'Alice' , 'age' : 25 , 'city' : 'Delhi' }\n",
    "\n",
    "display(**data)"
   ]
  },
  {
   "cell_type": "code",
   "execution_count": 53,
   "id": "88b8a28c-b7c3-4397-bf84-73f0e296eef1",
   "metadata": {},
   "outputs": [
    {
     "name": "stdout",
     "output_type": "stream",
     "text": [
      " name : John\n",
      " grade : A\n",
      " subject : Math\n"
     ]
    }
   ],
   "source": [
    "# Dictionary Packing with **kwargs\n",
    "def student_info(**kwargs):\n",
    "    for key, value in kwargs.items():\n",
    "        print(f\" {key} : {value}\")\n",
    "\n",
    "student_info(name = \"John\" , grade = \"A\" , subject = \"Math\")"
   ]
  },
  {
   "cell_type": "code",
   "execution_count": 54,
   "id": "7fdfc658-a2bb-4436-ad4c-993113106d67",
   "metadata": {},
   "outputs": [
    {
     "name": "stdout",
     "output_type": "stream",
     "text": [
      "{'a': 1, 'b': 2, 'c': 3, 'd': 4}\n"
     ]
    }
   ],
   "source": [
    "# Merging Dictionaries with ** Unpacking\n",
    "dict1 = { 'a' : 1 , 'b' : 2}\n",
    "dict2 = { 'c' : 3 , 'd' : 4}\n",
    "\n",
    "merged = { **dict1 , **dict2}\n",
    "print(merged)"
   ]
  },
  {
   "cell_type": "code",
   "execution_count": null,
   "id": "c6f6044c-aba5-48a9-a724-848d240c2b89",
   "metadata": {},
   "outputs": [],
   "source": []
  },
  {
   "cell_type": "code",
   "execution_count": null,
   "id": "1bd43974-c962-49c4-86f5-ded11c646ee5",
   "metadata": {},
   "outputs": [],
   "source": []
  }
 ],
 "metadata": {
  "kernelspec": {
   "display_name": "Python [conda env:base] *",
   "language": "python",
   "name": "conda-base-py"
  },
  "language_info": {
   "codemirror_mode": {
    "name": "ipython",
    "version": 3
   },
   "file_extension": ".py",
   "mimetype": "text/x-python",
   "name": "python",
   "nbconvert_exporter": "python",
   "pygments_lexer": "ipython3",
   "version": "3.12.7"
  }
 },
 "nbformat": 4,
 "nbformat_minor": 5
}
