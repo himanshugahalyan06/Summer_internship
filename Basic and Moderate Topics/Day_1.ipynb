{
 "cells": [
  {
   "cell_type": "code",
   "execution_count": null,
   "id": "484997d0",
   "metadata": {},
   "outputs": [
    {
     "name": "stdout",
     "output_type": "stream",
     "text": [
      "Hi EveryoneMy!!\n",
      "Name is: Himanshu Gahalyan\n",
      "I am Learning Python\n"
     ]
    }
   ],
   "source": [
    "print(\"Hi EveryoneMy!!\\nName is: Himanshu Gahalyan\\nI am Learning Python\")\n"
   ]
  },
  {
   "cell_type": "code",
   "execution_count": null,
   "id": "5425161d",
   "metadata": {},
   "outputs": [
    {
     "name": "stdout",
     "output_type": "stream",
     "text": [
      "Hi EveryoneMy!!\n",
      "Name is: Himanshu Gahalyan\n",
      "I am Learning Python\n"
     ]
    }
   ],
   "source": [
    "print('Hi EveryoneMy!!\\nName is: Himanshu Gahalyan\\nI am Learning Python')\n"
   ]
  },
  {
   "cell_type": "code",
   "execution_count": null,
   "id": "e8361330",
   "metadata": {},
   "outputs": [
    {
     "name": "stdout",
     "output_type": "stream",
     "text": [
      "Hi EveryoneMy!!\n",
      "Name is: Himanshu Gahalyan\n",
      "I am Learning Python\n"
     ]
    }
   ],
   "source": [
    "print('''Hi EveryoneMy!!\\nName is: Himanshu Gahalyan\\nI am Learning Python''')\n"
   ]
  },
  {
   "cell_type": "code",
   "execution_count": null,
   "id": "b0558e9f",
   "metadata": {},
   "outputs": [
    {
     "name": "stdout",
     "output_type": "stream",
     "text": [
      "55\n"
     ]
    }
   ],
   "source": [
    "print(\"5\"+\"5\")\n"
   ]
  },
  {
   "cell_type": "code",
   "execution_count": null,
   "id": "8dee2879",
   "metadata": {},
   "outputs": [
    {
     "name": "stdout",
     "output_type": "stream",
     "text": [
      "10\n"
     ]
    }
   ],
   "source": [
    "print(5+5)\n"
   ]
  },
  {
   "cell_type": "code",
   "execution_count": null,
   "id": "4b88e123",
   "metadata": {},
   "outputs": [
    {
     "data": {
      "text/plain": [
       "30"
      ]
     },
     "execution_count": 15,
     "metadata": {},
     "output_type": "execute_result"
    }
   ],
   "source": [
    "10+20\n"
   ]
  },
  {
   "cell_type": "code",
   "execution_count": null,
   "id": "d4612ede",
   "metadata": {},
   "outputs": [
    {
     "data": {
      "text/plain": [
       "50"
      ]
     },
     "execution_count": 16,
     "metadata": {},
     "output_type": "execute_result"
    }
   ],
   "source": [
    "5*10\n"
   ]
  },
  {
   "cell_type": "code",
   "execution_count": null,
   "id": "0cc46f0a",
   "metadata": {},
   "outputs": [
    {
     "data": {
      "text/plain": [
       "25"
      ]
     },
     "execution_count": 17,
     "metadata": {},
     "output_type": "execute_result"
    }
   ],
   "source": [
    "5**2\n"
   ]
  },
  {
   "cell_type": "code",
   "execution_count": null,
   "id": "2384a90a",
   "metadata": {},
   "outputs": [
    {
     "data": {
      "text/plain": [
       "5"
      ]
     },
     "execution_count": 18,
     "metadata": {},
     "output_type": "execute_result"
    }
   ],
   "source": [
    "# Adddition\n",
    "2+3\n"
   ]
  },
  {
   "cell_type": "code",
   "execution_count": null,
   "id": "fbd5965f",
   "metadata": {},
   "outputs": [
    {
     "name": "stdout",
     "output_type": "stream",
     "text": [
      "36\n"
     ]
    }
   ],
   "source": [
    "# Line Continuation\n",
    "\n",
    "x=1+2+3+4+5\\\n",
    "+6+7+8\n",
    "print(x)\n"
   ]
  },
  {
   "cell_type": "code",
   "execution_count": 25,
   "id": "0e4c2d37",
   "metadata": {},
   "outputs": [
    {
     "name": "stdout",
     "output_type": "stream",
     "text": [
      "My Nmae is:  Himanshu Gahalyan \n",
      "My age is:  19 \n",
      "My weight is:  75.1\n"
     ]
    }
   ],
   "source": [
    "# Literals - constant values in python\n",
    "\n",
    "name=\"Himanshu Gahalyan\"   # string\n",
    "age=19 #numeric\n",
    "weight=75.10 #float\n",
    "print(\"My Nmae is: \",name,\"\\n\"\"My age is: \",age,\"\\n\"\"My weight is: \",weight)\n",
    "\n"
   ]
  },
  {
   "cell_type": "code",
   "execution_count": null,
   "id": "52fea0ec",
   "metadata": {},
   "outputs": [
    {
     "name": "stdout",
     "output_type": "stream",
     "text": [
      "addation: 10\n",
      "multiplication: 25\n",
      "subtraction: 2\n",
      "division: 2.5\n",
      "integer part: 2\n",
      "remainder: 1\n",
      "power: 125\n"
     ]
    }
   ],
   "source": [
    "# Arithmetic Operator\n",
    "a=5+5\n",
    "b=5*5\n",
    "c=5-3\n",
    "d=5/2\n",
    "e=5//2\n",
    "f=5%2\n",
    "g=5**3\n",
    "print(\"addation:\",a)\n",
    "print(\"multiplication:\",b)\n",
    "print(\"subtraction:\",c)\n",
    "print(\"division:\",d)\n",
    "print(\"integer part:\",e)\n",
    "print(\"remainder:\",f)\n",
    "print(\"power:\",g)\n"
   ]
  },
  {
   "cell_type": "code",
   "execution_count": null,
   "id": "695ff8dd",
   "metadata": {},
   "outputs": [
    {
     "data": {
      "text/plain": [
       "False"
      ]
     },
     "execution_count": 30,
     "metadata": {},
     "output_type": "execute_result"
    }
   ],
   "source": [
    "# comparision\n",
    "5==5  #eqaul\n"
   ]
  },
  {
   "cell_type": "code",
   "execution_count": null,
   "id": "9fa32a12",
   "metadata": {},
   "outputs": [
    {
     "data": {
      "text/plain": [
       "True"
      ]
     },
     "execution_count": 31,
     "metadata": {},
     "output_type": "execute_result"
    }
   ],
   "source": [
    "#not eqaul\n",
    "3!=5\n"
   ]
  },
  {
   "cell_type": "code",
   "execution_count": null,
   "id": "cc2ff039",
   "metadata": {},
   "outputs": [
    {
     "data": {
      "text/plain": [
       "True"
      ]
     },
     "execution_count": 32,
     "metadata": {},
     "output_type": "execute_result"
    }
   ],
   "source": [
    "#less than\n",
    "3<4\n"
   ]
  },
  {
   "cell_type": "code",
   "execution_count": null,
   "id": "c4e80a94",
   "metadata": {},
   "outputs": [
    {
     "data": {
      "text/plain": [
       "True"
      ]
     },
     "execution_count": 33,
     "metadata": {},
     "output_type": "execute_result"
    }
   ],
   "source": [
    "#grater than\n",
    "4<5\n"
   ]
  },
  {
   "cell_type": "code",
   "execution_count": null,
   "id": "b9e4bf0e",
   "metadata": {},
   "outputs": [
    {
     "data": {
      "text/plain": [
       "True"
      ]
     },
     "execution_count": 34,
     "metadata": {},
     "output_type": "execute_result"
    }
   ],
   "source": [
    "#less than or equal\n",
    "3<=5\n"
   ]
  },
  {
   "cell_type": "code",
   "execution_count": null,
   "id": "5e55ed02",
   "metadata": {},
   "outputs": [
    {
     "data": {
      "text/plain": [
       "True"
      ]
     },
     "execution_count": 36,
     "metadata": {},
     "output_type": "execute_result"
    }
   ],
   "source": [
    "#grater than ot eqaul\n",
    "5<=10\n"
   ]
  },
  {
   "cell_type": "code",
   "execution_count": null,
   "id": "60647725",
   "metadata": {},
   "outputs": [
    {
     "name": "stdout",
     "output_type": "stream",
     "text": [
      "Yes, I will accept offer \n"
     ]
    }
   ],
   "source": [
    "## Logical Operator are used to combine two or more conditions \n",
    "\n",
    "sal=500000\n",
    "location=\"Noida\"\n",
    "\n",
    "# logical AND\n",
    "\n",
    "if sal>=500000 and location==\"Noida\":\n",
    "    print(\"Yes, I will accept the offer \")\n",
    "else:\n",
    "    print(\"I will not accept the offer\")      # both condition must be true \n"
   ]
  },
  {
   "cell_type": "code",
   "execution_count": null,
   "id": "25f74f4c",
   "metadata": {},
   "outputs": [
    {
     "name": "stdout",
     "output_type": "stream",
     "text": [
      "Yes, I will accept offer \n"
     ]
    }
   ],
   "source": [
    "# logical OR\n",
    "\n",
    "sal=500000       # one must be true \n",
    "location=\"Noida\"\n",
    "if sal>=500000 or location==\"Delhi\":\n",
    "    print(\"Yes, I will accept offer \")\n",
    "else:\n",
    "    print(\"I will not accept the offer\")\n"
   ]
  },
  {
   "cell_type": "code",
   "execution_count": null,
   "id": "ad5e846e",
   "metadata": {},
   "outputs": [
    {
     "data": {
      "text/plain": [
       "False"
      ]
     },
     "execution_count": 47,
     "metadata": {},
     "output_type": "execute_result"
    }
   ],
   "source": [
    "# logical NOT \n",
    "# it will reverse the condition make true in flase and vice-versa \n",
    "\n",
    "a=True\n",
    "not a \n"
   ]
  },
  {
   "cell_type": "code",
   "execution_count": 2,
   "id": "9f5251d5",
   "metadata": {},
   "outputs": [
    {
     "data": {
      "text/plain": [
       "True"
      ]
     },
     "execution_count": 2,
     "metadata": {},
     "output_type": "execute_result"
    }
   ],
   "source": [
    "b=False\n",
    "not b\n"
   ]
  },
  {
   "cell_type": "markdown",
   "id": "5f0e7ac0",
   "metadata": {},
   "source": [
    "# Practise Questions Day 1 \n",
    "\n"
   ]
  },
  {
   "cell_type": "code",
   "execution_count": null,
   "id": "e95aedb4",
   "metadata": {},
   "outputs": [],
   "source": []
  },
  {
   "cell_type": "code",
   "execution_count": 3,
   "id": "75b1596c",
   "metadata": {},
   "outputs": [
    {
     "name": "stdout",
     "output_type": "stream",
     "text": [
      "Welcome to python\n"
     ]
    }
   ],
   "source": [
    "# Question 1\n",
    "\n",
    "# This program prints a welcome message \n",
    "\n",
    "print('Welcome to python')\n"
   ]
  },
  {
   "cell_type": "code",
   "execution_count": 4,
   "id": "5c62d4e5",
   "metadata": {},
   "outputs": [
    {
     "name": "stdout",
     "output_type": "stream",
     "text": [
      " \n",
      "this is the basic code python \n",
      "in python we learn pandas, matplot lib ,and numpy \n",
      "\n"
     ]
    }
   ],
   "source": [
    "#  Question 2\n",
    "# Multiline comment \n",
    "\n",
    "print(''' \n",
    "this is the basic code python \n",
    "in python we learn pandas, matplot lib ,and numpy \n",
    "''')\n"
   ]
  },
  {
   "cell_type": "code",
   "execution_count": 5,
   "id": "4d2eb66f",
   "metadata": {},
   "outputs": [
    {
     "name": "stdout",
     "output_type": "stream",
     "text": [
      "You can vote!!\n"
     ]
    }
   ],
   "source": [
    "# Question 3\n",
    "# Declaring variable\n",
    "\n",
    "name=input(\"Enter your Name: \")\n",
    "age=int(input(\"Enter your age: \"))\n",
    "\n",
    "# Using a Variable\n",
    "\n",
    "if age>=18:\n",
    "    print(\"You can vote!!\")\n",
    "else:\n",
    "    print(\"You are a Minor!!\")\n"
   ]
  },
  {
   "cell_type": "code",
   "execution_count": null,
   "id": "858a3f05",
   "metadata": {},
   "outputs": [
    {
     "name": "stdout",
     "output_type": "stream",
     "text": [
      "The area of the Circle is:  12.52 cm\n"
     ]
    }
   ],
   "source": [
    "# Question 4\n",
    "\n",
    "# Using constants(Upper naming by convention)      \n",
    "\n",
    "PI=float(input(\"Enter the Value: \"))\n",
    "radius=float(input(\"Enter the value: \"))\n",
    "\n",
    "# Area of a Circle\n",
    "\n",
    "area=PI*radius**2\n",
    "\n",
    "print(\"The area of the Circle is: \",area,\"cm\")\n"
   ]
  },
  {
   "cell_type": "code",
   "execution_count": 11,
   "id": "14f65ab0",
   "metadata": {},
   "outputs": [
    {
     "name": "stdout",
     "output_type": "stream",
     "text": [
      "The total is:  150\n"
     ]
    }
   ],
   "source": [
    "# Question 5\n",
    "# Combining Comments and variable\n",
    "\n",
    "# Declare price and quantity\n",
    "price=50\n",
    "quatity=3\n",
    "\n",
    "# calculate total\n",
    "\n",
    "total=price* quatity   # total price \n",
    "print(\"The total is: \",total)\n"
   ]
  },
  {
   "cell_type": "code",
   "execution_count": null,
   "id": "dd93025c",
   "metadata": {},
   "outputs": [],
   "source": [
    "# Question 6\n",
    "\n"
   ]
  },
  {
   "cell_type": "code",
   "execution_count": 14,
   "id": "e21ff5fb",
   "metadata": {},
   "outputs": [
    {
     "name": "stdout",
     "output_type": "stream",
     "text": [
      "Area of Triangle is:  300.0 cm\n"
     ]
    }
   ],
   "source": [
    "# Area of a triangle \n",
    "# by taking input \n",
    "\n",
    "height=float(input(\"Enter the a height: \"))\n",
    "base=float(input(\"Enter the a base: \",))\n",
    "area=1/2*height*base\n",
    "\n",
    "print(\"Area of Triangle is: \",area,\"cm\")\n",
    "\n"
   ]
  },
  {
   "cell_type": "code",
   "execution_count": null,
   "id": "4005c98c",
   "metadata": {},
   "outputs": [
    {
     "name": "stdout",
     "output_type": "stream",
     "text": [
      "Area of the Rectabgle is:  74.908 cm\n"
     ]
    }
   ],
   "source": [
    "# area of a recatangle\n",
    "\n",
    "lenght=float(input(\"Enter the lenght: \"))\n",
    "width=float(input(\"Enter the width: \"))\n",
    "\n",
    "area=lenght*width\n",
    "\n",
    "print(\"Area of the Rectabgle is: \",area,\"cm\")\n"
   ]
  },
  {
   "cell_type": "code",
   "execution_count": 17,
   "id": "3d5e94ea",
   "metadata": {},
   "outputs": [
    {
     "name": "stdout",
     "output_type": "stream",
     "text": [
      "X= 10 Y= 20 Z= 30\n"
     ]
    }
   ],
   "source": [
    "# Question 7\n",
    "# Declare multiple variables in one line\n",
    "x,y,z=10,20,30\n",
    "print(\"X=\",x,\"Y=\",y,\"Z=\",z)\n"
   ]
  },
  {
   "cell_type": "code",
   "execution_count": null,
   "id": "08380466",
   "metadata": {},
   "outputs": [
    {
     "name": "stdout",
     "output_type": "stream",
     "text": [
      "X= 10\n",
      "Y= 15\n"
     ]
    }
   ],
   "source": [
    "# Question 8\n",
    "#Changing variable values\n",
    "\n",
    "# initial value\n",
    "x=10\n",
    "print(\"X=\",x)\n",
    "\n",
    "#updating value\n",
    "y=x+5\n",
    "print(\"Y=\",y)\n"
   ]
  },
  {
   "cell_type": "code",
   "execution_count": null,
   "id": "e90a34ee",
   "metadata": {},
   "outputs": [
    {
     "name": "stdout",
     "output_type": "stream",
     "text": [
      "Final price after tax:  1416.0\n"
     ]
    }
   ],
   "source": [
    "#Question 9\n",
    "# Mix of variable and constants\n",
    "\n",
    "# Constant\n",
    "TAX_RATE=0.18\n",
    "\n",
    "# Variable \n",
    "item_price=1200\n",
    "tax=item_price*TAX_RATE\n",
    "\n",
    "Final_price=item_price+tax\n",
    "\n",
    "print(\"Final price after tax: \",Final_price)\n"
   ]
  },
  {
   "cell_type": "code",
   "execution_count": null,
   "id": "336dee71",
   "metadata": {},
   "outputs": [],
   "source": []
  }
 ],
 "metadata": {
  "kernelspec": {
   "display_name": "Python 3",
   "language": "python",
   "name": "python3"
  },
  "language_info": {
   "codemirror_mode": {
    "name": "ipython",
    "version": 3
   },
   "file_extension": ".py",
   "mimetype": "text/x-python",
   "name": "python",
   "nbconvert_exporter": "python",
   "pygments_lexer": "ipython3",
   "version": "3.11.8"
  }
 },
 "nbformat": 4,
 "nbformat_minor": 5
}
